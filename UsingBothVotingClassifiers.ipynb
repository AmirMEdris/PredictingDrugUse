{
 "cells": [
  {
   "cell_type": "code",
   "execution_count": 201,
   "metadata": {},
   "outputs": [],
   "source": [
    "#imports\n",
    "#load in standard data \n",
    "#load in models\n",
    "\n",
    "from imblearn.under_sampling import TomekLinks\n",
    "from imblearn.over_sampling import SMOTE\n",
    "import pandas as pd\n",
    "import sklearn\n",
    "from imblearn.combine import SMOTETomek\n",
    "from sklearn.linear_model import LogisticRegression\n",
    "from sklearn.metrics import f1_score,confusion_matrix,accuracy_score,classification_report\n",
    "from sklearn.model_selection import train_test_split,GridSearchCV\n",
    "from sklearn.tree import DecisionTreeClassifier\n",
    "from sklearn.ensemble import RandomForestClassifier,VotingClassifier\n",
    "from sklearn.preprocessing import PolynomialFeatures,StandardScaler\n",
    "from sklearn.feature_selection import SelectKBest\n",
    "from sklearn.neighbors import KNeighborsClassifier\n",
    "from sklearn.pipeline import Pipeline\n",
    "pd.set_option('display.max_columns', 500)\n",
    "import pickle as pkl\n",
    "vtc1 = pkl.load(open('vtc.pkl','rb'))\n",
    "vtc2 = pkl.load(open('vtcpoly.pkl','rb'))\n",
    "df1 = pd.read_csv('prepeddata.csv',index_col='Unnamed: 0')\n",
    "df1['stimulant'] = df1['stimulant'].apply(lambda x: 'low' if x <= 2 else 'high')\n",
    "\n",
    "\n",
    "stimtestdata = df1.drop(['hallucinagen','depressant'],axis = 1)\n",
    "stimx = df1.drop('stimulant',axis = 1)\n",
    "stimy = df1.stimulant\n",
    "\n",
    "\n",
    "\n",
    "poly=PolynomialFeatures(degree=3,interaction_only=True)\n",
    "scaler = StandardScaler()\n",
    "polyscaler = StandardScaler()\n",
    "selector = SelectKBest(k=43)"
   ]
  },
  {
   "cell_type": "code",
   "execution_count": 202,
   "metadata": {},
   "outputs": [],
   "source": [
    "#traintest split default data \n",
    "stimXtrain,stimXtest,stimYtrain,stimYtest = train_test_split(stimx,stimy)\n",
    "sm = SMOTE()\n",
    "tl = TomekLinks()\n",
    "sampling = SMOTETomek( random_state=None, smote=sm, tomek=tl, n_jobs=1)\n",
    "\n",
    "\n",
    "stimXtrain, stimYtrain = sampling.fit_resample(stimXtrain, stimYtrain)"
   ]
  },
  {
   "cell_type": "code",
   "execution_count": 203,
   "metadata": {},
   "outputs": [],
   "source": [
    "#fit std scaler to default data?"
   ]
  },
  {
   "cell_type": "code",
   "execution_count": 204,
   "metadata": {},
   "outputs": [
    {
     "data": {
      "text/plain": [
       "Pipeline(steps=[('scaler', StandardScaler()),\n",
       "                ('model',\n",
       "                 VotingClassifier(estimators=[('model1',\n",
       "                                               LogisticRegression(C=0.1,\n",
       "                                                                  class_weight='auto',\n",
       "                                                                  max_iter=1000,\n",
       "                                                                  solver='sag',\n",
       "                                                                  warm_start=True)),\n",
       "                                              ('model2',\n",
       "                                               LogisticRegression(C=1,\n",
       "                                                                  class_weight='auto',\n",
       "                                                                  max_iter=1000,\n",
       "                                                                  penalty='l1',\n",
       "                                                                  solver='saga',\n",
       "                                                                  tol=0,\n",
       "                                                                  warm_start=True)),\n",
       "                                              ('model3',\n",
       "                                               LogisticRegression(C=0.1,\n",
       "                                                                  class_weight='a...\n",
       "                                                                      min_impurity_decrease=0.01)),\n",
       "                                              ('model7',\n",
       "                                               KNeighborsClassifier(n_neighbors=1)),\n",
       "                                              ('model8',\n",
       "                                               KNeighborsClassifier(n_neighbors=51)),\n",
       "                                              ('model9',\n",
       "                                               RandomForestClassifier(class_weight='balanced_subsample',\n",
       "                                                                      criterion='entropy',\n",
       "                                                                      n_estimators=500)),\n",
       "                                              ('model10',\n",
       "                                               RandomForestClassifier(class_weight='balanced_subsample',\n",
       "                                                                      n_estimators=500))],\n",
       "                                  n_jobs=-1, verbose=True, voting='soft'))])"
      ]
     },
     "execution_count": 204,
     "metadata": {},
     "output_type": "execute_result"
    }
   ],
   "source": [
    "#make a pipeline of standard vtc\n",
    "stdvtc = Pipeline([('scaler',scaler),('model', vtc1)])\n",
    "stdvtc.fit(stimXtrain,stimYtrain)"
   ]
  },
  {
   "cell_type": "code",
   "execution_count": 205,
   "metadata": {},
   "outputs": [],
   "source": [
    "#instantiate d3 interaction only polyfeats"
   ]
  },
  {
   "cell_type": "code",
   "execution_count": 206,
   "metadata": {},
   "outputs": [],
   "source": [
    "#instantiate select k best k =43"
   ]
  },
  {
   "cell_type": "code",
   "execution_count": 207,
   "metadata": {},
   "outputs": [],
   "source": [
    "#instantiate standardscaler"
   ]
  },
  {
   "cell_type": "code",
   "execution_count": 208,
   "metadata": {},
   "outputs": [
    {
     "name": "stderr",
     "output_type": "stream",
     "text": [
      "/opt/anaconda3/lib/python3.8/site-packages/sklearn/feature_selection/_univariate_selection.py:114: UserWarning: Features [0] are constant.\n",
      "  warnings.warn(\"Features %s are constant.\" % constant_features_idx,\n",
      "/opt/anaconda3/lib/python3.8/site-packages/sklearn/feature_selection/_univariate_selection.py:116: RuntimeWarning: invalid value encountered in true_divide\n",
      "  f = msb / msw\n"
     ]
    },
    {
     "data": {
      "text/plain": [
       "Pipeline(steps=[('poly', PolynomialFeatures(degree=3, interaction_only=True)),\n",
       "                ('selector', SelectKBest(k=43)), ('scaler', StandardScaler()),\n",
       "                ('model',\n",
       "                 VotingClassifier(estimators=[('polymodel1',\n",
       "                                               LogisticRegression(C=0.5333333333333333,\n",
       "                                                                  class_weight='auto',\n",
       "                                                                  max_iter=1000,\n",
       "                                                                  solver='sag',\n",
       "                                                                  warm_start=True)),\n",
       "                                              ('polymodel2',\n",
       "                                               LogisticRegression(C=1,\n",
       "                                                                  class_weight='auto',\n",
       "                                                                  f...\n",
       "                                                                      min_impurity_decrease=0.01,\n",
       "                                                                      min_samples_leaf=8)),\n",
       "                                              ('polymodel7',\n",
       "                                               KNeighborsClassifier(n_neighbors=1)),\n",
       "                                              ('polymodel8',\n",
       "                                               KNeighborsClassifier(n_neighbors=53)),\n",
       "                                              ('polymodel9',\n",
       "                                               RandomForestClassifier(class_weight='balanced',\n",
       "                                                                      n_estimators=500)),\n",
       "                                              ('polymodel10',\n",
       "                                               RandomForestClassifier(class_weight='balanced',\n",
       "                                                                      min_samples_leaf=3,\n",
       "                                                                      random_state=True))],\n",
       "                                  n_jobs=-1, verbose=True, voting='soft'))])"
      ]
     },
     "execution_count": 208,
     "metadata": {},
     "output_type": "execute_result"
    }
   ],
   "source": [
    "#make a pipeline of poly vtc in order\n",
    "# polyfeats\n",
    "#select k best\n",
    "#standardscaler\n",
    "polyvtc = Pipeline([('poly',poly),('selector', selector),('scaler',polyscaler),('model', vtc2)])\n",
    "polyvtc.fit(stimXtrain,stimYtrain)"
   ]
  },
  {
   "cell_type": "code",
   "execution_count": 209,
   "metadata": {},
   "outputs": [],
   "source": [
    "# fit both"
   ]
  },
  {
   "cell_type": "code",
   "execution_count": 210,
   "metadata": {},
   "outputs": [
    {
     "name": "stdout",
     "output_type": "stream",
     "text": [
      "0.9523334325639472 0.8679151232267676\n",
      "              precision    recall  f1-score   support\n",
      "\n",
      "        high       0.92      0.98      0.95      1226\n",
      "         low       0.98      0.92      0.95      1226\n",
      "\n",
      "    accuracy                           0.95      2452\n",
      "   macro avg       0.95      0.95      0.95      2452\n",
      "weighted avg       0.95      0.95      0.95      2452\n",
      "\n",
      "              precision    recall  f1-score   support\n",
      "\n",
      "        high       0.52      0.75      0.61        71\n",
      "         low       0.95      0.88      0.91       401\n",
      "\n",
      "    accuracy                           0.86       472\n",
      "   macro avg       0.74      0.81      0.76       472\n",
      "weighted avg       0.89      0.86      0.87       472\n",
      "\n"
     ]
    },
    {
     "data": {
      "text/plain": [
       "array([[1207,   19],\n",
       "       [  98, 1128]])"
      ]
     },
     "execution_count": 210,
     "metadata": {},
     "output_type": "execute_result"
    }
   ],
   "source": [
    "#check classification report for both\n",
    "vtcypred = stdvtc.predict(stimXtest)\n",
    "vtcytrain = stdvtc.predict(stimXtrain)\n",
    "\n",
    "print(f1_score(vtcytrain,stimYtrain,average='weighted'),f1_score(stimYtest,vtcypred,average='weighted'))\n",
    "print(classification_report(stimYtrain, vtcytrain))\n",
    "print(classification_report(stimYtest, vtcypred))\n",
    "\n",
    "\n",
    "\n",
    "confusion_matrix(stimYtrain, vtcytrain)"
   ]
  },
  {
   "cell_type": "code",
   "execution_count": 211,
   "metadata": {},
   "outputs": [
    {
     "data": {
      "text/plain": [
       "array([[ 53,  18],\n",
       "       [ 49, 352]])"
      ]
     },
     "execution_count": 211,
     "metadata": {},
     "output_type": "execute_result"
    }
   ],
   "source": [
    "confusion_matrix(stimYtest,vtcypred)"
   ]
  },
  {
   "cell_type": "code",
   "execution_count": 212,
   "metadata": {},
   "outputs": [
    {
     "name": "stdout",
     "output_type": "stream",
     "text": [
      "0.9482465937882255 0.8640996554048737\n",
      "              precision    recall  f1-score   support\n",
      "\n",
      "        high       0.92      0.98      0.95      1226\n",
      "         low       0.97      0.92      0.95      1226\n",
      "\n",
      "    accuracy                           0.95      2452\n",
      "   macro avg       0.95      0.95      0.95      2452\n",
      "weighted avg       0.95      0.95      0.95      2452\n",
      "\n",
      "              precision    recall  f1-score   support\n",
      "\n",
      "        high       0.50      0.79      0.62        71\n",
      "         low       0.96      0.86      0.91       401\n",
      "\n",
      "    accuracy                           0.85       472\n",
      "   macro avg       0.73      0.83      0.76       472\n",
      "weighted avg       0.89      0.85      0.86       472\n",
      "\n"
     ]
    },
    {
     "data": {
      "text/plain": [
       "array([[1197,   29],\n",
       "       [  98, 1128]])"
      ]
     },
     "execution_count": 212,
     "metadata": {},
     "output_type": "execute_result"
    }
   ],
   "source": [
    "#check classification report for both\n",
    "vtcypred = polyvtc.predict(stimXtest)\n",
    "vtcytrain = polyvtc.predict(stimXtrain)\n",
    "\n",
    "print(f1_score(vtcytrain,stimYtrain,average='weighted'),f1_score(stimYtest,vtcypred,average='weighted'))\n",
    "print(classification_report(stimYtrain, vtcytrain))\n",
    "print(classification_report(stimYtest, vtcypred))\n",
    "\n",
    "\n",
    "\n",
    "confusion_matrix(stimYtrain, vtcytrain)"
   ]
  },
  {
   "cell_type": "code",
   "execution_count": 213,
   "metadata": {},
   "outputs": [
    {
     "data": {
      "text/plain": [
       "array([[ 56,  15],\n",
       "       [ 55, 346]])"
      ]
     },
     "execution_count": 213,
     "metadata": {},
     "output_type": "execute_result"
    }
   ],
   "source": [
    "confusion_matrix(stimYtest,vtcypred)"
   ]
  },
  {
   "cell_type": "code",
   "execution_count": 214,
   "metadata": {},
   "outputs": [],
   "source": [
    "pkl.dump(stdvtc,open('finalstdvtc.pkl','wb'))\n",
    "pkl.dump(polyvtc,open('finalpolyvtc.pkl','wb'))"
   ]
  },
  {
   "cell_type": "code",
   "execution_count": 215,
   "metadata": {},
   "outputs": [
    {
     "data": {
      "text/plain": [
       "VotingClassifier(estimators=[('stdmodel',\n",
       "                              Pipeline(steps=[('scaler', StandardScaler()),\n",
       "                                              ('model',\n",
       "                                               VotingClassifier(estimators=[('model1',\n",
       "                                                                             LogisticRegression(C=0.1,\n",
       "                                                                                                class_weight='auto',\n",
       "                                                                                                max_iter=1000,\n",
       "                                                                                                solver='sag',\n",
       "                                                                                                warm_start=True)),\n",
       "                                                                            ('model2',\n",
       "                                                                             LogisticRegression(C=1,\n",
       "                                                                                                class_weight='auto',\n",
       "                                                                                                max_iter=1000,\n",
       "                                                                                                penalty='l1',\n",
       "                                                                                                solver='saga',\n",
       "                                                                                                tol=0,\n",
       "                                                                                                warm_start=True)),\n",
       "                                                                            ('model3'...\n",
       "                                                                             KNeighborsClassifier(n_neighbors=1)),\n",
       "                                                                            ('polymodel8',\n",
       "                                                                             KNeighborsClassifier(n_neighbors=53)),\n",
       "                                                                            ('polymodel9',\n",
       "                                                                             RandomForestClassifier(class_weight='balanced',\n",
       "                                                                                                    n_estimators=500)),\n",
       "                                                                            ('polymodel10',\n",
       "                                                                             RandomForestClassifier(class_weight='balanced',\n",
       "                                                                                                    min_samples_leaf=3,\n",
       "                                                                                                    random_state=True))],\n",
       "                                                                n_jobs=-1,\n",
       "                                                                verbose=True,\n",
       "                                                                voting='soft'))]))],\n",
       "                 n_jobs=-1, verbose=True, voting='soft')"
      ]
     },
     "execution_count": 215,
     "metadata": {},
     "output_type": "execute_result"
    }
   ],
   "source": [
    "finalvtc =VotingClassifier([('stdmodel',stdvtc),('polymodel',polyvtc)]\n",
    "                           ,voting='soft',verbose = True,n_jobs=-1)\n",
    "finalvtc.fit(stimXtrain,stimYtrain)\n",
    "\n",
    "\n"
   ]
  },
  {
   "cell_type": "code",
   "execution_count": 216,
   "metadata": {},
   "outputs": [
    {
     "name": "stdout",
     "output_type": "stream",
     "text": [
      "0.9527396012191669 0.8779933002902027\n",
      "              precision    recall  f1-score   support\n",
      "\n",
      "        high       0.93      0.98      0.95      1226\n",
      "         low       0.98      0.92      0.95      1226\n",
      "\n",
      "    accuracy                           0.95      2452\n",
      "   macro avg       0.95      0.95      0.95      2452\n",
      "weighted avg       0.95      0.95      0.95      2452\n",
      "\n",
      "              precision    recall  f1-score   support\n",
      "\n",
      "        high       0.54      0.79      0.64        71\n",
      "         low       0.96      0.88      0.92       401\n",
      "\n",
      "    accuracy                           0.87       472\n",
      "   macro avg       0.75      0.84      0.78       472\n",
      "weighted avg       0.90      0.87      0.88       472\n",
      "\n"
     ]
    },
    {
     "data": {
      "text/plain": [
       "array([[1207,   19],\n",
       "       [  97, 1129]])"
      ]
     },
     "execution_count": 216,
     "metadata": {},
     "output_type": "execute_result"
    }
   ],
   "source": [
    "vtcypred = finalvtc.predict(stimXtest)\n",
    "vtcytrain = finalvtc.predict(stimXtrain)\n",
    "\n",
    "print(f1_score(vtcytrain,stimYtrain,average='weighted'),f1_score(stimYtest,vtcypred,average='weighted'))\n",
    "print(classification_report(stimYtrain, vtcytrain))\n",
    "print(classification_report(stimYtest, vtcypred))\n",
    "\n",
    "\n",
    "\n",
    "confusion_matrix(stimYtrain, vtcytrain)"
   ]
  },
  {
   "cell_type": "code",
   "execution_count": 217,
   "metadata": {},
   "outputs": [
    {
     "data": {
      "text/plain": [
       "array([[ 56,  15],\n",
       "       [ 47, 354]])"
      ]
     },
     "execution_count": 217,
     "metadata": {},
     "output_type": "execute_result"
    }
   ],
   "source": [
    "confusion_matrix(stimYtest, vtcypred)"
   ]
  },
  {
   "cell_type": "code",
   "execution_count": 218,
   "metadata": {},
   "outputs": [],
   "source": [
    "pkl.dump(polyvtc,open('finaloverallvtc.pkl','wb'))"
   ]
  },
  {
   "cell_type": "code",
   "execution_count": null,
   "metadata": {},
   "outputs": [],
   "source": []
  },
  {
   "cell_type": "code",
   "execution_count": null,
   "metadata": {},
   "outputs": [],
   "source": []
  },
  {
   "cell_type": "code",
   "execution_count": null,
   "metadata": {},
   "outputs": [],
   "source": []
  }
 ],
 "metadata": {
  "kernelspec": {
   "display_name": "Python 3",
   "language": "python",
   "name": "python3"
  },
  "language_info": {
   "codemirror_mode": {
    "name": "ipython",
    "version": 3
   },
   "file_extension": ".py",
   "mimetype": "text/x-python",
   "name": "python",
   "nbconvert_exporter": "python",
   "pygments_lexer": "ipython3",
   "version": "3.8.3"
  }
 },
 "nbformat": 4,
 "nbformat_minor": 4
}
