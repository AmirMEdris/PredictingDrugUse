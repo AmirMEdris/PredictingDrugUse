{
 "cells": [
  {
   "cell_type": "code",
   "execution_count": 21,
   "metadata": {},
   "outputs": [],
   "source": [
    "#imports\n",
    "#load in standard data \n",
    "#load in models\n",
    "\n",
    "from imblearn.under_sampling import TomekLinks\n",
    "from imblearn.over_sampling import SMOTE\n",
    "import pandas as pd\n",
    "import sklearn\n",
    "from imblearn.combine import SMOTETomek\n",
    "from sklearn.linear_model import LogisticRegression\n",
    "from sklearn.metrics import f1_score,confusion_matrix,accuracy_score,classification_report,plot_confusion_matrix\n",
    "from sklearn.model_selection import train_test_split,GridSearchCV\n",
    "from sklearn.tree import DecisionTreeClassifier\n",
    "from sklearn.ensemble import RandomForestClassifier,VotingClassifier\n",
    "from sklearn.preprocessing import PolynomialFeatures,StandardScaler\n",
    "from sklearn.feature_selection import SelectKBest\n",
    "from sklearn.neighbors import KNeighborsClassifier\n",
    "from sklearn.pipeline import Pipeline\n",
    "from sklearn.ensemble import AdaBoostClassifier\n",
    "\n",
    "pd.set_option('display.max_columns', 500)\n",
    "import pickle as pkl\n",
    "vtc1 = pkl.load(open('vtc.pkl','rb'))\n",
    "vtc2 = pkl.load(open('vtcpoly.pkl','rb'))\n",
    "df1 = pd.read_csv('prepeddata.csv',index_col='Unnamed: 0')\n",
    "df1['stimulant'] = df1['stimulant'].apply(lambda x: 'low' if x <= 2 else 'high')\n",
    "\n",
    "\n",
    "stimtestdata = df1.drop(['hallucinagen','depressant'],axis = 1)\n",
    "stimx = df1.drop('stimulant',axis = 1)\n",
    "stimy = df1.stimulant\n",
    "\n",
    "\n",
    "\n",
    "poly=PolynomialFeatures(degree=3,interaction_only=True)\n",
    "scaler = StandardScaler()\n",
    "polyscaler = StandardScaler()\n",
    "selector = SelectKBest(k=43)"
   ]
  },
  {
   "cell_type": "code",
   "execution_count": 22,
   "metadata": {},
   "outputs": [],
   "source": [
    "#traintest split default data \n",
    "stimXtrain,stimXtest,stimYtrain,stimYtest = train_test_split(stimx,stimy)\n",
    "sm = SMOTE()\n",
    "tl = TomekLinks()\n",
    "sampling = SMOTETomek( random_state=None, smote=sm, tomek=tl, n_jobs=1)\n",
    "\n",
    "\n",
    "stimXtrain, stimYtrain = sampling.fit_resample(stimXtrain, stimYtrain)"
   ]
  },
  {
   "cell_type": "code",
   "execution_count": 23,
   "metadata": {},
   "outputs": [],
   "source": [
    "#fit std scaler to default data?"
   ]
  },
  {
   "cell_type": "code",
   "execution_count": 24,
   "metadata": {},
   "outputs": [
    {
     "data": {
      "text/plain": [
       "Pipeline(steps=[('scaler', StandardScaler()),\n",
       "                ('model',\n",
       "                 VotingClassifier(estimators=[('model1',\n",
       "                                               LogisticRegression(C=0.1,\n",
       "                                                                  class_weight='auto',\n",
       "                                                                  max_iter=1000,\n",
       "                                                                  solver='sag',\n",
       "                                                                  warm_start=True)),\n",
       "                                              ('model2',\n",
       "                                               LogisticRegression(C=1,\n",
       "                                                                  class_weight='auto',\n",
       "                                                                  max_iter=1000,\n",
       "                                                                  penalty='l1',\n",
       "                                                                  solver='saga',\n",
       "                                                                  tol=0,\n",
       "                                                                  warm_start=True)),\n",
       "                                              ('model3',\n",
       "                                               LogisticRegression(C=0.1,\n",
       "                                                                  class_weight='a...\n",
       "                                                                      min_impurity_decrease=0.01)),\n",
       "                                              ('model7',\n",
       "                                               KNeighborsClassifier(n_neighbors=1)),\n",
       "                                              ('model8',\n",
       "                                               KNeighborsClassifier(n_neighbors=51)),\n",
       "                                              ('model9',\n",
       "                                               RandomForestClassifier(class_weight='balanced_subsample',\n",
       "                                                                      criterion='entropy',\n",
       "                                                                      n_estimators=500)),\n",
       "                                              ('model10',\n",
       "                                               RandomForestClassifier(class_weight='balanced_subsample',\n",
       "                                                                      n_estimators=500))],\n",
       "                                  n_jobs=-1, verbose=True, voting='soft'))])"
      ]
     },
     "execution_count": 24,
     "metadata": {},
     "output_type": "execute_result"
    }
   ],
   "source": [
    "#make a pipeline of standard vtc\n",
    "stdvtc = Pipeline([('scaler',scaler),('model', vtc1)])\n",
    "stdvtc.fit(stimXtrain,stimYtrain)"
   ]
  },
  {
   "cell_type": "code",
   "execution_count": 25,
   "metadata": {},
   "outputs": [],
   "source": [
    "#instantiate d3 interaction only polyfeats"
   ]
  },
  {
   "cell_type": "code",
   "execution_count": 26,
   "metadata": {},
   "outputs": [],
   "source": [
    "#instantiate select k best k =43"
   ]
  },
  {
   "cell_type": "code",
   "execution_count": 27,
   "metadata": {},
   "outputs": [],
   "source": [
    "#instantiate standardscaler"
   ]
  },
  {
   "cell_type": "code",
   "execution_count": 28,
   "metadata": {},
   "outputs": [
    {
     "name": "stderr",
     "output_type": "stream",
     "text": [
      "/opt/anaconda3/lib/python3.8/site-packages/sklearn/feature_selection/_univariate_selection.py:114: UserWarning: Features [0] are constant.\n",
      "  warnings.warn(\"Features %s are constant.\" % constant_features_idx,\n",
      "/opt/anaconda3/lib/python3.8/site-packages/sklearn/feature_selection/_univariate_selection.py:116: RuntimeWarning: invalid value encountered in true_divide\n",
      "  f = msb / msw\n"
     ]
    },
    {
     "data": {
      "text/plain": [
       "Pipeline(steps=[('poly', PolynomialFeatures(degree=3, interaction_only=True)),\n",
       "                ('selector', SelectKBest(k=43)), ('scaler', StandardScaler()),\n",
       "                ('model',\n",
       "                 VotingClassifier(estimators=[('polymodel1',\n",
       "                                               LogisticRegression(C=0.5333333333333333,\n",
       "                                                                  class_weight='auto',\n",
       "                                                                  max_iter=1000,\n",
       "                                                                  solver='sag',\n",
       "                                                                  warm_start=True)),\n",
       "                                              ('polymodel2',\n",
       "                                               LogisticRegression(C=1,\n",
       "                                                                  class_weight='auto',\n",
       "                                                                  f...\n",
       "                                                                      min_impurity_decrease=0.01,\n",
       "                                                                      min_samples_leaf=8)),\n",
       "                                              ('polymodel7',\n",
       "                                               KNeighborsClassifier(n_neighbors=1)),\n",
       "                                              ('polymodel8',\n",
       "                                               KNeighborsClassifier(n_neighbors=53)),\n",
       "                                              ('polymodel9',\n",
       "                                               RandomForestClassifier(class_weight='balanced',\n",
       "                                                                      n_estimators=500)),\n",
       "                                              ('polymodel10',\n",
       "                                               RandomForestClassifier(class_weight='balanced',\n",
       "                                                                      min_samples_leaf=3,\n",
       "                                                                      random_state=True))],\n",
       "                                  n_jobs=-1, verbose=True, voting='soft'))])"
      ]
     },
     "execution_count": 28,
     "metadata": {},
     "output_type": "execute_result"
    }
   ],
   "source": [
    "#make a pipeline of poly vtc in order\n",
    "# polyfeats\n",
    "#select k best\n",
    "#standardscaler\n",
    "polyvtc = Pipeline([('poly',poly),('selector', selector),('scaler',polyscaler),('model', vtc2)])\n",
    "polyvtc.fit(stimXtrain,stimYtrain)"
   ]
  },
  {
   "cell_type": "code",
   "execution_count": 29,
   "metadata": {},
   "outputs": [],
   "source": [
    "# fit both"
   ]
  },
  {
   "cell_type": "code",
   "execution_count": 30,
   "metadata": {},
   "outputs": [
    {
     "name": "stdout",
     "output_type": "stream",
     "text": [
      "0.9566156601855197 0.8480584356510176\n",
      "              precision    recall  f1-score   support\n",
      "\n",
      "        high       0.93      0.99      0.96      1221\n",
      "         low       0.99      0.93      0.96      1220\n",
      "\n",
      "    accuracy                           0.96      2441\n",
      "   macro avg       0.96      0.96      0.96      2441\n",
      "weighted avg       0.96      0.96      0.96      2441\n",
      "\n",
      "              precision    recall  f1-score   support\n",
      "\n",
      "        high       0.44      0.67      0.53        66\n",
      "         low       0.94      0.86      0.90       406\n",
      "\n",
      "    accuracy                           0.83       472\n",
      "   macro avg       0.69      0.76      0.71       472\n",
      "weighted avg       0.87      0.83      0.85       472\n",
      "\n"
     ]
    },
    {
     "data": {
      "text/plain": [
       "array([[1205,   16],\n",
       "       [  90, 1130]])"
      ]
     },
     "execution_count": 30,
     "metadata": {},
     "output_type": "execute_result"
    }
   ],
   "source": [
    "#check classification report for both\n",
    "vtcypred = stdvtc.predict(stimXtest)\n",
    "vtcytrain = stdvtc.predict(stimXtrain)\n",
    "\n",
    "print(f1_score(vtcytrain,stimYtrain,average='weighted'),f1_score(stimYtest,vtcypred,average='weighted'))\n",
    "print(classification_report(stimYtrain, vtcytrain))\n",
    "print(classification_report(stimYtest, vtcypred))\n",
    "\n",
    "\n",
    "\n",
    "confusion_matrix(stimYtrain, vtcytrain)"
   ]
  },
  {
   "cell_type": "code",
   "execution_count": 31,
   "metadata": {},
   "outputs": [
    {
     "data": {
      "text/plain": [
       "array([[ 44,  22],\n",
       "       [ 56, 350]])"
      ]
     },
     "execution_count": 31,
     "metadata": {},
     "output_type": "execute_result"
    }
   ],
   "source": [
    "confusion_matrix(stimYtest,vtcypred)"
   ]
  },
  {
   "cell_type": "code",
   "execution_count": 32,
   "metadata": {},
   "outputs": [
    {
     "name": "stdout",
     "output_type": "stream",
     "text": [
      "0.9512804510846191 0.8578662132724085\n",
      "              precision    recall  f1-score   support\n",
      "\n",
      "        high       0.93      0.98      0.95      1221\n",
      "         low       0.97      0.93      0.95      1220\n",
      "\n",
      "    accuracy                           0.95      2441\n",
      "   macro avg       0.95      0.95      0.95      2441\n",
      "weighted avg       0.95      0.95      0.95      2441\n",
      "\n",
      "              precision    recall  f1-score   support\n",
      "\n",
      "        high       0.46      0.76      0.57        66\n",
      "         low       0.96      0.86      0.90       406\n",
      "\n",
      "    accuracy                           0.84       472\n",
      "   macro avg       0.71      0.81      0.74       472\n",
      "weighted avg       0.89      0.84      0.86       472\n",
      "\n"
     ]
    },
    {
     "data": {
      "text/plain": [
       "array([[1192,   29],\n",
       "       [  90, 1130]])"
      ]
     },
     "execution_count": 32,
     "metadata": {},
     "output_type": "execute_result"
    }
   ],
   "source": [
    "#check classification report for both\n",
    "vtcypred = polyvtc.predict(stimXtest)\n",
    "vtcytrain = polyvtc.predict(stimXtrain)\n",
    "\n",
    "print(f1_score(vtcytrain,stimYtrain,average='weighted'),f1_score(stimYtest,vtcypred,average='weighted'))\n",
    "print(classification_report(stimYtrain, vtcytrain))\n",
    "print(classification_report(stimYtest, vtcypred))\n",
    "\n",
    "\n",
    "\n",
    "confusion_matrix(stimYtrain, vtcytrain)"
   ]
  },
  {
   "cell_type": "code",
   "execution_count": 33,
   "metadata": {},
   "outputs": [
    {
     "data": {
      "text/plain": [
       "array([[ 50,  16],\n",
       "       [ 58, 348]])"
      ]
     },
     "execution_count": 33,
     "metadata": {},
     "output_type": "execute_result"
    }
   ],
   "source": [
    "confusion_matrix(stimYtest,vtcypred)"
   ]
  },
  {
   "cell_type": "code",
   "execution_count": 34,
   "metadata": {},
   "outputs": [],
   "source": [
    "pkl.dump(stdvtc,open('finalstdvtc.pkl','wb'))\n",
    "pkl.dump(polyvtc,open('finalpolyvtc.pkl','wb'))"
   ]
  },
  {
   "cell_type": "code",
   "execution_count": 35,
   "metadata": {},
   "outputs": [
    {
     "name": "stdout",
     "output_type": "stream",
     "text": [
      "0.9367095003240954 0.84801006963889\n",
      "              precision    recall  f1-score   support\n",
      "\n",
      "        high       0.89      0.99      0.94      1221\n",
      "         low       0.99      0.88      0.93      1220\n",
      "\n",
      "    accuracy                           0.94      2441\n",
      "   macro avg       0.94      0.94      0.94      2441\n",
      "weighted avg       0.94      0.94      0.94      2441\n",
      "\n",
      "              precision    recall  f1-score   support\n",
      "\n",
      "        high       0.44      0.71      0.54        66\n",
      "         low       0.95      0.85      0.90       406\n",
      "\n",
      "    accuracy                           0.83       472\n",
      "   macro avg       0.69      0.78      0.72       472\n",
      "weighted avg       0.88      0.83      0.85       472\n",
      "\n"
     ]
    },
    {
     "data": {
      "text/plain": [
       "array([[1213,    8],\n",
       "       [ 147, 1073]])"
      ]
     },
     "execution_count": 35,
     "metadata": {},
     "output_type": "execute_result"
    }
   ],
   "source": [
    "adaboostvtc = pkl.load(open('adaoverallvtc.pkl','rb'))\n",
    "adaboostvtc.fit(stimXtrain,stimYtrain)\n",
    "vtcypred = adaboostvtc.predict(stimXtest)\n",
    "vtcytrain = adaboostvtc.predict(stimXtrain)\n",
    "\n",
    "print(f1_score(vtcytrain,stimYtrain,average='weighted'),f1_score(stimYtest,vtcypred,average='weighted'))\n",
    "print(classification_report(stimYtrain, vtcytrain))\n",
    "print(classification_report(stimYtest, vtcypred))\n",
    "\n",
    "\n",
    "\n",
    "confusion_matrix(stimYtrain, vtcytrain)"
   ]
  },
  {
   "cell_type": "code",
   "execution_count": 36,
   "metadata": {},
   "outputs": [
    {
     "data": {
      "text/plain": [
       "VotingClassifier(estimators=[('ada',\n",
       "                              VotingClassifier(estimators=[('mod1',\n",
       "                                                            Pipeline(steps=[('scaler',\n",
       "                                                                             StandardScaler()),\n",
       "                                                                            ('model',\n",
       "                                                                             AdaBoostClassifier(base_estimator=LogisticRegression(C=1,\n",
       "                                                                                                                                  class_weight='auto',\n",
       "                                                                                                                                  max_iter=1000,\n",
       "                                                                                                                                  solver='sag',\n",
       "                                                                                                                                  warm_start=True),\n",
       "                                                                                                learning_rate=0.5))])),\n",
       "                                                           ('mod2',\n",
       "                                                            Pipeline(steps=[('scaler',\n",
       "                                                                             StandardScaler()),\n",
       "                                                                            ('model',\n",
       "                                                                             AdaBoostClassifier(...\n",
       "                                                                            ('polymodel7',\n",
       "                                                                             KNeighborsClassifier(n_neighbors=1)),\n",
       "                                                                            ('polymodel8',\n",
       "                                                                             KNeighborsClassifier(n_neighbors=53)),\n",
       "                                                                            ('polymodel9',\n",
       "                                                                             RandomForestClassifier(class_weight='balanced',\n",
       "                                                                                                    n_estimators=500)),\n",
       "                                                                            ('polymodel10',\n",
       "                                                                             RandomForestClassifier(class_weight='balanced',\n",
       "                                                                                                    min_samples_leaf=3,\n",
       "                                                                                                    random_state=True))],\n",
       "                                                                n_jobs=-1,\n",
       "                                                                verbose=True,\n",
       "                                                                voting='soft'))]))],\n",
       "                 n_jobs=-1, verbose=True)"
      ]
     },
     "execution_count": 36,
     "metadata": {},
     "output_type": "execute_result"
    }
   ],
   "source": [
    "finalvtc =VotingClassifier([('ada',adaboostvtc),('stdmodel',stdvtc),('polymodel',polyvtc)]\n",
    "                           ,voting='hard',verbose = True,n_jobs=-1)\n",
    "finalvtc.fit(stimXtrain,stimYtrain)\n",
    "\n",
    "\n"
   ]
  },
  {
   "cell_type": "code",
   "execution_count": 37,
   "metadata": {},
   "outputs": [
    {
     "name": "stdout",
     "output_type": "stream",
     "text": [
      "0.9537617278606553 0.8561809462935733\n",
      "              precision    recall  f1-score   support\n",
      "\n",
      "        high       0.92      0.99      0.96      1221\n",
      "         low       0.99      0.92      0.95      1220\n",
      "\n",
      "    accuracy                           0.95      2441\n",
      "   macro avg       0.96      0.95      0.95      2441\n",
      "weighted avg       0.96      0.95      0.95      2441\n",
      "\n",
      "              precision    recall  f1-score   support\n",
      "\n",
      "        high       0.46      0.76      0.57        66\n",
      "         low       0.96      0.85      0.90       406\n",
      "\n",
      "    accuracy                           0.84       472\n",
      "   macro avg       0.71      0.81      0.74       472\n",
      "weighted avg       0.89      0.84      0.86       472\n",
      "\n"
     ]
    },
    {
     "data": {
      "text/plain": [
       "array([[1206,   15],\n",
       "       [  98, 1122]])"
      ]
     },
     "execution_count": 37,
     "metadata": {},
     "output_type": "execute_result"
    }
   ],
   "source": [
    "vtcypred = finalvtc.predict(stimXtest)\n",
    "vtcytrain = finalvtc.predict(stimXtrain)\n",
    "\n",
    "print(f1_score(vtcytrain,stimYtrain,average='weighted'),f1_score(stimYtest,vtcypred,average='weighted'))\n",
    "print(classification_report(stimYtrain, vtcytrain))\n",
    "print(classification_report(stimYtest, vtcypred))\n",
    "\n",
    "\n",
    "\n",
    "confusion_matrix(stimYtrain, vtcytrain)"
   ]
  },
  {
   "cell_type": "code",
   "execution_count": 40,
   "metadata": {},
   "outputs": [
    {
     "data": {
      "text/plain": [
       "<sklearn.metrics._plot.confusion_matrix.ConfusionMatrixDisplay at 0x7fc0d8bba6d0>"
      ]
     },
     "execution_count": 40,
     "metadata": {},
     "output_type": "execute_result"
    },
    {
     "data": {
      "image/png": "[encoded data removed]",
      "text/plain": [
       "<Figure size 432x288 with 2 Axes>"
      ]
     },
     "metadata": {
      "needs_background": "light"
     },
     "output_type": "display_data"
    }
   ],
   "source": [
    "plot_confusion_matrix(finalvtc,stimXtest, stimYtest)"
   ]
  },
  {
   "cell_type": "code",
   "execution_count": null,
   "metadata": {},
   "outputs": [],
   "source": [
    "pkl.dump(finalvtc,open('finaloverallvtc.pkl','wb'))"
   ]
  },
  {
   "cell_type": "code",
   "execution_count": null,
   "metadata": {},
   "outputs": [],
   "source": []
  },
  {
   "cell_type": "code",
   "execution_count": null,
   "metadata": {},
   "outputs": [],
   "source": []
  },
  {
   "cell_type": "code",
   "execution_count": null,
   "metadata": {},
   "outputs": [],
   "source": []
  }
 ],
 "metadata": {
  "kernelspec": {
   "display_name": "Python 3",
   "language": "python",
   "name": "python3"
  },
  "language_info": {
   "codemirror_mode": {
    "name": "ipython",
    "version": 3
   },
   "file_extension": ".py",
   "mimetype": "text/x-python",
   "name": "python",
   "nbconvert_exporter": "python",
   "pygments_lexer": "ipython3",
   "version": "3.8.3"
  }
 },
 "nbformat": 4,
 "nbformat_minor": 4
}
