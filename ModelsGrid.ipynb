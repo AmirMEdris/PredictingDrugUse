{
 "cells": [
  {
   "cell_type": "code",
   "execution_count": 1,
   "metadata": {},
   "outputs": [],
   "source": [
    "import pandas as pd\n",
    "import sklearn\n",
    "from sklearn.linear_model import LogisticRegression\n",
    "from sklearn.metrics import f1_score,confusion_matrix,accuracy_score\n",
    "from sklearn.model_selection import train_test_split,GridSearchCV\n",
    "from sklearn.tree import DecisionTreeClassifier\n",
    "from sklearn.ensemble import RandomForestClassifier,VotingClassifier\n",
    "from sklearn.preprocessing import PolynomialFeatures,StandardScaler\n",
    "from sklearn.feature_selection import SelectKBest\n",
    "from sklearn.neighbors import KNeighborsClassifier\n",
    "from sklearn.metrics import classification_report\n",
    "pd.set_option('display.max_columns', 500)\n",
    "import pickle as pkl"
   ]
  },
  {
   "cell_type": "code",
   "execution_count": 2,
   "metadata": {},
   "outputs": [
    {
     "data": {
      "text/html": [
       "<div>\n",
       "<style scoped>\n",
       "    .dataframe tbody tr th:only-of-type {\n",
       "        vertical-align: middle;\n",
       "    }\n",
       "\n",
       "    .dataframe tbody tr th {\n",
       "        vertical-align: top;\n",
       "    }\n",
       "\n",
       "    .dataframe thead th {\n",
       "        text-align: right;\n",
       "    }\n",
       "</style>\n",
       "<table border=\"1\" class=\"dataframe\">\n",
       "  <thead>\n",
       "    <tr style=\"text-align: right;\">\n",
       "      <th></th>\n",
       "      <th>Age</th>\n",
       "      <th>Education</th>\n",
       "      <th>Nscore</th>\n",
       "      <th>Escore</th>\n",
       "      <th>Oscore</th>\n",
       "      <th>Ascore</th>\n",
       "      <th>Cscore</th>\n",
       "      <th>Impulsive</th>\n",
       "      <th>SensationSeeking</th>\n",
       "      <th>Alchol</th>\n",
       "      <th>Caff</th>\n",
       "      <th>Chocalate</th>\n",
       "      <th>Nicotine</th>\n",
       "      <th>stimulant</th>\n",
       "      <th>depressant</th>\n",
       "      <th>hallucinagen</th>\n",
       "    </tr>\n",
       "  </thead>\n",
       "  <tbody>\n",
       "    <tr>\n",
       "      <th>1</th>\n",
       "      <td>3</td>\n",
       "      <td>1</td>\n",
       "      <td>39.0</td>\n",
       "      <td>36.0</td>\n",
       "      <td>42.0</td>\n",
       "      <td>37.0</td>\n",
       "      <td>42.0</td>\n",
       "      <td>4.0</td>\n",
       "      <td>3.0</td>\n",
       "      <td>5</td>\n",
       "      <td>6</td>\n",
       "      <td>5</td>\n",
       "      <td>2</td>\n",
       "      <td>low</td>\n",
       "      <td>1.0</td>\n",
       "      <td>0.000000</td>\n",
       "    </tr>\n",
       "    <tr>\n",
       "      <th>2</th>\n",
       "      <td>2</td>\n",
       "      <td>4</td>\n",
       "      <td>29.0</td>\n",
       "      <td>52.0</td>\n",
       "      <td>55.0</td>\n",
       "      <td>48.0</td>\n",
       "      <td>41.0</td>\n",
       "      <td>3.0</td>\n",
       "      <td>6.0</td>\n",
       "      <td>5</td>\n",
       "      <td>6</td>\n",
       "      <td>6</td>\n",
       "      <td>4</td>\n",
       "      <td>low</td>\n",
       "      <td>1.0</td>\n",
       "      <td>2.000000</td>\n",
       "    </tr>\n",
       "    <tr>\n",
       "      <th>3</th>\n",
       "      <td>3</td>\n",
       "      <td>1</td>\n",
       "      <td>31.0</td>\n",
       "      <td>45.0</td>\n",
       "      <td>40.0</td>\n",
       "      <td>32.0</td>\n",
       "      <td>34.0</td>\n",
       "      <td>2.0</td>\n",
       "      <td>8.0</td>\n",
       "      <td>6</td>\n",
       "      <td>6</td>\n",
       "      <td>4</td>\n",
       "      <td>0</td>\n",
       "      <td>None</td>\n",
       "      <td>0.0</td>\n",
       "      <td>0.333333</td>\n",
       "    </tr>\n",
       "    <tr>\n",
       "      <th>4</th>\n",
       "      <td>1</td>\n",
       "      <td>3</td>\n",
       "      <td>34.0</td>\n",
       "      <td>34.0</td>\n",
       "      <td>46.0</td>\n",
       "      <td>47.0</td>\n",
       "      <td>46.0</td>\n",
       "      <td>2.0</td>\n",
       "      <td>3.0</td>\n",
       "      <td>4</td>\n",
       "      <td>5</td>\n",
       "      <td>4</td>\n",
       "      <td>2</td>\n",
       "      <td>low</td>\n",
       "      <td>1.5</td>\n",
       "      <td>0.000000</td>\n",
       "    </tr>\n",
       "    <tr>\n",
       "      <th>5</th>\n",
       "      <td>3</td>\n",
       "      <td>4</td>\n",
       "      <td>43.0</td>\n",
       "      <td>28.0</td>\n",
       "      <td>43.0</td>\n",
       "      <td>41.0</td>\n",
       "      <td>50.0</td>\n",
       "      <td>4.0</td>\n",
       "      <td>6.0</td>\n",
       "      <td>4</td>\n",
       "      <td>6</td>\n",
       "      <td>6</td>\n",
       "      <td>2</td>\n",
       "      <td>low</td>\n",
       "      <td>0.5</td>\n",
       "      <td>1.000000</td>\n",
       "    </tr>\n",
       "    <tr>\n",
       "      <th>...</th>\n",
       "      <td>...</td>\n",
       "      <td>...</td>\n",
       "      <td>...</td>\n",
       "      <td>...</td>\n",
       "      <td>...</td>\n",
       "      <td>...</td>\n",
       "      <td>...</td>\n",
       "      <td>...</td>\n",
       "      <td>...</td>\n",
       "      <td>...</td>\n",
       "      <td>...</td>\n",
       "      <td>...</td>\n",
       "      <td>...</td>\n",
       "      <td>...</td>\n",
       "      <td>...</td>\n",
       "      <td>...</td>\n",
       "    </tr>\n",
       "    <tr>\n",
       "      <th>1884</th>\n",
       "      <td>1</td>\n",
       "      <td>0</td>\n",
       "      <td>25.0</td>\n",
       "      <td>51.0</td>\n",
       "      <td>57.0</td>\n",
       "      <td>48.0</td>\n",
       "      <td>33.0</td>\n",
       "      <td>7.0</td>\n",
       "      <td>11.0</td>\n",
       "      <td>5</td>\n",
       "      <td>4</td>\n",
       "      <td>4</td>\n",
       "      <td>0</td>\n",
       "      <td>None</td>\n",
       "      <td>0.0</td>\n",
       "      <td>1.000000</td>\n",
       "    </tr>\n",
       "    <tr>\n",
       "      <th>1885</th>\n",
       "      <td>1</td>\n",
       "      <td>0</td>\n",
       "      <td>33.0</td>\n",
       "      <td>51.0</td>\n",
       "      <td>50.0</td>\n",
       "      <td>48.0</td>\n",
       "      <td>30.0</td>\n",
       "      <td>7.0</td>\n",
       "      <td>9.0</td>\n",
       "      <td>5</td>\n",
       "      <td>5</td>\n",
       "      <td>4</td>\n",
       "      <td>5</td>\n",
       "      <td>None</td>\n",
       "      <td>0.0</td>\n",
       "      <td>3.666667</td>\n",
       "    </tr>\n",
       "    <tr>\n",
       "      <th>1886</th>\n",
       "      <td>2</td>\n",
       "      <td>2</td>\n",
       "      <td>47.0</td>\n",
       "      <td>30.0</td>\n",
       "      <td>37.0</td>\n",
       "      <td>31.0</td>\n",
       "      <td>31.0</td>\n",
       "      <td>6.0</td>\n",
       "      <td>5.0</td>\n",
       "      <td>4</td>\n",
       "      <td>6</td>\n",
       "      <td>6</td>\n",
       "      <td>6</td>\n",
       "      <td>high</td>\n",
       "      <td>5.0</td>\n",
       "      <td>2.666667</td>\n",
       "    </tr>\n",
       "    <tr>\n",
       "      <th>1887</th>\n",
       "      <td>1</td>\n",
       "      <td>0</td>\n",
       "      <td>45.0</td>\n",
       "      <td>26.0</td>\n",
       "      <td>48.0</td>\n",
       "      <td>32.0</td>\n",
       "      <td>22.0</td>\n",
       "      <td>8.0</td>\n",
       "      <td>10.0</td>\n",
       "      <td>5</td>\n",
       "      <td>6</td>\n",
       "      <td>5</td>\n",
       "      <td>4</td>\n",
       "      <td>None</td>\n",
       "      <td>0.0</td>\n",
       "      <td>3.000000</td>\n",
       "    </tr>\n",
       "    <tr>\n",
       "      <th>1888</th>\n",
       "      <td>1</td>\n",
       "      <td>0</td>\n",
       "      <td>31.0</td>\n",
       "      <td>53.0</td>\n",
       "      <td>56.0</td>\n",
       "      <td>50.0</td>\n",
       "      <td>45.0</td>\n",
       "      <td>7.0</td>\n",
       "      <td>10.0</td>\n",
       "      <td>4</td>\n",
       "      <td>6</td>\n",
       "      <td>6</td>\n",
       "      <td>6</td>\n",
       "      <td>low</td>\n",
       "      <td>1.5</td>\n",
       "      <td>3.000000</td>\n",
       "    </tr>\n",
       "  </tbody>\n",
       "</table>\n",
       "<p>1885 rows × 16 columns</p>\n",
       "</div>"
      ],
      "text/plain": [
       "      Age  Education  Nscore  Escore  Oscore  Ascore  Cscore  Impulsive  \\\n",
       "1       3          1    39.0    36.0    42.0    37.0    42.0        4.0   \n",
       "2       2          4    29.0    52.0    55.0    48.0    41.0        3.0   \n",
       "3       3          1    31.0    45.0    40.0    32.0    34.0        2.0   \n",
       "4       1          3    34.0    34.0    46.0    47.0    46.0        2.0   \n",
       "5       3          4    43.0    28.0    43.0    41.0    50.0        4.0   \n",
       "...   ...        ...     ...     ...     ...     ...     ...        ...   \n",
       "1884    1          0    25.0    51.0    57.0    48.0    33.0        7.0   \n",
       "1885    1          0    33.0    51.0    50.0    48.0    30.0        7.0   \n",
       "1886    2          2    47.0    30.0    37.0    31.0    31.0        6.0   \n",
       "1887    1          0    45.0    26.0    48.0    32.0    22.0        8.0   \n",
       "1888    1          0    31.0    53.0    56.0    50.0    45.0        7.0   \n",
       "\n",
       "      SensationSeeking  Alchol  Caff  Chocalate  Nicotine stimulant  \\\n",
       "1                  3.0       5     6          5         2       low   \n",
       "2                  6.0       5     6          6         4       low   \n",
       "3                  8.0       6     6          4         0      None   \n",
       "4                  3.0       4     5          4         2       low   \n",
       "5                  6.0       4     6          6         2       low   \n",
       "...                ...     ...   ...        ...       ...       ...   \n",
       "1884              11.0       5     4          4         0      None   \n",
       "1885               9.0       5     5          4         5      None   \n",
       "1886               5.0       4     6          6         6      high   \n",
       "1887              10.0       5     6          5         4      None   \n",
       "1888              10.0       4     6          6         6       low   \n",
       "\n",
       "      depressant  hallucinagen  \n",
       "1            1.0      0.000000  \n",
       "2            1.0      2.000000  \n",
       "3            0.0      0.333333  \n",
       "4            1.5      0.000000  \n",
       "5            0.5      1.000000  \n",
       "...          ...           ...  \n",
       "1884         0.0      1.000000  \n",
       "1885         0.0      3.666667  \n",
       "1886         5.0      2.666667  \n",
       "1887         0.0      3.000000  \n",
       "1888         1.5      3.000000  \n",
       "\n",
       "[1885 rows x 16 columns]"
      ]
     },
     "execution_count": 2,
     "metadata": {},
     "output_type": "execute_result"
    }
   ],
   "source": [
    "df = pd.read_csv('prepeddata.csv',index_col='Unnamed: 0')\n",
    "df['stimulant'] = df['stimulant'].apply(lambda x: 'None' if x == 0 else 'low' if x <= 2 else 'high')\n",
    "df\n"
   ]
  },
  {
   "cell_type": "code",
   "execution_count": 3,
   "metadata": {},
   "outputs": [],
   "source": [
    "stimtestdata = df.drop(['hallucinagen','depressant'],axis = 1)\n",
    "stimx = stimtestdata.drop('stimulant',axis = 1)\n",
    "stimy = stimtestdata.stimulant\n",
    "\n"
   ]
  },
  {
   "cell_type": "code",
   "execution_count": 4,
   "metadata": {},
   "outputs": [],
   "source": [
    "stimXtrain,stimXtest,stimYtrain,stimYtest = train_test_split(stimx,stimy)"
   ]
  },
  {
   "cell_type": "code",
   "execution_count": 5,
   "metadata": {},
   "outputs": [
    {
     "data": {
      "text/plain": [
       "500      low\n",
       "864     high\n",
       "186      low\n",
       "865     None\n",
       "673     None\n",
       "        ... \n",
       "547     None\n",
       "99       low\n",
       "1101    None\n",
       "1835     low\n",
       "580      low\n",
       "Name: stimulant, Length: 1413, dtype: object"
      ]
     },
     "execution_count": 5,
     "metadata": {},
     "output_type": "execute_result"
    }
   ],
   "source": [
    "stimscaler = StandardScaler()\n",
    "stimXtrain = stimscaler.fit_transform(stimXtrain)\n",
    "stimXtest = stimscaler.transform(stimXtest)\n",
    "stimYtrain"
   ]
  },
  {
   "cell_type": "markdown",
   "metadata": {},
   "source": [
    "Logistic regression classifiers"
   ]
  },
  {
   "cell_type": "code",
   "execution_count": 46,
   "metadata": {},
   "outputs": [
    {
     "name": "stdout",
     "output_type": "stream",
     "text": [
      "Fitting 5 folds for each of 24 candidates, totalling 120 fits\n"
     ]
    },
    {
     "name": "stderr",
     "output_type": "stream",
     "text": [
      "[Parallel(n_jobs=-1)]: Using backend LokyBackend with 12 concurrent workers.\n",
      "[Parallel(n_jobs=-1)]: Done  28 tasks      | elapsed:    0.1s\n",
      "[Parallel(n_jobs=-1)]: Done 120 out of 120 | elapsed:    0.2s finished\n"
     ]
    }
   ],
   "source": [
    "logregparam_grid = {'C': [0.001,0.1,1, 10],'max_iter' :[1000],'class_weight':['balanced'],'warm_start' :[True,False], 'solver': ['liblinear', 'rbf','sag']}\n",
    "mod = GridSearchCV(LogisticRegression(), logregparam_grid, n_jobs=-1, cv=5, verbose=1)\n",
    "mod.fit(stimXtrain,stimYtrain)\n",
    "stimtrianlogypred = mod.predict(stimXtrain)\n",
    "stimtestlogypred = mod.predict(stimXtest)\n"
   ]
  },
  {
   "cell_type": "code",
   "execution_count": 56,
   "metadata": {},
   "outputs": [
    {
     "data": {
      "text/plain": [
       "LogisticRegression(C=1, class_weight='balanced', max_iter=1000,\n",
       "                   solver='liblinear', warm_start=True)"
      ]
     },
     "execution_count": 56,
     "metadata": {},
     "output_type": "execute_result"
    }
   ],
   "source": [
    "standardmodel1 = mod.best_estimator_\n",
    "standardmodel1"
   ]
  },
  {
   "cell_type": "code",
   "execution_count": 48,
   "metadata": {},
   "outputs": [
    {
     "data": {
      "text/plain": [
       "(0.5888986444814821, 0.6327670094613298)"
      ]
     },
     "execution_count": 48,
     "metadata": {},
     "output_type": "execute_result"
    }
   ],
   "source": [
    "f1_score(stimYtrain,stimtrianlogypred,average='weighted'),f1_score(stimYtest,stimtestlogypred,average='weighted')"
   ]
  },
  {
   "cell_type": "code",
   "execution_count": 49,
   "metadata": {},
   "outputs": [
    {
     "name": "stdout",
     "output_type": "stream",
     "text": [
      "Fitting 5 folds for each of 51840 candidates, totalling 259200 fits\n"
     ]
    },
    {
     "name": "stderr",
     "output_type": "stream",
     "text": [
      "[Parallel(n_jobs=-1)]: Using backend LokyBackend with 12 concurrent workers.\n",
      "[Parallel(n_jobs=-1)]: Done  28 tasks      | elapsed:    0.1s\n",
      "[Parallel(n_jobs=-1)]: Done 3560 tasks      | elapsed:    1.5s\n",
      "[Parallel(n_jobs=-1)]: Done 19560 tasks      | elapsed:    5.3s\n",
      "[Parallel(n_jobs=-1)]: Done 41960 tasks      | elapsed:   11.6s\n",
      "[Parallel(n_jobs=-1)]: Done 65400 tasks      | elapsed:   28.4s\n",
      "[Parallel(n_jobs=-1)]: Done 91856 tasks      | elapsed:   50.2s\n",
      "[Parallel(n_jobs=-1)]: Done 116456 tasks      | elapsed:  1.4min\n",
      "[Parallel(n_jobs=-1)]: Done 140636 tasks      | elapsed:  2.1min\n",
      "[Parallel(n_jobs=-1)]: Done 162260 tasks      | elapsed:  2.5min\n",
      "[Parallel(n_jobs=-1)]: Done 189866 tasks      | elapsed:  3.2min\n",
      "[Parallel(n_jobs=-1)]: Done 213096 tasks      | elapsed:  3.8min\n",
      "[Parallel(n_jobs=-1)]: Done 241454 tasks      | elapsed:  4.8min\n",
      "[Parallel(n_jobs=-1)]: Done 259200 out of 259200 | elapsed:  5.3min finished\n"
     ]
    }
   ],
   "source": [
    "logregparam_grid2 = {'tol': [0,0.0001,0.001,0.1,1, 10]\n",
    "                     ,'C': [0,0.001,0.1,1, 10]\n",
    "                     ,'penalty': ['l1','l2','elasticnet']\n",
    "                     ,'max_iter' :[1000],'class_weight':[None,'balanced']\n",
    "                     ,'warm_start' :[True,False]\n",
    "                     , 'solver': ['lbfgs','liblinear', 'rbf','sag','elasticnet','saga',]\n",
    "                     ,'dual':[False,True],\"l1_ratio\":[None,0.01,0.1,0.2,0.3,0.4]\n",
    "                    ,'fit_intercept':[True,False]}\n",
    "mod2 = GridSearchCV(LogisticRegression(), logregparam_grid2, n_jobs=-1, cv=5, verbose=1)\n",
    "mod2.fit(stimXtrain,stimYtrain)\n",
    "stimtrianlog2ypred = mod2.predict(stimXtrain)\n",
    "stimtestlog2ypred = mod2.predict(stimXtest)"
   ]
  },
  {
   "cell_type": "code",
   "execution_count": 57,
   "metadata": {},
   "outputs": [
    {
     "data": {
      "text/plain": [
       "LogisticRegression(C=1, max_iter=1000, solver='sag', tol=0.1)"
      ]
     },
     "execution_count": 57,
     "metadata": {},
     "output_type": "execute_result"
    }
   ],
   "source": [
    "standardmodel2 = mod2.best_estimator_\n",
    "standardmodel2"
   ]
  },
  {
   "cell_type": "code",
   "execution_count": 51,
   "metadata": {},
   "outputs": [
    {
     "data": {
      "text/plain": [
       "(0.5938632715685083, 0.6257621507389974)"
      ]
     },
     "execution_count": 51,
     "metadata": {},
     "output_type": "execute_result"
    }
   ],
   "source": [
    "f1_score(stimYtrain,stimtrianlog2ypred,average='weighted'),f1_score(stimYtest,stimtestlog2ypred,average='weighted')"
   ]
  },
  {
   "cell_type": "code",
   "execution_count": 52,
   "metadata": {},
   "outputs": [
    {
     "name": "stderr",
     "output_type": "stream",
     "text": [
      "/opt/anaconda3/lib/python3.8/site-packages/sklearn/linear_model/_logistic.py:1315: UserWarning: l1_ratio parameter is only used when penalty is 'elasticnet'. Got (penalty=l2)\n",
      "  warnings.warn(\"l1_ratio parameter is only used when penalty is \"\n"
     ]
    }
   ],
   "source": [
    "logregparam_grid3 = {'tol': [0,0.0001,0.001,0.1,1, 10]\n",
    "                     ,'C': [0,0.001,0.1,1, 10]\n",
    "                     ,'penalty': ['l1','l2','elasticnet']\n",
    "                     ,'max_iter' :[1000],'class_weight':[None]\n",
    "                     ,'warm_start' :[True,False]\n",
    "                     , 'solver': ['lbfgs','liblinear', 'rbf','sag','elasticnet','saga',]\n",
    "                     ,'dual':[False,True],\"l1_ratio\":[None,0.01,0.1,0.2,0.3,0.4]\n",
    "                    ,'fit_intercept':[True,False]}\n",
    "mod3 = GridSearchCV(LogisticRegression(), logregparam_grid3, n_jobs=-1, cv=5, verbose=0)\n",
    "mod3.fit(stimXtrain,stimYtrain)\n",
    "stimtrianlog3ypred = mod3.predict(stimXtrain)\n",
    "stimtestlog3ypred = mod3.predict(stimXtest)"
   ]
  },
  {
   "cell_type": "code",
   "execution_count": 58,
   "metadata": {},
   "outputs": [
    {
     "data": {
      "text/plain": [
       "LogisticRegression(C=0.001, l1_ratio=0.3, max_iter=1000, solver='sag', tol=10,\n",
       "                   warm_start=True)"
      ]
     },
     "execution_count": 58,
     "metadata": {},
     "output_type": "execute_result"
    }
   ],
   "source": [
    "standardmodel3 = mod3.best_estimator_\n",
    "standardmodel3"
   ]
  },
  {
   "cell_type": "code",
   "execution_count": 73,
   "metadata": {},
   "outputs": [
    {
     "data": {
      "text/plain": [
       "(0.5711277961755238, 0.5724005867014341)"
      ]
     },
     "execution_count": 73,
     "metadata": {},
     "output_type": "execute_result"
    }
   ],
   "source": [
    "f1_score(stimYtrain,stimtrianlog3ypred,average='weighted'),f1_score(stimYtest,stimtestlog3ypred,average='weighted')\n"
   ]
  },
  {
   "cell_type": "code",
   "execution_count": 77,
   "metadata": {},
   "outputs": [
    {
     "name": "stderr",
     "output_type": "stream",
     "text": [
      "/opt/anaconda3/lib/python3.8/site-packages/sklearn/metrics/_classification.py:1221: UndefinedMetricWarning: Precision and F-score are ill-defined and being set to 0.0 in labels with no predicted samples. Use `zero_division` parameter to control this behavior.\n",
      "  _warn_prf(average, modifier, msg_start, len(result))\n"
     ]
    },
    {
     "data": {
      "text/plain": [
       "'              precision    recall  f1-score   support\\n\\n        None       0.74      0.62      0.68       597\\n        high       0.00      0.00      0.00       198\\n         low       0.55      0.80      0.65       618\\n\\n    accuracy                           0.62      1413\\n   macro avg       0.43      0.48      0.44      1413\\nweighted avg       0.55      0.62      0.57      1413\\n'"
      ]
     },
     "execution_count": 77,
     "metadata": {},
     "output_type": "execute_result"
    }
   ],
   "source": [
    "classification_report(stimYtrain,stimtrianlog3ypred)"
   ]
  },
  {
   "cell_type": "code",
   "execution_count": 60,
   "metadata": {},
   "outputs": [],
   "source": [
    "pkl.dump(standardmodel1,open('StandardModel1.pkl','wb'))\n",
    "pkl.dump(standardmodel2,open('StandardModel2.pkl','wb'))\n",
    "pkl.dump(standardmodel3,open('StandardModel3.pkl','wb'))"
   ]
  },
  {
   "cell_type": "markdown",
   "metadata": {},
   "source": [
    "Decision Trees"
   ]
  },
  {
   "cell_type": "code",
   "execution_count": 85,
   "metadata": {},
   "outputs": [
    {
     "name": "stderr",
     "output_type": "stream",
     "text": [
      "/opt/anaconda3/lib/python3.8/site-packages/sklearn/utils/validation.py:68: FutureWarning: Pass criterion=DecisionTreeClassifier() as keyword args. From version 0.25 passing these as positional arguments will result in an error\n",
      "  warnings.warn(\"Pass {} as keyword args. From version 0.25 \"\n"
     ]
    },
    {
     "name": "stdout",
     "output_type": "stream",
     "text": [
      "Fitting 5 folds for each of 826500 candidates, totalling 4132500 fits\n"
     ]
    },
    {
     "name": "stderr",
     "output_type": "stream",
     "text": [
      "[Parallel(n_jobs=-1)]: Using backend LokyBackend with 12 concurrent workers.\n",
      "[Parallel(n_jobs=-1)]: Done  26 tasks      | elapsed:    2.5s\n",
      "[Parallel(n_jobs=-1)]: Done 1420 tasks      | elapsed:    6.0s\n",
      "[Parallel(n_jobs=-1)]: Done 4452 tasks      | elapsed:    9.9s\n",
      "[Parallel(n_jobs=-1)]: Done 8652 tasks      | elapsed:   13.8s\n",
      "[Parallel(n_jobs=-1)]: Done 19116 tasks      | elapsed:   22.4s\n",
      "[Parallel(n_jobs=-1)]: Done 32316 tasks      | elapsed:   32.8s\n",
      "[Parallel(n_jobs=-1)]: Done 47916 tasks      | elapsed:   45.7s\n",
      "[Parallel(n_jobs=-1)]: Done 65916 tasks      | elapsed:  1.0min\n",
      "[Parallel(n_jobs=-1)]: Done 86316 tasks      | elapsed:  1.3min\n",
      "[Parallel(n_jobs=-1)]: Done 109116 tasks      | elapsed:  1.6min\n",
      "[Parallel(n_jobs=-1)]: Done 134316 tasks      | elapsed:  1.9min\n",
      "[Parallel(n_jobs=-1)]: Done 161916 tasks      | elapsed:  2.3min\n",
      "[Parallel(n_jobs=-1)]: Done 191916 tasks      | elapsed:  2.7min\n",
      "[Parallel(n_jobs=-1)]: Done 224316 tasks      | elapsed:  3.1min\n",
      "[Parallel(n_jobs=-1)]: Done 259116 tasks      | elapsed:  3.6min\n",
      "[Parallel(n_jobs=-1)]: Done 296316 tasks      | elapsed:  4.1min\n",
      "[Parallel(n_jobs=-1)]: Done 335916 tasks      | elapsed:  4.7min\n",
      "[Parallel(n_jobs=-1)]: Done 383460 tasks      | elapsed:  5.5min\n",
      "[Parallel(n_jobs=-1)]: Done 442660 tasks      | elapsed:  6.3min\n",
      "[Parallel(n_jobs=-1)]: Done 505060 tasks      | elapsed:  7.1min\n",
      "[Parallel(n_jobs=-1)]: Done 570660 tasks      | elapsed:  8.0min\n",
      "[Parallel(n_jobs=-1)]: Done 639460 tasks      | elapsed:  8.9min\n",
      "[Parallel(n_jobs=-1)]: Done 711460 tasks      | elapsed:  9.9min\n",
      "[Parallel(n_jobs=-1)]: Done 786660 tasks      | elapsed: 10.9min\n",
      "[Parallel(n_jobs=-1)]: Done 865060 tasks      | elapsed: 12.2min\n",
      "[Parallel(n_jobs=-1)]: Done 907956 tasks      | elapsed: 13.3min\n",
      "[Parallel(n_jobs=-1)]: Done 939756 tasks      | elapsed: 14.1min\n",
      "[Parallel(n_jobs=-1)]: Done 972756 tasks      | elapsed: 14.9min\n",
      "[Parallel(n_jobs=-1)]: Done 1005220 tasks      | elapsed: 15.8min\n",
      "[Parallel(n_jobs=-1)]: Done 1028820 tasks      | elapsed: 16.4min\n",
      "[Parallel(n_jobs=-1)]: Done 1053220 tasks      | elapsed: 17.0min\n",
      "[Parallel(n_jobs=-1)]: Done 1093748 tasks      | elapsed: 18.0min\n",
      "[Parallel(n_jobs=-1)]: Done 1145748 tasks      | elapsed: 19.3min\n",
      "[Parallel(n_jobs=-1)]: Done 1199348 tasks      | elapsed: 20.6min\n",
      "[Parallel(n_jobs=-1)]: Done 1254548 tasks      | elapsed: 22.0min\n",
      "[Parallel(n_jobs=-1)]: Done 1307652 tasks      | elapsed: 23.3min\n",
      "[Parallel(n_jobs=-1)]: Done 1348868 tasks      | elapsed: 24.3min\n",
      "[Parallel(n_jobs=-1)]: Done 1408868 tasks      | elapsed: 25.8min\n",
      "[Parallel(n_jobs=-1)]: Done 1470468 tasks      | elapsed: 27.3min\n",
      "[Parallel(n_jobs=-1)]: Done 1532852 tasks      | elapsed: 28.8min\n",
      "[Parallel(n_jobs=-1)]: Done 1597652 tasks      | elapsed: 30.5min\n",
      "[Parallel(n_jobs=-1)]: Done 1663236 tasks      | elapsed: 32.2min\n",
      "[Parallel(n_jobs=-1)]: Done 1731236 tasks      | elapsed: 33.8min\n",
      "[Parallel(n_jobs=-1)]: Done 1800836 tasks      | elapsed: 35.5min\n",
      "[Parallel(n_jobs=-1)]: Done 1871220 tasks      | elapsed: 37.3min\n",
      "[Parallel(n_jobs=-1)]: Done 1944020 tasks      | elapsed: 39.1min\n",
      "[Parallel(n_jobs=-1)]: Done 2018420 tasks      | elapsed: 40.9min\n",
      "[Parallel(n_jobs=-1)]: Done 2093604 tasks      | elapsed: 42.9min\n",
      "[Parallel(n_jobs=-1)]: Done 2171204 tasks      | elapsed: 44.9min\n",
      "[Parallel(n_jobs=-1)]: Done 2250404 tasks      | elapsed: 47.0min\n",
      "[Parallel(n_jobs=-1)]: Done 2330388 tasks      | elapsed: 49.1min\n",
      "[Parallel(n_jobs=-1)]: Done 2412788 tasks      | elapsed: 51.3min\n",
      "[Parallel(n_jobs=-1)]: Done 2496788 tasks      | elapsed: 53.4min\n",
      "[Parallel(n_jobs=-1)]: Done 2582388 tasks      | elapsed: 55.7min\n",
      "[Parallel(n_jobs=-1)]: Done 2629780 tasks      | elapsed: 57.0min\n",
      "[Parallel(n_jobs=-1)]: Done 2674180 tasks      | elapsed: 58.2min\n",
      "[Parallel(n_jobs=-1)]: Done 2719380 tasks      | elapsed: 59.4min\n",
      "[Parallel(n_jobs=-1)]: Done 2863476 tasks      | elapsed: 63.2min\n",
      "[Parallel(n_jobs=-1)]: Done 2933676 tasks      | elapsed: 65.0min\n",
      "[Parallel(n_jobs=-1)]: Done 3005076 tasks      | elapsed: 66.9min\n",
      "[Parallel(n_jobs=-1)]: Done 3077676 tasks      | elapsed: 68.7min\n",
      "[Parallel(n_jobs=-1)]: Done 3151076 tasks      | elapsed: 70.3min\n",
      "[Parallel(n_jobs=-1)]: Done 3251076 tasks      | elapsed: 72.4min\n",
      "[Parallel(n_jobs=-1)]: Done 3352676 tasks      | elapsed: 74.5min\n",
      "[Parallel(n_jobs=-1)]: Done 3455876 tasks      | elapsed: 76.6min\n",
      "[Parallel(n_jobs=-1)]: Done 3559860 tasks      | elapsed: 78.7min\n",
      "[Parallel(n_jobs=-1)]: Done 3666260 tasks      | elapsed: 80.9min\n",
      "[Parallel(n_jobs=-1)]: Done 3774260 tasks      | elapsed: 83.2min\n",
      "[Parallel(n_jobs=-1)]: Done 3883044 tasks      | elapsed: 85.5min\n",
      "[Parallel(n_jobs=-1)]: Done 3994244 tasks      | elapsed: 87.7min\n",
      "[Parallel(n_jobs=-1)]: Done 4107044 tasks      | elapsed: 89.9min\n",
      "[Parallel(n_jobs=-1)]: Done 4132500 out of 4132500 | elapsed: 90.3min finished\n"
     ]
    }
   ],
   "source": [
    "parameters={'min_samples_split' : range(10,500,20),'max_depth': range(1,20,1),'ccp_alpha':[x/60 for x in list(range(0,60,1))],'max_features':range(1,30,1),'class_weight':['balanced'],'criterion':['gini']}\n",
    "dtc = GridSearchCV(DecisionTreeClassifier(DecisionTreeClassifier()),param_grid=parameters,verbose=True,n_jobs=-1)\n",
    "dtc.fit(stimXtrain,stimYtrain)\n",
    "dtcytrainpred = dtc.predict(stimXtrain)\n",
    "dtcytestpred = dtc.predict(stimXtest)"
   ]
  },
  {
   "cell_type": "code",
   "execution_count": 101,
   "metadata": {},
   "outputs": [
    {
     "data": {
      "text/plain": [
       "(0.5344461165030636, 0.4984071172586556)"
      ]
     },
     "execution_count": 101,
     "metadata": {},
     "output_type": "execute_result"
    }
   ],
   "source": [
    "f1_score(stimYtrain,dtcytrainpred,average='weighted'),f1_score(stimYtest,dtcytestpred,average='weighted')"
   ]
  },
  {
   "cell_type": "code",
   "execution_count": 87,
   "metadata": {},
   "outputs": [
    {
     "name": "stdout",
     "output_type": "stream",
     "text": [
      "Fitting 5 folds for each of 1653000 candidates, totalling 8265000 fits\n"
     ]
    },
    {
     "name": "stderr",
     "output_type": "stream",
     "text": [
      "[Parallel(n_jobs=-1)]: Using backend LokyBackend with 12 concurrent workers.\n",
      "[Parallel(n_jobs=-1)]: Done  32 tasks      | elapsed:    0.1s\n",
      "[Parallel(n_jobs=-1)]: Done 2600 tasks      | elapsed:    2.4s\n",
      "[Parallel(n_jobs=-1)]: Done 10600 tasks      | elapsed:    8.8s\n",
      "[Parallel(n_jobs=-1)]: Done 21800 tasks      | elapsed:   18.9s\n",
      "[Parallel(n_jobs=-1)]: Done 36200 tasks      | elapsed:   31.7s\n",
      "[Parallel(n_jobs=-1)]: Done 53800 tasks      | elapsed:   46.7s\n",
      "[Parallel(n_jobs=-1)]: Done 74600 tasks      | elapsed:  1.1min\n",
      "[Parallel(n_jobs=-1)]: Done 98600 tasks      | elapsed:  1.4min\n",
      "[Parallel(n_jobs=-1)]: Done 125800 tasks      | elapsed:  1.8min\n",
      "[Parallel(n_jobs=-1)]: Done 156200 tasks      | elapsed:  2.2min\n",
      "[Parallel(n_jobs=-1)]: Done 189800 tasks      | elapsed:  2.8min\n",
      "[Parallel(n_jobs=-1)]: Done 226600 tasks      | elapsed:  3.3min\n",
      "[Parallel(n_jobs=-1)]: Done 266600 tasks      | elapsed:  3.9min\n",
      "[Parallel(n_jobs=-1)]: Done 309800 tasks      | elapsed:  4.5min\n",
      "[Parallel(n_jobs=-1)]: Done 356200 tasks      | elapsed:  5.1min\n",
      "[Parallel(n_jobs=-1)]: Done 405800 tasks      | elapsed:  5.9min\n",
      "[Parallel(n_jobs=-1)]: Done 458600 tasks      | elapsed:  6.6min\n",
      "[Parallel(n_jobs=-1)]: Done 514600 tasks      | elapsed:  7.4min\n",
      "[Parallel(n_jobs=-1)]: Done 573800 tasks      | elapsed:  8.3min\n",
      "[Parallel(n_jobs=-1)]: Done 636200 tasks      | elapsed:  9.3min\n",
      "[Parallel(n_jobs=-1)]: Done 701800 tasks      | elapsed: 10.3min\n",
      "[Parallel(n_jobs=-1)]: Done 770600 tasks      | elapsed: 11.4min\n",
      "[Parallel(n_jobs=-1)]: Done 842600 tasks      | elapsed: 12.5min\n",
      "[Parallel(n_jobs=-1)]: Done 917800 tasks      | elapsed: 13.5min\n",
      "[Parallel(n_jobs=-1)]: Done 996200 tasks      | elapsed: 14.7min\n",
      "[Parallel(n_jobs=-1)]: Done 1077800 tasks      | elapsed: 15.9min\n",
      "[Parallel(n_jobs=-1)]: Done 1162600 tasks      | elapsed: 17.2min\n",
      "[Parallel(n_jobs=-1)]: Done 1250600 tasks      | elapsed: 18.4min\n",
      "[Parallel(n_jobs=-1)]: Done 1341800 tasks      | elapsed: 19.8min\n",
      "[Parallel(n_jobs=-1)]: Done 1436200 tasks      | elapsed: 21.2min\n",
      "[Parallel(n_jobs=-1)]: Done 1533800 tasks      | elapsed: 22.6min\n",
      "[Parallel(n_jobs=-1)]: Done 1634600 tasks      | elapsed: 24.0min\n",
      "[Parallel(n_jobs=-1)]: Done 1738600 tasks      | elapsed: 25.5min\n",
      "[Parallel(n_jobs=-1)]: Done 1845800 tasks      | elapsed: 27.1min\n",
      "[Parallel(n_jobs=-1)]: Done 1954232 tasks      | elapsed: 28.7min\n",
      "[Parallel(n_jobs=-1)]: Done 2067832 tasks      | elapsed: 30.5min\n",
      "[Parallel(n_jobs=-1)]: Done 2177800 tasks      | elapsed: 33.9min\n",
      "[Parallel(n_jobs=-1)]: Done 2237800 tasks      | elapsed: 35.3min\n",
      "[Parallel(n_jobs=-1)]: Done 2299400 tasks      | elapsed: 36.5min\n",
      "[Parallel(n_jobs=-1)]: Done 2362600 tasks      | elapsed: 37.8min\n",
      "[Parallel(n_jobs=-1)]: Done 2427400 tasks      | elapsed: 39.0min\n",
      "[Parallel(n_jobs=-1)]: Done 2493800 tasks      | elapsed: 40.1min\n",
      "[Parallel(n_jobs=-1)]: Done 2598680 tasks      | elapsed: 41.9min\n",
      "[Parallel(n_jobs=-1)]: Done 2737880 tasks      | elapsed: 44.2min\n",
      "[Parallel(n_jobs=-1)]: Done 2863872 tasks      | elapsed: 46.3min\n",
      "[Parallel(n_jobs=-1)]: Done 2973072 tasks      | elapsed: 48.1min\n",
      "[Parallel(n_jobs=-1)]: Done 3114144 tasks      | elapsed: 50.3min\n",
      "[Parallel(n_jobs=-1)]: Done 3274432 tasks      | elapsed: 52.9min\n",
      "[Parallel(n_jobs=-1)]: Done 3429632 tasks      | elapsed: 55.5min\n",
      "[Parallel(n_jobs=-1)]: Done 3585216 tasks      | elapsed: 58.1min\n",
      "[Parallel(n_jobs=-1)]: Done 3706416 tasks      | elapsed: 60.1min\n",
      "[Parallel(n_jobs=-1)]: Done 3830016 tasks      | elapsed: 62.3min\n",
      "[Parallel(n_jobs=-1)]: Done 3956016 tasks      | elapsed: 64.4min\n",
      "[Parallel(n_jobs=-1)]: Done 4075760 tasks      | elapsed: 66.6min\n",
      "[Parallel(n_jobs=-1)]: Done 4165520 tasks      | elapsed: 68.1min\n",
      "[Parallel(n_jobs=-1)]: Done 4343120 tasks      | elapsed: 71.2min\n",
      "[Parallel(n_jobs=-1)]: Done 4523920 tasks      | elapsed: 74.3min\n",
      "[Parallel(n_jobs=-1)]: Done 4632016 tasks      | elapsed: 76.3min\n",
      "[Parallel(n_jobs=-1)]: Done 4725616 tasks      | elapsed: 77.9min\n",
      "[Parallel(n_jobs=-1)]: Done 4820816 tasks      | elapsed: 79.5min\n",
      "[Parallel(n_jobs=-1)]: Done 4917616 tasks      | elapsed: 81.2min\n",
      "[Parallel(n_jobs=-1)]: Done 5016016 tasks      | elapsed: 82.9min\n",
      "[Parallel(n_jobs=-1)]: Done 5116016 tasks      | elapsed: 84.6min\n",
      "[Parallel(n_jobs=-1)]: Done 5217616 tasks      | elapsed: 86.4min\n",
      "[Parallel(n_jobs=-1)]: Done 5320168 tasks      | elapsed: 88.3min\n",
      "[Parallel(n_jobs=-1)]: Done 5446120 tasks      | elapsed: 90.3min\n",
      "[Parallel(n_jobs=-1)]: Done 5658920 tasks      | elapsed: 94.0min\n",
      "[Parallel(n_jobs=-1)]: Done 5873624 tasks      | elapsed: 97.8min\n",
      "[Parallel(n_jobs=-1)]: Done 6092824 tasks      | elapsed: 101.6min\n",
      "[Parallel(n_jobs=-1)]: Done 6315224 tasks      | elapsed: 105.4min\n",
      "[Parallel(n_jobs=-1)]: Done 6528520 tasks      | elapsed: 109.1min\n",
      "[Parallel(n_jobs=-1)]: Done 6642920 tasks      | elapsed: 111.1min\n",
      "[Parallel(n_jobs=-1)]: Done 6758920 tasks      | elapsed: 113.1min\n",
      "[Parallel(n_jobs=-1)]: Done 7136552 tasks      | elapsed: 119.6min\n",
      "[Parallel(n_jobs=-1)]: Done 7374952 tasks      | elapsed: 123.7min\n",
      "[Parallel(n_jobs=-1)]: Done 7616552 tasks      | elapsed: 127.7min\n",
      "[Parallel(n_jobs=-1)]: Done 7855240 tasks      | elapsed: 131.8min\n",
      "[Parallel(n_jobs=-1)]: Done 7979240 tasks      | elapsed: 133.9min\n",
      "[Parallel(n_jobs=-1)]: Done 8104840 tasks      | elapsed: 136.0min\n",
      "[Parallel(n_jobs=-1)]: Done 8232040 tasks      | elapsed: 138.2min\n",
      "[Parallel(n_jobs=-1)]: Done 8265000 out of 8265000 | elapsed: 138.7min finished\n"
     ]
    }
   ],
   "source": [
    "parameters={'min_samples_split' : range(10,500,20),'ccp_alpha':[x/200 for x in list(range(0,100,1))],'max_features':range(1,30,1),'class_weight':['balanced'],'criterion':['entropy','gini']}\n",
    "dtc2 = GridSearchCV(DecisionTreeClassifier(),param_grid=parameters,verbose=True,n_jobs=-1)\n",
    "dtc2.fit(stimXtrain,stimYtrain)\n",
    "dtcytrainpred = dtc2.predict(stimXtrain)\n",
    "dtcytestpred = dtc2.predict(stimXtest)"
   ]
  },
  {
   "cell_type": "code",
   "execution_count": 100,
   "metadata": {},
   "outputs": [
    {
     "data": {
      "text/plain": [
       "(0.5344461165030636, 0.4984071172586556)"
      ]
     },
     "execution_count": 100,
     "metadata": {},
     "output_type": "execute_result"
    }
   ],
   "source": [
    "f1_score(stimYtrain,dtcytrainpred,average='weighted'),f1_score(stimYtest,dtcytestpred,average='weighted')\n"
   ]
  },
  {
   "cell_type": "code",
   "execution_count": 102,
   "metadata": {},
   "outputs": [
    {
     "name": "stdout",
     "output_type": "stream",
     "text": [
      "Fitting 5 folds for each of 19800 candidates, totalling 99000 fits\n"
     ]
    },
    {
     "name": "stderr",
     "output_type": "stream",
     "text": [
      "[Parallel(n_jobs=-1)]: Using backend LokyBackend with 12 concurrent workers.\n",
      "[Parallel(n_jobs=-1)]: Done  26 tasks      | elapsed:    1.5s\n",
      "[Parallel(n_jobs=-1)]: Done 1420 tasks      | elapsed:    2.4s\n",
      "[Parallel(n_jobs=-1)]: Done 17292 tasks      | elapsed:    8.5s\n",
      "[Parallel(n_jobs=-1)]: Done 39692 tasks      | elapsed:   19.6s\n",
      "[Parallel(n_jobs=-1)]: Done 68492 tasks      | elapsed:   33.4s\n",
      "[Parallel(n_jobs=-1)]: Done 98736 tasks      | elapsed:   46.8s\n",
      "[Parallel(n_jobs=-1)]: Done 99000 out of 99000 | elapsed:   46.9s finished\n"
     ]
    }
   ],
   "source": [
    "parameters={'min_impurity_decrease':[0+x/100 for x in range(1,100)],'ccp_alpha':[x/100 for x in range(0,100,1)],'class_weight':['balanced'],'criterion':['entropy','gini']}\n",
    "dtc3 = GridSearchCV(DecisionTreeClassifier(),param_grid=parameters,verbose=True,n_jobs=-1)\n",
    "dtc3.fit(stimXtrain,stimYtrain)\n",
    "dtcytrainpred = dtc3.predict(stimXtrain)\n",
    "dtcytestpred = dtc3.predict(stimXtest)"
   ]
  },
  {
   "cell_type": "code",
   "execution_count": 103,
   "metadata": {},
   "outputs": [
    {
     "data": {
      "text/plain": [
       "(0.5344461165030636, 0.4984071172586556)"
      ]
     },
     "execution_count": 103,
     "metadata": {},
     "output_type": "execute_result"
    }
   ],
   "source": [
    "f1_score(stimYtrain,dtcytrainpred,average='weighted'),f1_score(stimYtest,dtcytestpred,average='weighted')\n"
   ]
  },
  {
   "cell_type": "code",
   "execution_count": 104,
   "metadata": {},
   "outputs": [],
   "source": [
    "standardmodel4 = dtc.best_estimator_\n",
    "standardmodel5 = dtc2.best_estimator_\n",
    "standardmodel6 = dtc3.best_estimator_\n",
    "\n",
    "pkl.dump(standardmodel4,open('StandardModel4.pkl','wb'))\n",
    "pkl.dump(standardmodel5,open('StandardModel5.pkl','wb'))\n",
    "pkl.dump(standardmodel6,open('StandardModel6.pkl','wb'))\n",
    "\n",
    "\n"
   ]
  },
  {
   "cell_type": "markdown",
   "metadata": {},
   "source": [
    "Knearest"
   ]
  },
  {
   "cell_type": "code",
   "execution_count": 105,
   "metadata": {},
   "outputs": [
    {
     "name": "stdout",
     "output_type": "stream",
     "text": [
      "Fitting 5 folds for each of 49 candidates, totalling 245 fits\n"
     ]
    },
    {
     "name": "stderr",
     "output_type": "stream",
     "text": [
      "[Parallel(n_jobs=-1)]: Using backend LokyBackend with 12 concurrent workers.\n",
      "[Parallel(n_jobs=-1)]: Done  28 tasks      | elapsed:    0.1s\n",
      "[Parallel(n_jobs=-1)]: Done 245 out of 245 | elapsed:    0.6s finished\n"
     ]
    }
   ],
   "source": [
    "# knn = KNeighborsClassifier(n_neighbors=43,weights='uniform')\n",
    "# knn.fit(stimXtrain,stimYtrain)\n",
    "# knntrainypred=knn.predict(stimXtrain)\n",
    "# knntestypred=knn.predict(stimXtest)\n",
    "# f1_score(stimYtrain,knntrainypred,average='weighted'),f1_score(stimYtest,knntestypred,average='weighted')\n",
    "parameters={'n_neighbors':range(1,50)}\n",
    "knn = GridSearchCV(KNeighborsClassifier(),param_grid=parameters,verbose=True,n_jobs=-1)\n",
    "knn.fit(stimXtrain,stimYtrain)\n",
    "knnytrainpred = knn.predict(stimXtrain)\n",
    "knnytestpred = knn.predict(stimXtest)\n",
    "\n"
   ]
  },
  {
   "cell_type": "code",
   "execution_count": null,
   "metadata": {},
   "outputs": [],
   "source": []
  },
  {
   "cell_type": "code",
   "execution_count": 107,
   "metadata": {},
   "outputs": [
    {
     "name": "stdout",
     "output_type": "stream",
     "text": [
      "Fitting 5 folds for each of 1080 candidates, totalling 5400 fits\n"
     ]
    },
    {
     "name": "stderr",
     "output_type": "stream",
     "text": [
      "[Parallel(n_jobs=-1)]: Using backend LokyBackend with 12 concurrent workers.\n",
      "[Parallel(n_jobs=-1)]: Done  26 tasks      | elapsed:    1.4s\n",
      "[Parallel(n_jobs=-1)]: Done 748 tasks      | elapsed:    3.5s\n",
      "[Parallel(n_jobs=-1)]: Done 2748 tasks      | elapsed:   11.5s\n",
      "[Parallel(n_jobs=-1)]: Done 5400 out of 5400 | elapsed:   23.2s finished\n"
     ]
    }
   ],
   "source": [
    "parameters={'n_neighbors':range(50,1130)}\n",
    "knn2 = GridSearchCV(KNeighborsClassifier(),param_grid=parameters,verbose=True,n_jobs=-1)\n",
    "knn2.fit(stimXtrain,stimYtrain)\n",
    "knn2ytrainpred = knn2.predict(stimXtrain)\n",
    "knn2ytestpred = knn2.predict(stimXtest)\n"
   ]
  },
  {
   "cell_type": "code",
   "execution_count": 109,
   "metadata": {},
   "outputs": [],
   "source": [
    "standardmodel7 = knn.best_estimator_\n",
    "standardmodel8 = knn2.best_estimator_\n",
    "\n",
    "pkl.dump(standardmodel7,open('StandardModel7.pkl','wb'))\n",
    "pkl.dump(standardmodel8,open('StandardModel8.pkl','wb'))"
   ]
  },
  {
   "cell_type": "markdown",
   "metadata": {},
   "source": [
    "Random Forest"
   ]
  },
  {
   "cell_type": "code",
   "execution_count": 113,
   "metadata": {},
   "outputs": [
    {
     "name": "stdout",
     "output_type": "stream",
     "text": [
      "Fitting 5 folds for each of 2030 candidates, totalling 10150 fits\n"
     ]
    },
    {
     "name": "stderr",
     "output_type": "stream",
     "text": [
      "[Parallel(n_jobs=-1)]: Using backend LokyBackend with 12 concurrent workers.\n",
      "[Parallel(n_jobs=-1)]: Done  26 tasks      | elapsed:    4.1s\n",
      "[Parallel(n_jobs=-1)]: Done 176 tasks      | elapsed:   34.7s\n",
      "[Parallel(n_jobs=-1)]: Done 426 tasks      | elapsed:  2.2min\n",
      "[Parallel(n_jobs=-1)]: Done 776 tasks      | elapsed:  2.6min\n",
      "[Parallel(n_jobs=-1)]: Done 1226 tasks      | elapsed:  3.6min\n",
      "[Parallel(n_jobs=-1)]: Done 1776 tasks      | elapsed:  5.2min\n",
      "[Parallel(n_jobs=-1)]: Done 2426 tasks      | elapsed:  7.3min\n",
      "[Parallel(n_jobs=-1)]: Done 3176 tasks      | elapsed:  8.7min\n",
      "[Parallel(n_jobs=-1)]: Done 4026 tasks      | elapsed: 10.9min\n",
      "[Parallel(n_jobs=-1)]: Done 4976 tasks      | elapsed: 13.7min\n",
      "[Parallel(n_jobs=-1)]: Done 6026 tasks      | elapsed: 16.5min\n",
      "[Parallel(n_jobs=-1)]: Done 7176 tasks      | elapsed: 19.6min\n",
      "[Parallel(n_jobs=-1)]: Done 8426 tasks      | elapsed: 24.2min\n",
      "[Parallel(n_jobs=-1)]: Done 9776 tasks      | elapsed: 28.8min\n",
      "[Parallel(n_jobs=-1)]: Done 10150 out of 10150 | elapsed: 29.0min finished\n"
     ]
    }
   ],
   "source": [
    "# rfc = RandomForestClassifier(criterion='gini',ccp_alpha=0.005,n_estimators=1000,max_features=6,class_weight='balanced',max_depth=6,oob_score=True)\n",
    "# rfc.fit(stimXtrain,stimYtrain)\n",
    "parameters={'ccp_alpha':[x/10 for x in list(range(0,10,1))],'max_features':range(1,30,1),'class_weight':['balanced'],'criterion':['entropy'],'n_estimators':[100,200,300,400,500,1000,2000]}\n",
    "rfc = GridSearchCV(RandomForestClassifier(),param_grid=parameters,verbose=True,n_jobs=-1)\n",
    "rfc.fit(stimXtrain,stimYtrain)\n",
    "rfcytrainpred = rfc.predict(stimXtrain)\n",
    "rfcytestpred = rfc.predict(stimXtest)\n",
    "\n"
   ]
  },
  {
   "cell_type": "code",
   "execution_count": null,
   "metadata": {},
   "outputs": [],
   "source": [
    "rfctrainypred = rfc.predict(stimXtrain)\n",
    "rfctestypred = rfc.predict(stimXtest)\n",
    "f1_score(rfctrainypred,stimYtrain,average='weighted'),f1_score(rfctestypred,stimYtest,average='weighted')"
   ]
  },
  {
   "cell_type": "code",
   "execution_count": 115,
   "metadata": {},
   "outputs": [
    {
     "name": "stdout",
     "output_type": "stream",
     "text": [
      "Fitting 5 folds for each of 1540 candidates, totalling 7700 fits\n"
     ]
    },
    {
     "name": "stderr",
     "output_type": "stream",
     "text": [
      "[Parallel(n_jobs=-1)]: Using backend LokyBackend with 12 concurrent workers.\n",
      "[Parallel(n_jobs=-1)]: Done  26 tasks      | elapsed:    2.1s\n",
      "[Parallel(n_jobs=-1)]: Done 176 tasks      | elapsed:   19.2s\n",
      "[Parallel(n_jobs=-1)]: Done 426 tasks      | elapsed:  1.3min\n",
      "[Parallel(n_jobs=-1)]: Done 776 tasks      | elapsed:  2.1min\n",
      "[Parallel(n_jobs=-1)]: Done 1226 tasks      | elapsed:  3.7min\n",
      "[Parallel(n_jobs=-1)]: Done 1776 tasks      | elapsed:  5.1min\n",
      "[Parallel(n_jobs=-1)]: Done 2426 tasks      | elapsed:  7.1min\n",
      "[Parallel(n_jobs=-1)]: Done 3176 tasks      | elapsed:  9.4min\n",
      "[Parallel(n_jobs=-1)]: Done 4026 tasks      | elapsed: 12.2min\n",
      "[Parallel(n_jobs=-1)]: Done 4976 tasks      | elapsed: 15.6min\n",
      "[Parallel(n_jobs=-1)]: Done 6026 tasks      | elapsed: 19.2min\n",
      "[Parallel(n_jobs=-1)]: Done 7176 tasks      | elapsed: 22.6min\n",
      "[Parallel(n_jobs=-1)]: Done 7700 out of 7700 | elapsed: 24.4min finished\n"
     ]
    }
   ],
   "source": [
    "parameters={'ccp_alpha':[x/10 for x in list(range(0,10,1))]\n",
    "                         ,'random_state':[True],'max_features':[0,1,2,3,4,5,6,7,15,30,43]\n",
    "                         ,'class_weight':['balanced'],'criterion':['gini']\n",
    "                         ,'oob_score':[True,False],'n_estimators':[100,200,300,400,500,1000,2000]}\n",
    "rfc2 = GridSearchCV(RandomForestClassifier(),param_grid=parameters,verbose=True,n_jobs=-1)\n",
    "rfc2.fit(stimXtrain,stimYtrain)\n",
    "rfc2ytrainpred = rfc2.predict(stimXtrain)\n",
    "rfc2ytestpred = rfc2.predict(stimXtest)\n",
    "\n"
   ]
  },
  {
   "cell_type": "code",
   "execution_count": 116,
   "metadata": {},
   "outputs": [
    {
     "data": {
      "text/plain": [
       "(1.0, 0.6652202981862024)"
      ]
     },
     "execution_count": 116,
     "metadata": {},
     "output_type": "execute_result"
    }
   ],
   "source": [
    "rfc2trainypred = rfc2.predict(stimXtrain)\n",
    "rfc2testypred = rfc2.predict(stimXtest)\n",
    "f1_score(rfc2trainypred,stimYtrain,average='weighted'),f1_score(rfc2testypred,stimYtest,average='weighted')"
   ]
  },
  {
   "cell_type": "code",
   "execution_count": 118,
   "metadata": {},
   "outputs": [],
   "source": [
    "standardmodel9 = rfc.best_estimator_\n",
    "standardmodel10 = rfc2.best_estimator_\n",
    "\n",
    "pkl.dump(standardmodel9,open('StandardModel9.pkl','wb'))\n",
    "pkl.dump(standardmodel10,open('StandardModel10.pkl','wb'))"
   ]
  },
  {
   "cell_type": "markdown",
   "metadata": {},
   "source": [
    "voting classifier"
   ]
  },
  {
   "cell_type": "code",
   "execution_count": 24,
   "metadata": {},
   "outputs": [
    {
     "data": {
      "text/plain": [
       "VotingClassifier(estimators=[('dtc2',\n",
       "                              DecisionTreeClassifier(ccp_alpha=0.0052,\n",
       "                                                     criterion='entropy',\n",
       "                                                     max_depth=50)),\n",
       "                             ('rfc2',\n",
       "                              RandomForestClassifier(ccp_alpha=0.01,\n",
       "                                                     class_weight='balanced',\n",
       "                                                     criterion='entropy',\n",
       "                                                     n_estimators=10000,\n",
       "                                                     oob_score=True)),\n",
       "                             ('knn', KNeighborsClassifier(n_neighbors=43)),\n",
       "                             ('knn2', KNeighborsClassifier(n_neighbors=11)),\n",
       "                             ('log',\n",
       "                              LogisticRegres...\n",
       "                              LogisticRegression(class_weight='balanced',\n",
       "                                                 max_iter=4000, solver='sag',\n",
       "                                                 tol=0.1, warm_start=True)),\n",
       "                             ('dtc', DecisionTreeClassifier(ccp_alpha=0.0025)),\n",
       "                             ('dtc3',\n",
       "                              DecisionTreeClassifier(ccp_alpha=0.005,\n",
       "                                                     class_weight='balanced')),\n",
       "                             ('rfc',\n",
       "                              RandomForestClassifier(ccp_alpha=0.005,\n",
       "                                                     class_weight='balanced',\n",
       "                                                     max_depth=6,\n",
       "                                                     max_features=6,\n",
       "                                                     n_estimators=1000,\n",
       "                                                     oob_score=True))],\n",
       "                 n_jobs=-1, verbose=True)"
      ]
     },
     "execution_count": 24,
     "metadata": {},
     "output_type": "execute_result"
    }
   ],
   "source": [
    "vtc = VotingClassifier([('dtc2',dtc2),('rfc2',rfc2),('knn',knn),('knn2',knn2),('log',mod),('log3',mod3),('log2',mod2),('dtc',dtc),('dtc3',dtc3),(\"rfc\",rfc)],voting='hard',verbose = True,n_jobs=-1)\n",
    "vtc.fit(stimXtrain,stimYtrain)"
   ]
  },
  {
   "cell_type": "code",
   "execution_count": 25,
   "metadata": {},
   "outputs": [
    {
     "name": "stdout",
     "output_type": "stream",
     "text": [
      "0.6260190582728704 0.6084518184576705\n"
     ]
    }
   ],
   "source": [
    "vtcypred = vtc.predict(stimXtest)\n",
    "vtcytrain = vtc.predict(stimXtrain)\n",
    "\n",
    "print(f1_score(vtcytrain,stimYtrain,average='weighted'),f1_score(stimYtest,vtcypred,average='weighted'))\n"
   ]
  },
  {
   "cell_type": "code",
   "execution_count": 26,
   "metadata": {},
   "outputs": [],
   "source": [
    "pkl.dump(vtc,open('vtc.pkl','wb'))"
   ]
  },
  {
   "cell_type": "code",
   "execution_count": null,
   "metadata": {},
   "outputs": [],
   "source": []
  },
  {
   "cell_type": "code",
   "execution_count": null,
   "metadata": {},
   "outputs": [],
   "source": []
  },
  {
   "cell_type": "code",
   "execution_count": null,
   "metadata": {},
   "outputs": [],
   "source": []
  }
 ],
 "metadata": {
  "kernelspec": {
   "display_name": "Python 3",
   "language": "python",
   "name": "python3"
  },
  "language_info": {
   "codemirror_mode": {
    "name": "ipython",
    "version": 3
   },
   "file_extension": ".py",
   "mimetype": "text/x-python",
   "name": "python",
   "nbconvert_exporter": "python",
   "pygments_lexer": "ipython3",
   "version": "3.8.3"
  }
 },
 "nbformat": 4,
 "nbformat_minor": 4
}
