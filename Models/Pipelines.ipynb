{
 "cells": [
  {
   "cell_type": "code",
   "execution_count": 210,
   "metadata": {},
   "outputs": [],
   "source": [
    "import pandas as pd\n",
    "import sklearn\n",
    "from sklearn.linear_model import LogisticRegression\n",
    "from sklearn.metrics import f1_score,confusion_matrix,accuracy_score,classification_report,roc_auc_score\n",
    "from sklearn.model_selection import train_test_split,GridSearchCV\n",
    "from sklearn.tree import DecisionTreeClassifier\n",
    "from sklearn.ensemble import RandomForestClassifier,VotingClassifier\n",
    "from sklearn.preprocessing import PolynomialFeatures,StandardScaler\n",
    "from sklearn.feature_selection import SelectKBest\n",
    "from sklearn.neighbors import KNeighborsClassifier\n",
    "from sklearn.pipeline import Pipeline\n",
    "pd.set_option('display.max_columns', 500)\n",
    "import pickle as pkl\n"
   ]
  },
  {
   "cell_type": "code",
   "execution_count": 211,
   "metadata": {},
   "outputs": [],
   "source": [
    "logistic1,logistic2,logistic3 = pkl.load(open('StandardModel1.pkl','rb')),pkl.load(open('StandardModel2.pkl','rb')),pkl.load(open('StandardModel3.pkl','rb'))\n",
    "logistic4,logistic5,logistic6 = pkl.load(open('PolyModel1.pkl','rb')),pkl.load(open('PolyModel2.pkl','rb')),pkl.load(open('PolyModel3.pkl','rb'))\n",
    "\n"
   ]
  },
  {
   "cell_type": "code",
   "execution_count": 212,
   "metadata": {},
   "outputs": [],
   "source": [
    "dtc1,dtc2,dtc3 = pkl.load(open('StandardModel4.pkl','rb')),pkl.load(open('StandardModel5.pkl','rb')),pkl.load(open('StandardModel6.pkl','rb'))\n",
    "dtc4,dtc5,dtc6 = pkl.load(open('PolyModel4.pkl','rb')),pkl.load(open('PolyModel5.pkl','rb')),pkl.load(open('PolyModel6.pkl','rb'))\n",
    "\n",
    "\n"
   ]
  },
  {
   "cell_type": "code",
   "execution_count": 213,
   "metadata": {},
   "outputs": [],
   "source": [
    "knn1,knn2 = pkl.load(open('StandardModel7.pkl','rb')),pkl.load(open('StandardModel8.pkl','rb'))\n",
    "knn3,knn4 = pkl.load(open('PolyModel7.pkl','rb')),pkl.load(open('PolyModel8.pkl','rb'))\n",
    "\n"
   ]
  },
  {
   "cell_type": "code",
   "execution_count": 215,
   "metadata": {},
   "outputs": [],
   "source": [
    "df = pd.read_csv('prepeddata.csv',index_col='Unnamed: 0')\n",
    "df['stimulant'] = df['stimulant'].apply(lambda x: 'low' if x <= 2 else 'high')\n"
   ]
  },
  {
   "cell_type": "code",
   "execution_count": null,
   "metadata": {},
   "outputs": [],
   "source": []
  },
  {
   "cell_type": "code",
   "execution_count": 216,
   "metadata": {},
   "outputs": [],
   "source": [
    "stimXtrain,stimXtest,stimYtrain,stimYtest = train_test_split(stimx,stimy)\n",
    "sm = SMOTE()\n",
    "tl = TomekLinks()\n",
    "sampling = SMOTETomek( random_state=None, smote=sm, tomek=tl, n_jobs=1)\n",
    "\n",
    "\n",
    "stimXtrain, stimYtrain = sampling.fit_resample(stimXtrain, stimYtrain)"
   ]
  },
  {
   "cell_type": "code",
   "execution_count": 217,
   "metadata": {},
   "outputs": [],
   "source": [
    "poly = PolynomialFeatures(degree=3,interaction_only=True)\n",
    "selector = SelectKBest(k=43)"
   ]
  },
  {
   "cell_type": "code",
   "execution_count": 218,
   "metadata": {},
   "outputs": [
    {
     "name": "stderr",
     "output_type": "stream",
     "text": [
      "/opt/anaconda3/lib/python3.8/site-packages/sklearn/feature_selection/_univariate_selection.py:114: UserWarning: Features [0] are constant.\n",
      "  warnings.warn(\"Features %s are constant.\" % constant_features_idx,\n",
      "/opt/anaconda3/lib/python3.8/site-packages/sklearn/feature_selection/_univariate_selection.py:116: RuntimeWarning: invalid value encountered in true_divide\n",
      "  f = msb / msw\n",
      "/opt/anaconda3/lib/python3.8/site-packages/sklearn/feature_selection/_univariate_selection.py:114: UserWarning: Features [0] are constant.\n",
      "  warnings.warn(\"Features %s are constant.\" % constant_features_idx,\n",
      "/opt/anaconda3/lib/python3.8/site-packages/sklearn/feature_selection/_univariate_selection.py:116: RuntimeWarning: invalid value encountered in true_divide\n",
      "  f = msb / msw\n",
      "/opt/anaconda3/lib/python3.8/site-packages/sklearn/feature_selection/_univariate_selection.py:114: UserWarning: Features [0] are constant.\n",
      "  warnings.warn(\"Features %s are constant.\" % constant_features_idx,\n",
      "/opt/anaconda3/lib/python3.8/site-packages/sklearn/feature_selection/_univariate_selection.py:116: RuntimeWarning: invalid value encountered in true_divide\n",
      "  f = msb / msw\n"
     ]
    },
    {
     "data": {
      "text/plain": [
       "Pipeline(steps=[('poly', PolynomialFeatures(degree=3, interaction_only=True)),\n",
       "                ('best', SelectKBest(k=43)), ('scaler', StandardScaler()),\n",
       "                ('model',\n",
       "                 LogisticRegression(C=0.1, class_weight='auto', l1_ratio=0.3,\n",
       "                                    max_iter=1000, penalty='elasticnet',\n",
       "                                    solver='saga', tol=1))])"
      ]
     },
     "execution_count": 218,
     "metadata": {},
     "output_type": "execute_result"
    }
   ],
   "source": [
    "polymod1 = Pipeline([('poly', poly),('best',selector),('scaler',StandardScaler()),('model', logistic4)])\n",
    "polymod1.fit(xtrain,ytrain)\n",
    "polymod2 = Pipeline([('poly', poly),('best',selector),('scaler',StandardScaler()),('model', logistic5)])\n",
    "polymod2.fit(xtrain,ytrain)\n",
    "polymod3 = Pipeline([('poly', poly),('best',selector),('scaler',StandardScaler()),('model', logistic6)])\n",
    "polymod3.fit(xtrain,ytrain)"
   ]
  },
  {
   "cell_type": "code",
   "execution_count": 220,
   "metadata": {},
   "outputs": [
    {
     "name": "stderr",
     "output_type": "stream",
     "text": [
      "/opt/anaconda3/lib/python3.8/site-packages/sklearn/linear_model/_logistic.py:1315: UserWarning: l1_ratio parameter is only used when penalty is 'elasticnet'. Got (penalty=l2)\n",
      "  warnings.warn(\"l1_ratio parameter is only used when penalty is \"\n"
     ]
    },
    {
     "data": {
      "text/plain": [
       "Pipeline(steps=[('scaler', StandardScaler()),\n",
       "                ('model',\n",
       "                 LogisticRegression(C=0.001, l1_ratio=0.3, max_iter=1000,\n",
       "                                    solver='sag', tol=10, warm_start=True))])"
      ]
     },
     "execution_count": 220,
     "metadata": {},
     "output_type": "execute_result"
    }
   ],
   "source": [
    "mod1 = Pipeline([('scaler',StandardScaler()),('model', logistic1)])\n",
    "mod1.fit(xtrain,ytrain)\n",
    "mod2 = Pipeline([('scaler',StandardScaler()),('model', logistic2)])\n",
    "mod2.fit(xtrain,ytrain)\n",
    "mod3 = Pipeline([('scaler',StandardScaler()),('model', logistic3)])\n",
    "mod3.fit(xtrain,ytrain)"
   ]
  },
  {
   "cell_type": "code",
   "execution_count": 221,
   "metadata": {},
   "outputs": [
    {
     "data": {
      "text/plain": [
       "Pipeline(steps=[('scaler', StandardScaler()),\n",
       "                ('model',\n",
       "                 DecisionTreeClassifier(class_weight='balanced',\n",
       "                                        criterion='entropy',\n",
       "                                        min_impurity_decrease=0.01))])"
      ]
     },
     "execution_count": 221,
     "metadata": {},
     "output_type": "execute_result"
    }
   ],
   "source": [
    "mod4 = Pipeline([('scaler',StandardScaler()),('model', dtc1)])\n",
    "mod4.fit(xtrain,ytrain)\n",
    "mod5 = Pipeline([('scaler',StandardScaler()),('model', dtc2)])\n",
    "mod5.fit(xtrain,ytrain)\n",
    "mod6 = Pipeline([('scaler',StandardScaler()),('model', dtc3)])\n",
    "mod6.fit(xtrain,ytrain)"
   ]
  },
  {
   "cell_type": "code",
   "execution_count": 222,
   "metadata": {},
   "outputs": [
    {
     "name": "stderr",
     "output_type": "stream",
     "text": [
      "/opt/anaconda3/lib/python3.8/site-packages/sklearn/feature_selection/_univariate_selection.py:114: UserWarning: Features [0] are constant.\n",
      "  warnings.warn(\"Features %s are constant.\" % constant_features_idx,\n",
      "/opt/anaconda3/lib/python3.8/site-packages/sklearn/feature_selection/_univariate_selection.py:116: RuntimeWarning: invalid value encountered in true_divide\n",
      "  f = msb / msw\n",
      "/opt/anaconda3/lib/python3.8/site-packages/sklearn/feature_selection/_univariate_selection.py:114: UserWarning: Features [0] are constant.\n",
      "  warnings.warn(\"Features %s are constant.\" % constant_features_idx,\n",
      "/opt/anaconda3/lib/python3.8/site-packages/sklearn/feature_selection/_univariate_selection.py:116: RuntimeWarning: invalid value encountered in true_divide\n",
      "  f = msb / msw\n",
      "/opt/anaconda3/lib/python3.8/site-packages/sklearn/feature_selection/_univariate_selection.py:114: UserWarning: Features [0] are constant.\n",
      "  warnings.warn(\"Features %s are constant.\" % constant_features_idx,\n",
      "/opt/anaconda3/lib/python3.8/site-packages/sklearn/feature_selection/_univariate_selection.py:116: RuntimeWarning: invalid value encountered in true_divide\n",
      "  f = msb / msw\n"
     ]
    },
    {
     "data": {
      "text/plain": [
       "Pipeline(steps=[('poly', PolynomialFeatures(degree=3, interaction_only=True)),\n",
       "                ('best', SelectKBest(k=43)), ('scaler', StandardScaler()),\n",
       "                ('model',\n",
       "                 DecisionTreeClassifier(class_weight='balanced',\n",
       "                                        min_impurity_decrease=0.01,\n",
       "                                        min_samples_leaf=2))])"
      ]
     },
     "execution_count": 222,
     "metadata": {},
     "output_type": "execute_result"
    }
   ],
   "source": [
    "polymod4 = Pipeline([('poly', poly),('best',SelectKBest(k=43)),('scaler',StandardScaler()),('model', dtc4)])\n",
    "polymod4.fit(xtrain,ytrain)\n",
    "polymod5 = Pipeline([('poly', poly),('best',SelectKBest(k=43)),('scaler',StandardScaler()),('model', dtc5)])\n",
    "polymod5.fit(xtrain,ytrain)\n",
    "polymod6 = Pipeline([('poly', poly),('best',SelectKBest(k=43)),('scaler',StandardScaler()),('model', dtc6)])\n",
    "polymod6.fit(xtrain,ytrain)"
   ]
  },
  {
   "cell_type": "code",
   "execution_count": 223,
   "metadata": {},
   "outputs": [
    {
     "name": "stderr",
     "output_type": "stream",
     "text": [
      "/opt/anaconda3/lib/python3.8/site-packages/sklearn/feature_selection/_univariate_selection.py:114: UserWarning: Features [0] are constant.\n",
      "  warnings.warn(\"Features %s are constant.\" % constant_features_idx,\n",
      "/opt/anaconda3/lib/python3.8/site-packages/sklearn/feature_selection/_univariate_selection.py:116: RuntimeWarning: invalid value encountered in true_divide\n",
      "  f = msb / msw\n",
      "/opt/anaconda3/lib/python3.8/site-packages/sklearn/feature_selection/_univariate_selection.py:114: UserWarning: Features [0] are constant.\n",
      "  warnings.warn(\"Features %s are constant.\" % constant_features_idx,\n",
      "/opt/anaconda3/lib/python3.8/site-packages/sklearn/feature_selection/_univariate_selection.py:116: RuntimeWarning: invalid value encountered in true_divide\n",
      "  f = msb / msw\n"
     ]
    },
    {
     "data": {
      "text/plain": [
       "Pipeline(steps=[('poly', PolynomialFeatures(degree=3, interaction_only=True)),\n",
       "                ('best', SelectKBest(k=43)), ('scaler', StandardScaler()),\n",
       "                ('model', KNeighborsClassifier(n_neighbors=93))])"
      ]
     },
     "execution_count": 223,
     "metadata": {},
     "output_type": "execute_result"
    }
   ],
   "source": [
    "mod7 = Pipeline([('scaler',StandardScaler()),('model', knn1)])\n",
    "mod7.fit(stimx,stimy)\n",
    "mod8 = Pipeline([('scaler',StandardScaler()),('model', knn2)])\n",
    "mod8.fit(xtrain,ytrain)\n",
    "polymod7 = Pipeline([('poly', poly),('best',SelectKBest(k=43)),('scaler',StandardScaler()),('model', knn3)])\n",
    "polymod7.fit(stimx,stimy)\n",
    "polymod8 = Pipeline([('poly', poly),('best',SelectKBest(k=43)),('scaler',StandardScaler()),('model', knn4)])\n",
    "polymod8.fit(xtrain,ytrain)\n"
   ]
  },
  {
   "cell_type": "code",
   "execution_count": 1,
   "metadata": {},
   "outputs": [
    {
     "ename": "IndentationError",
     "evalue": "unexpected indent (<ipython-input-1-893a86da7b1e>, line 10)",
     "output_type": "error",
     "traceback": [
      "\u001b[0;36m  File \u001b[0;32m\"<ipython-input-1-893a86da7b1e>\"\u001b[0;36m, line \u001b[0;32m10\u001b[0m\n\u001b[0;31m    ('dtc4',dtc4),('dtc5',dtc5),('dtc6',dtc6)(\"\")\u001b[0m\n\u001b[0m    ^\u001b[0m\n\u001b[0;31mIndentationError\u001b[0m\u001b[0;31m:\u001b[0m unexpected indent\n"
     ]
    }
   ],
   "source": [
    "logvtc = VotingClassifier([('mod1',mod1),('mod2',mod2),('mod3',mod3)\n",
    "                           ,('p1',polymod1),('p2',polymod2),('p3',polymod3)\n",
    "                           ,('knn1',mod7),('knn2',mod8)\n",
    "                           ,('knn3',polymod7),('knn4',polymod8)]\n",
    "                          ,voting= 'hard')\n",
    "\n",
    "\n",
    "\n",
    ",('dtc1',dtc1),('dtc2',dtc2),('dtc3',dtc3)\n",
    "                           ,('dtc4',dtc4),('dtc5',dtc5),('dtc6',dtc6)"
   ]
  },
  {
   "cell_type": "code",
   "execution_count": 225,
   "metadata": {},
   "outputs": [
    {
     "name": "stderr",
     "output_type": "stream",
     "text": [
      "/opt/anaconda3/lib/python3.8/site-packages/sklearn/linear_model/_logistic.py:1315: UserWarning: l1_ratio parameter is only used when penalty is 'elasticnet'. Got (penalty=l2)\n",
      "  warnings.warn(\"l1_ratio parameter is only used when penalty is \"\n",
      "/opt/anaconda3/lib/python3.8/site-packages/sklearn/feature_selection/_univariate_selection.py:114: UserWarning: Features [0] are constant.\n",
      "  warnings.warn(\"Features %s are constant.\" % constant_features_idx,\n",
      "/opt/anaconda3/lib/python3.8/site-packages/sklearn/feature_selection/_univariate_selection.py:116: RuntimeWarning: invalid value encountered in true_divide\n",
      "  f = msb / msw\n",
      "/opt/anaconda3/lib/python3.8/site-packages/sklearn/feature_selection/_univariate_selection.py:114: UserWarning: Features [0] are constant.\n",
      "  warnings.warn(\"Features %s are constant.\" % constant_features_idx,\n",
      "/opt/anaconda3/lib/python3.8/site-packages/sklearn/feature_selection/_univariate_selection.py:116: RuntimeWarning: invalid value encountered in true_divide\n",
      "  f = msb / msw\n",
      "/opt/anaconda3/lib/python3.8/site-packages/sklearn/feature_selection/_univariate_selection.py:114: UserWarning: Features [0] are constant.\n",
      "  warnings.warn(\"Features %s are constant.\" % constant_features_idx,\n",
      "/opt/anaconda3/lib/python3.8/site-packages/sklearn/feature_selection/_univariate_selection.py:116: RuntimeWarning: invalid value encountered in true_divide\n",
      "  f = msb / msw\n",
      "/opt/anaconda3/lib/python3.8/site-packages/sklearn/linear_model/_logistic.py:1315: UserWarning: l1_ratio parameter is only used when penalty is 'elasticnet'. Got (penalty=l2)\n",
      "  warnings.warn(\"l1_ratio parameter is only used when penalty is \"\n",
      "/opt/anaconda3/lib/python3.8/site-packages/sklearn/feature_selection/_univariate_selection.py:114: UserWarning: Features [0] are constant.\n",
      "  warnings.warn(\"Features %s are constant.\" % constant_features_idx,\n",
      "/opt/anaconda3/lib/python3.8/site-packages/sklearn/feature_selection/_univariate_selection.py:116: RuntimeWarning: invalid value encountered in true_divide\n",
      "  f = msb / msw\n",
      "/opt/anaconda3/lib/python3.8/site-packages/sklearn/feature_selection/_univariate_selection.py:114: UserWarning: Features [0] are constant.\n",
      "  warnings.warn(\"Features %s are constant.\" % constant_features_idx,\n",
      "/opt/anaconda3/lib/python3.8/site-packages/sklearn/feature_selection/_univariate_selection.py:116: RuntimeWarning: invalid value encountered in true_divide\n",
      "  f = msb / msw\n"
     ]
    },
    {
     "data": {
      "text/plain": [
       "VotingClassifier(estimators=[('mod1',\n",
       "                              Pipeline(steps=[('scaler', StandardScaler()),\n",
       "                                              ('model',\n",
       "                                               LogisticRegression(C=1,\n",
       "                                                                  class_weight='balanced',\n",
       "                                                                  max_iter=1000,\n",
       "                                                                  solver='liblinear',\n",
       "                                                                  warm_start=True))])),\n",
       "                             ('mod2',\n",
       "                              Pipeline(steps=[('scaler', StandardScaler()),\n",
       "                                              ('model',\n",
       "                                               LogisticRegression(C=1,\n",
       "                                                                  max_iter=1000,\n",
       "                                                                  solver='sag',\n",
       "                                                                  tol=0.1))])),\n",
       "                             ('mod3',\n",
       "                              Pipeline(steps=[('scaler', S...\n",
       "                                               PolynomialFeatures(degree=3,\n",
       "                                                                  interaction_only=True)),\n",
       "                                              ('best', SelectKBest(k=43)),\n",
       "                                              ('scaler', StandardScaler()),\n",
       "                                              ('model',\n",
       "                                               KNeighborsClassifier(n_neighbors=49))])),\n",
       "                             ('knn4',\n",
       "                              Pipeline(steps=[('poly',\n",
       "                                               PolynomialFeatures(degree=3,\n",
       "                                                                  interaction_only=True)),\n",
       "                                              ('best', SelectKBest(k=43)),\n",
       "                                              ('scaler', StandardScaler()),\n",
       "                                              ('model',\n",
       "                                               KNeighborsClassifier(n_neighbors=93))]))],\n",
       "                 voting='soft')"
      ]
     },
     "execution_count": 225,
     "metadata": {},
     "output_type": "execute_result"
    }
   ],
   "source": [
    "logvtc.fit(xtrain,ytrain)"
   ]
  },
  {
   "cell_type": "code",
   "execution_count": 226,
   "metadata": {},
   "outputs": [
    {
     "name": "stdout",
     "output_type": "stream",
     "text": [
      "              precision    recall  f1-score   support\n",
      "\n",
      "        high       0.33      0.30      0.32        70\n",
      "         low       0.88      0.90      0.89       402\n",
      "\n",
      "    accuracy                           0.81       472\n",
      "   macro avg       0.61      0.60      0.60       472\n",
      "weighted avg       0.80      0.81      0.80       472\n",
      "\n"
     ]
    }
   ],
   "source": [
    "pred = logvtc.predict(xtest)\n",
    "print(classification_report(ytest,pred))"
   ]
  },
  {
   "cell_type": "code",
   "execution_count": null,
   "metadata": {},
   "outputs": [],
   "source": []
  },
  {
   "cell_type": "code",
   "execution_count": null,
   "metadata": {},
   "outputs": [],
   "source": []
  }
 ],
 "metadata": {
  "kernelspec": {
   "display_name": "Python 3",
   "language": "python",
   "name": "python3"
  },
  "language_info": {
   "codemirror_mode": {
    "name": "ipython",
    "version": 3
   },
   "file_extension": ".py",
   "mimetype": "text/x-python",
   "name": "python",
   "nbconvert_exporter": "python",
   "pygments_lexer": "ipython3",
   "version": "3.8.3"
  }
 },
 "nbformat": 4,
 "nbformat_minor": 4
}
