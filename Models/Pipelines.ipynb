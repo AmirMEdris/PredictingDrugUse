{
 "cells": [
  {
   "cell_type": "code",
   "execution_count": 17,
   "metadata": {},
   "outputs": [],
   "source": [
    "import pandas as pd\n",
    "import sklearn\n",
    "from sklearn.linear_model import LogisticRegression\n",
    "from sklearn.metrics import f1_score,confusion_matrix,accuracy_score,classification_report,roc_auc_score\n",
    "from sklearn.model_selection import train_test_split,GridSearchCV\n",
    "from sklearn.tree import DecisionTreeClassifier\n",
    "from sklearn.ensemble import RandomForestClassifier,VotingClassifier\n",
    "from sklearn.preprocessing import PolynomialFeatures,StandardScaler\n",
    "from sklearn.feature_selection import SelectKBest\n",
    "from sklearn.neighbors import KNeighborsClassifier\n",
    "from sklearn.pipeline import Pipeline\n",
    "pd.set_option('display.max_columns', 500)\n",
    "import pickle as pkl\n"
   ]
  },
  {
   "cell_type": "code",
   "execution_count": 18,
   "metadata": {},
   "outputs": [],
   "source": [
    "logistic1,logistic2,logistic3 = pkl.load(open('StandardModel1.pkl','rb')),pkl.load(open('StandardModel2.pkl','rb')),pkl.load(open('StandardModel3.pkl','rb'))\n",
    "logistic4,logistic5,logistic6 = pkl.load(open('PolyModel1.pkl','rb')),pkl.load(open('PolyModel2.pkl','rb')),pkl.load(open('PolyModel3.pkl','rb'))\n",
    "\n"
   ]
  },
  {
   "cell_type": "code",
   "execution_count": 19,
   "metadata": {},
   "outputs": [],
   "source": [
    "dtc1,dtc2,dtc3 = pkl.load(open('StandardModel4.pkl','rb')),pkl.load(open('StandardModel5.pkl','rb')),pkl.load(open('StandardModel6.pkl','rb'))\n",
    "dtc4,dtc5,dtc6 = pkl.load(open('PolyModel4.pkl','rb')),pkl.load(open('PolyModel5.pkl','rb')),pkl.load(open('PolyModel6.pkl','rb'))\n",
    "\n",
    "\n"
   ]
  },
  {
   "cell_type": "code",
   "execution_count": 20,
   "metadata": {},
   "outputs": [],
   "source": [
    "knn1,knn2 = pkl.load(open('StandardModel7.pkl','rb')),pkl.load(open('StandardModel8.pkl','rb'))\n",
    "knn3,knn4 = pkl.load(open('PolyModel7.pkl','rb')),pkl.load(open('PolyModel8.pkl','rb'))\n",
    "\n"
   ]
  },
  {
   "cell_type": "code",
   "execution_count": 21,
   "metadata": {},
   "outputs": [],
   "source": [
    "df = pd.read_csv('../prepeddata.csv',index_col='Unnamed: 0')\n",
    "df['stimulant'] = df['stimulant'].apply(lambda x: 'low' if x <= 2 else 'high')\n",
    "stimx = df.drop(['stimulant','hallucinagen','depressant'],axis = 1)\n",
    " \n",
    "stimy = df.stimulant"
   ]
  },
  {
   "cell_type": "code",
   "execution_count": null,
   "metadata": {},
   "outputs": [],
   "source": []
  },
  {
   "cell_type": "code",
   "execution_count": 22,
   "metadata": {},
   "outputs": [
    {
     "ename": "NameError",
     "evalue": "name 'SMOTE' is not defined",
     "output_type": "error",
     "traceback": [
      "\u001b[1;31m---------------------------------------------------------------------------\u001b[0m",
      "\u001b[1;31mNameError\u001b[0m                                 Traceback (most recent call last)",
      "\u001b[1;32m<ipython-input-22-477212b0907a>\u001b[0m in \u001b[0;36m<module>\u001b[1;34m\u001b[0m\n\u001b[0;32m      1\u001b[0m \u001b[0mstimXtrain\u001b[0m\u001b[1;33m,\u001b[0m\u001b[0mstimXtest\u001b[0m\u001b[1;33m,\u001b[0m\u001b[0mstimYtrain\u001b[0m\u001b[1;33m,\u001b[0m\u001b[0mstimYtest\u001b[0m \u001b[1;33m=\u001b[0m \u001b[0mtrain_test_split\u001b[0m\u001b[1;33m(\u001b[0m\u001b[0mstimx\u001b[0m\u001b[1;33m,\u001b[0m\u001b[0mstimy\u001b[0m\u001b[1;33m)\u001b[0m\u001b[1;33m\u001b[0m\u001b[1;33m\u001b[0m\u001b[0m\n\u001b[1;32m----> 2\u001b[1;33m \u001b[0msm\u001b[0m \u001b[1;33m=\u001b[0m \u001b[0mSMOTE\u001b[0m\u001b[1;33m(\u001b[0m\u001b[1;33m)\u001b[0m\u001b[1;33m\u001b[0m\u001b[1;33m\u001b[0m\u001b[0m\n\u001b[0m\u001b[0;32m      3\u001b[0m \u001b[0mtl\u001b[0m \u001b[1;33m=\u001b[0m \u001b[0mTomekLinks\u001b[0m\u001b[1;33m(\u001b[0m\u001b[1;33m)\u001b[0m\u001b[1;33m\u001b[0m\u001b[1;33m\u001b[0m\u001b[0m\n\u001b[0;32m      4\u001b[0m \u001b[0msampling\u001b[0m \u001b[1;33m=\u001b[0m \u001b[0mSMOTETomek\u001b[0m\u001b[1;33m(\u001b[0m \u001b[0mrandom_state\u001b[0m\u001b[1;33m=\u001b[0m\u001b[1;32mNone\u001b[0m\u001b[1;33m,\u001b[0m \u001b[0msmote\u001b[0m\u001b[1;33m=\u001b[0m\u001b[0msm\u001b[0m\u001b[1;33m,\u001b[0m \u001b[0mtomek\u001b[0m\u001b[1;33m=\u001b[0m\u001b[0mtl\u001b[0m\u001b[1;33m,\u001b[0m \u001b[0mn_jobs\u001b[0m\u001b[1;33m=\u001b[0m\u001b[1;36m1\u001b[0m\u001b[1;33m)\u001b[0m\u001b[1;33m\u001b[0m\u001b[1;33m\u001b[0m\u001b[0m\n\u001b[0;32m      5\u001b[0m \u001b[1;33m\u001b[0m\u001b[0m\n",
      "\u001b[1;31mNameError\u001b[0m: name 'SMOTE' is not defined"
     ]
    }
   ],
   "source": [
    "stimXtrain,stimXtest,stimYtrain,stimYtest = train_test_split(stimx,stimy)\n",
    "sm = SMOTE()\n",
    "tl = TomekLinks()\n",
    "sampling = SMOTETomek( random_state=None, smote=sm, tomek=tl, n_jobs=1)\n",
    "\n",
    "\n",
    "stimXtrain, stimYtrain = sampling.fit_resample(stimXtrain, stimYtrain)"
   ]
  },
  {
   "cell_type": "code",
   "execution_count": 23,
   "metadata": {},
   "outputs": [],
   "source": [
    "poly = PolynomialFeatures(degree=3,interaction_only=True)\n",
    "selector = SelectKBest(k=43)"
   ]
  },
  {
   "cell_type": "code",
   "execution_count": 27,
   "metadata": {},
   "outputs": [
    {
     "name": "stderr",
     "output_type": "stream",
     "text": [
      "C:\\Users\\Sigma\\AppData\\Roaming\\Python\\Python37\\site-packages\\sklearn\\feature_selection\\_univariate_selection.py:115: UserWarning: Features [0] are constant.\n",
      "  UserWarning)\n",
      "C:\\Users\\Sigma\\AppData\\Roaming\\Python\\Python37\\site-packages\\sklearn\\feature_selection\\_univariate_selection.py:116: RuntimeWarning: invalid value encountered in true_divide\n",
      "  f = msb / msw\n",
      "C:\\Users\\Sigma\\AppData\\Roaming\\Python\\Python37\\site-packages\\sklearn\\feature_selection\\_univariate_selection.py:115: UserWarning: Features [0] are constant.\n",
      "  UserWarning)\n",
      "C:\\Users\\Sigma\\AppData\\Roaming\\Python\\Python37\\site-packages\\sklearn\\feature_selection\\_univariate_selection.py:116: RuntimeWarning: invalid value encountered in true_divide\n",
      "  f = msb / msw\n",
      "C:\\Users\\Sigma\\AppData\\Roaming\\Python\\Python37\\site-packages\\sklearn\\feature_selection\\_univariate_selection.py:115: UserWarning: Features [0] are constant.\n",
      "  UserWarning)\n",
      "C:\\Users\\Sigma\\AppData\\Roaming\\Python\\Python37\\site-packages\\sklearn\\feature_selection\\_univariate_selection.py:116: RuntimeWarning: invalid value encountered in true_divide\n",
      "  f = msb / msw\n",
      "C:\\Users\\Sigma\\AppData\\Roaming\\Python\\Python37\\site-packages\\sklearn\\linear_model\\_sag.py:329: ConvergenceWarning: The max_iter was reached which means the coef_ did not converge\n",
      "  \"the coef_ did not converge\", ConvergenceWarning)\n"
     ]
    },
    {
     "data": {
      "text/plain": [
       "Pipeline(steps=[('poly', PolynomialFeatures(degree=3, interaction_only=True)),\n",
       "                ('best', SelectKBest(k=43)), ('scaler', StandardScaler()),\n",
       "                ('model',\n",
       "                 LogisticRegression(class_weight='auto', max_iter=4000,\n",
       "                                    penalty='l1', solver='saga', tol=0,\n",
       "                                    warm_start=True))])"
      ]
     },
     "execution_count": 27,
     "metadata": {},
     "output_type": "execute_result"
    }
   ],
   "source": [
    "polymod1 = Pipeline([('poly', poly),('best',selector),('scaler',StandardScaler()),('model', logistic4)])\n",
    "polymod1.fit(stimXtrain,stimYtrain)\n",
    "polymod2 = Pipeline([('poly', poly),('best',selector),('scaler',StandardScaler()),('model', logistic5)])\n",
    "polymod2.fit(stimXtrain,stimYtrain)\n",
    "polymod3 = Pipeline([('poly', poly),('best',selector),('scaler',StandardScaler()),('model', logistic6)])\n",
    "polymod3.fit(stimXtrain,stimYtrain)"
   ]
  },
  {
   "cell_type": "code",
   "execution_count": 35,
   "metadata": {},
   "outputs": [
    {
     "name": "stderr",
     "output_type": "stream",
     "text": [
      "C:\\Users\\Sigma\\AppData\\Roaming\\Python\\Python37\\site-packages\\sklearn\\linear_model\\_sag.py:329: ConvergenceWarning: The max_iter was reached which means the coef_ did not converge\n",
      "  \"the coef_ did not converge\", ConvergenceWarning)\n",
      "C:\\Users\\Sigma\\AppData\\Roaming\\Python\\Python37\\site-packages\\sklearn\\linear_model\\_logistic.py:1319: UserWarning: l1_ratio parameter is only used when penalty is 'elasticnet'. Got (penalty=l1)\n",
      "  \"(penalty={})\".format(self.penalty))\n"
     ]
    },
    {
     "data": {
      "text/plain": [
       "Pipeline(steps=[('scaler', StandardScaler()),\n",
       "                ('model',\n",
       "                 LogisticRegression(C=1, class_weight='auto',\n",
       "                                    fit_intercept=False, l1_ratio=0.2,\n",
       "                                    max_iter=5000, penalty='l1', solver='saga',\n",
       "                                    tol=1))])"
      ]
     },
     "execution_count": 35,
     "metadata": {},
     "output_type": "execute_result"
    }
   ],
   "source": [
    "mod1 = Pipeline([('scaler',StandardScaler()),('model', logistic1)])\n",
    "mod1.fit(stimXtrain,stimYtrain)\n",
    "mod2 = Pipeline([('scaler',StandardScaler()),('model', logistic2)])\n",
    "mod2.fit(stimXtrain,stimYtrain)\n",
    "mod3 = Pipeline([('scaler',StandardScaler()),('model', logistic3)])\n",
    "mod3.fit(stimXtrain,stimYtrain)"
   ]
  },
  {
   "cell_type": "code",
   "execution_count": 36,
   "metadata": {},
   "outputs": [
    {
     "data": {
      "text/plain": [
       "Pipeline(steps=[('scaler', StandardScaler()),\n",
       "                ('model',\n",
       "                 DecisionTreeClassifier(criterion='entropy',\n",
       "                                        min_impurity_decrease=0.01))])"
      ]
     },
     "execution_count": 36,
     "metadata": {},
     "output_type": "execute_result"
    }
   ],
   "source": [
    "mod4 = Pipeline([('scaler',StandardScaler()),('model', dtc1)])\n",
    "mod4.fit(stimXtrain,stimYtrain)\n",
    "mod5 = Pipeline([('scaler',StandardScaler()),('model', dtc2)])\n",
    "mod5.fit(stimXtrain,stimYtrain)\n",
    "mod6 = Pipeline([('scaler',StandardScaler()),('model', dtc3)])\n",
    "mod6.fit(stimXtrain,stimYtrain)"
   ]
  },
  {
   "cell_type": "code",
   "execution_count": 37,
   "metadata": {},
   "outputs": [
    {
     "name": "stderr",
     "output_type": "stream",
     "text": [
      "C:\\Users\\Sigma\\AppData\\Roaming\\Python\\Python37\\site-packages\\sklearn\\feature_selection\\_univariate_selection.py:115: UserWarning: Features [0] are constant.\n",
      "  UserWarning)\n",
      "C:\\Users\\Sigma\\AppData\\Roaming\\Python\\Python37\\site-packages\\sklearn\\feature_selection\\_univariate_selection.py:116: RuntimeWarning: invalid value encountered in true_divide\n",
      "  f = msb / msw\n",
      "C:\\Users\\Sigma\\AppData\\Roaming\\Python\\Python37\\site-packages\\sklearn\\feature_selection\\_univariate_selection.py:115: UserWarning: Features [0] are constant.\n",
      "  UserWarning)\n",
      "C:\\Users\\Sigma\\AppData\\Roaming\\Python\\Python37\\site-packages\\sklearn\\feature_selection\\_univariate_selection.py:116: RuntimeWarning: invalid value encountered in true_divide\n",
      "  f = msb / msw\n",
      "C:\\Users\\Sigma\\AppData\\Roaming\\Python\\Python37\\site-packages\\sklearn\\feature_selection\\_univariate_selection.py:115: UserWarning: Features [0] are constant.\n",
      "  UserWarning)\n",
      "C:\\Users\\Sigma\\AppData\\Roaming\\Python\\Python37\\site-packages\\sklearn\\feature_selection\\_univariate_selection.py:116: RuntimeWarning: invalid value encountered in true_divide\n",
      "  f = msb / msw\n"
     ]
    },
    {
     "data": {
      "text/plain": [
       "Pipeline(steps=[('poly', PolynomialFeatures(degree=3, interaction_only=True)),\n",
       "                ('best', SelectKBest(k=43)), ('scaler', StandardScaler()),\n",
       "                ('model',\n",
       "                 DecisionTreeClassifier(criterion='entropy',\n",
       "                                        min_impurity_decrease=0.01,\n",
       "                                        min_samples_leaf=2))])"
      ]
     },
     "execution_count": 37,
     "metadata": {},
     "output_type": "execute_result"
    }
   ],
   "source": [
    "polymod4 = Pipeline([('poly', poly),('best',SelectKBest(k=43)),('scaler',StandardScaler()),('model', dtc4)])\n",
    "polymod4.fit(stimXtrain,stimYtrain)\n",
    "polymod5 = Pipeline([('poly', poly),('best',SelectKBest(k=43)),('scaler',StandardScaler()),('model', dtc5)])\n",
    "polymod5.fit(stimXtrain,stimYtrain)\n",
    "polymod6 = Pipeline([('poly', poly),('best',SelectKBest(k=43)),('scaler',StandardScaler()),('model', dtc6)])\n",
    "polymod6.fit(stimXtrain,stimYtrain)"
   ]
  },
  {
   "cell_type": "code",
   "execution_count": 38,
   "metadata": {},
   "outputs": [
    {
     "name": "stderr",
     "output_type": "stream",
     "text": [
      "C:\\Users\\Sigma\\AppData\\Roaming\\Python\\Python37\\site-packages\\sklearn\\feature_selection\\_univariate_selection.py:115: UserWarning: Features [0] are constant.\n",
      "  UserWarning)\n",
      "C:\\Users\\Sigma\\AppData\\Roaming\\Python\\Python37\\site-packages\\sklearn\\feature_selection\\_univariate_selection.py:116: RuntimeWarning: invalid value encountered in true_divide\n",
      "  f = msb / msw\n",
      "C:\\Users\\Sigma\\AppData\\Roaming\\Python\\Python37\\site-packages\\sklearn\\feature_selection\\_univariate_selection.py:115: UserWarning: Features [0] are constant.\n",
      "  UserWarning)\n",
      "C:\\Users\\Sigma\\AppData\\Roaming\\Python\\Python37\\site-packages\\sklearn\\feature_selection\\_univariate_selection.py:116: RuntimeWarning: invalid value encountered in true_divide\n",
      "  f = msb / msw\n"
     ]
    },
    {
     "data": {
      "text/plain": [
       "Pipeline(steps=[('poly', PolynomialFeatures(degree=3, interaction_only=True)),\n",
       "                ('best', SelectKBest(k=43)), ('scaler', StandardScaler()),\n",
       "                ('model', KNeighborsClassifier(n_neighbors=53))])"
      ]
     },
     "execution_count": 38,
     "metadata": {},
     "output_type": "execute_result"
    }
   ],
   "source": [
    "mod7 = Pipeline([('scaler',StandardScaler()),('model', knn1)])\n",
    "mod7.fit(stimXtrain,stimYtrain)\n",
    "mod8 = Pipeline([('scaler',StandardScaler()),('model', knn2)])\n",
    "mod8.fit(stimXtrain,stimYtrain)\n",
    "polymod7 = Pipeline([('poly', poly),('best',SelectKBest(k=43)),('scaler',StandardScaler()),('model', knn3)])\n",
    "polymod7.fit(stimXtrain,stimYtrain)\n",
    "polymod8 = Pipeline([('poly', poly),('best',SelectKBest(k=43)),('scaler',StandardScaler()),('model', knn4)])\n",
    "polymod8.fit(stimXtrain,stimYtrain)\n"
   ]
  },
  {
   "cell_type": "code",
   "execution_count": 44,
   "metadata": {},
   "outputs": [],
   "source": [
    "logvtc = VotingClassifier([('mod1',mod1),('mod2',mod2),('mod3',mod3)\n",
    "                           ,('p1',polymod1),('p2',polymod2),('p3',polymod3)\n",
    "                           ,('knn1',mod7),('knn2',mod8)\n",
    "                           ,('knn3',polymod7),('knn4',polymod8)]\n",
    "                          ,voting= 'soft')\n",
    "\n",
    "\n",
    "\n"
   ]
  },
  {
   "cell_type": "code",
   "execution_count": 45,
   "metadata": {},
   "outputs": [
    {
     "name": "stderr",
     "output_type": "stream",
     "text": [
      "C:\\Users\\Sigma\\AppData\\Roaming\\Python\\Python37\\site-packages\\sklearn\\linear_model\\_sag.py:329: ConvergenceWarning: The max_iter was reached which means the coef_ did not converge\n",
      "  \"the coef_ did not converge\", ConvergenceWarning)\n",
      "C:\\Users\\Sigma\\AppData\\Roaming\\Python\\Python37\\site-packages\\sklearn\\linear_model\\_logistic.py:1319: UserWarning: l1_ratio parameter is only used when penalty is 'elasticnet'. Got (penalty=l1)\n",
      "  \"(penalty={})\".format(self.penalty))\n",
      "C:\\Users\\Sigma\\AppData\\Roaming\\Python\\Python37\\site-packages\\sklearn\\feature_selection\\_univariate_selection.py:115: UserWarning: Features [0] are constant.\n",
      "  UserWarning)\n",
      "C:\\Users\\Sigma\\AppData\\Roaming\\Python\\Python37\\site-packages\\sklearn\\feature_selection\\_univariate_selection.py:116: RuntimeWarning: invalid value encountered in true_divide\n",
      "  f = msb / msw\n",
      "C:\\Users\\Sigma\\AppData\\Roaming\\Python\\Python37\\site-packages\\sklearn\\feature_selection\\_univariate_selection.py:115: UserWarning: Features [0] are constant.\n",
      "  UserWarning)\n",
      "C:\\Users\\Sigma\\AppData\\Roaming\\Python\\Python37\\site-packages\\sklearn\\feature_selection\\_univariate_selection.py:116: RuntimeWarning: invalid value encountered in true_divide\n",
      "  f = msb / msw\n",
      "C:\\Users\\Sigma\\AppData\\Roaming\\Python\\Python37\\site-packages\\sklearn\\feature_selection\\_univariate_selection.py:115: UserWarning: Features [0] are constant.\n",
      "  UserWarning)\n",
      "C:\\Users\\Sigma\\AppData\\Roaming\\Python\\Python37\\site-packages\\sklearn\\feature_selection\\_univariate_selection.py:116: RuntimeWarning: invalid value encountered in true_divide\n",
      "  f = msb / msw\n",
      "C:\\Users\\Sigma\\AppData\\Roaming\\Python\\Python37\\site-packages\\sklearn\\linear_model\\_sag.py:329: ConvergenceWarning: The max_iter was reached which means the coef_ did not converge\n",
      "  \"the coef_ did not converge\", ConvergenceWarning)\n",
      "C:\\Users\\Sigma\\AppData\\Roaming\\Python\\Python37\\site-packages\\sklearn\\feature_selection\\_univariate_selection.py:115: UserWarning: Features [0] are constant.\n",
      "  UserWarning)\n",
      "C:\\Users\\Sigma\\AppData\\Roaming\\Python\\Python37\\site-packages\\sklearn\\feature_selection\\_univariate_selection.py:116: RuntimeWarning: invalid value encountered in true_divide\n",
      "  f = msb / msw\n",
      "C:\\Users\\Sigma\\AppData\\Roaming\\Python\\Python37\\site-packages\\sklearn\\feature_selection\\_univariate_selection.py:115: UserWarning: Features [0] are constant.\n",
      "  UserWarning)\n",
      "C:\\Users\\Sigma\\AppData\\Roaming\\Python\\Python37\\site-packages\\sklearn\\feature_selection\\_univariate_selection.py:116: RuntimeWarning: invalid value encountered in true_divide\n",
      "  f = msb / msw\n"
     ]
    },
    {
     "data": {
      "text/plain": [
       "VotingClassifier(estimators=[('mod1',\n",
       "                              Pipeline(steps=[('scaler', StandardScaler()),\n",
       "                                              ('model',\n",
       "                                               LogisticRegression(C=10,\n",
       "                                                                  class_weight='auto',\n",
       "                                                                  max_iter=1000,\n",
       "                                                                  solver='sag',\n",
       "                                                                  warm_start=True))])),\n",
       "                             ('mod2',\n",
       "                              Pipeline(steps=[('scaler', StandardScaler()),\n",
       "                                              ('model',\n",
       "                                               LogisticRegression(C=0.1,\n",
       "                                                                  class_weight='auto',\n",
       "                                                                  max_iter=1000,\n",
       "                                                                  penalty='l1',\n",
       "                                                                  solver='saga',\n",
       "                                                                  tol=0,\n",
       "                                                                  warm_start=True...\n",
       "                                               PolynomialFeatures(degree=3,\n",
       "                                                                  interaction_only=True)),\n",
       "                                              ('best', SelectKBest(k=43)),\n",
       "                                              ('scaler', StandardScaler()),\n",
       "                                              ('model',\n",
       "                                               KNeighborsClassifier(n_neighbors=1))])),\n",
       "                             ('knn4',\n",
       "                              Pipeline(steps=[('poly',\n",
       "                                               PolynomialFeatures(degree=3,\n",
       "                                                                  interaction_only=True)),\n",
       "                                              ('best', SelectKBest(k=43)),\n",
       "                                              ('scaler', StandardScaler()),\n",
       "                                              ('model',\n",
       "                                               KNeighborsClassifier(n_neighbors=53))]))],\n",
       "                 voting='soft')"
      ]
     },
     "execution_count": 45,
     "metadata": {},
     "output_type": "execute_result"
    }
   ],
   "source": [
    "logvtc.fit(stimXtrain,stimYtrain)"
   ]
  },
  {
   "cell_type": "code",
   "execution_count": 46,
   "metadata": {},
   "outputs": [
    {
     "name": "stdout",
     "output_type": "stream",
     "text": [
      "              precision    recall  f1-score   support\n",
      "\n",
      "        high       0.61      0.43      0.50        70\n",
      "         low       0.91      0.95      0.93       402\n",
      "\n",
      "    accuracy                           0.88       472\n",
      "   macro avg       0.76      0.69      0.72       472\n",
      "weighted avg       0.86      0.88      0.87       472\n",
      "\n"
     ]
    }
   ],
   "source": [
    "pred = logvtc.predict(stimXtest)\n",
    "print(classification_report(stimYtest,pred))"
   ]
  },
  {
   "cell_type": "code",
   "execution_count": null,
   "metadata": {},
   "outputs": [],
   "source": []
  },
  {
   "cell_type": "code",
   "execution_count": null,
   "metadata": {},
   "outputs": [],
   "source": []
  }
 ],
 "metadata": {
  "kernelspec": {
   "display_name": "Python 3",
   "language": "python",
   "name": "python3"
  },
  "language_info": {
   "codemirror_mode": {
    "name": "ipython",
    "version": 3
   },
   "file_extension": ".py",
   "mimetype": "text/x-python",
   "name": "python",
   "nbconvert_exporter": "python",
   "pygments_lexer": "ipython3",
   "version": "3.7.6"
  }
 },
 "nbformat": 4,
 "nbformat_minor": 4
}
