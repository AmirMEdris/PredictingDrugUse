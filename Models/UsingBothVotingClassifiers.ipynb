{
 "cells": [
  {
   "cell_type": "code",
   "execution_count": 6,
   "metadata": {},
   "outputs": [],
   "source": [
    "#imports\n",
    "#load in standard data \n",
    "#load in models\n",
    "\n",
    "from imblearn.under_sampling import TomekLinks\n",
    "from imblearn.over_sampling import SMOTE\n",
    "import pandas as pd\n",
    "import sklearn\n",
    "from imblearn.combine import SMOTETomek\n",
    "from sklearn.linear_model import LogisticRegression\n",
    "from sklearn.metrics import f1_score,confusion_matrix,accuracy_score,classification_report,plot_confusion_matrix\n",
    "from sklearn.model_selection import train_test_split,GridSearchCV\n",
    "from sklearn.tree import DecisionTreeClassifier\n",
    "from sklearn.ensemble import RandomForestClassifier,VotingClassifier\n",
    "from sklearn.preprocessing import PolynomialFeatures,StandardScaler\n",
    "from sklearn.feature_selection import SelectKBest\n",
    "from sklearn.neighbors import KNeighborsClassifier\n",
    "from sklearn.pipeline import Pipeline\n",
    "from sklearn.ensemble import AdaBoostClassifier\n",
    "\n",
    "pd.set_option('display.max_columns', 500)\n",
    "import pickle as pkl\n",
    "vtc1 = pkl.load(open('vtc.pkl','rb'))\n",
    "vtc2 = pkl.load(open('vtcpoly.pkl','rb'))\n",
    "df1 = pd.read_csv('../prepeddata.csv',index_col='Unnamed: 0')\n",
    "df1['stimulant'] = df1['stimulant'].apply(lambda x: 'low' if x <= 2 else 'high')\n",
    "\n",
    "\n",
    "stimx = df1.drop(['stimulant','hallucinagen','depressant'],axis = 1)\n",
    "stimy = df1.stimulant\n",
    "\n",
    "\n",
    "\n",
    "poly=PolynomialFeatures(degree=3,interaction_only=True)\n",
    "scaler = StandardScaler()\n",
    "polyscaler = StandardScaler()\n",
    "selector = SelectKBest(k=43)"
   ]
  },
  {
   "cell_type": "code",
   "execution_count": 7,
   "metadata": {},
   "outputs": [],
   "source": [
    "#traintest split default data \n",
    "stimXtrain,stimXtest,stimYtrain,stimYtest = train_test_split(stimx,stimy)\n",
    "sm = SMOTE()\n",
    "tl = TomekLinks()\n",
    "sampling = SMOTETomek( random_state=None, smote=sm, tomek=tl, n_jobs=1)\n",
    "\n",
    "\n",
    "stimXtrain, stimYtrain = sampling.fit_resample(stimXtrain, stimYtrain)"
   ]
  },
  {
   "cell_type": "code",
   "execution_count": 8,
   "metadata": {},
   "outputs": [],
   "source": [
    "#fit std scaler to default data?"
   ]
  },
  {
   "cell_type": "code",
   "execution_count": 9,
   "metadata": {},
   "outputs": [
    {
     "data": {
      "text/plain": [
       "Pipeline(steps=[('scaler', StandardScaler()),\n",
       "                ('model',\n",
       "                 VotingClassifier(estimators=[('model1',\n",
       "                                               LogisticRegression(C=10,\n",
       "                                                                  class_weight='auto',\n",
       "                                                                  max_iter=1000,\n",
       "                                                                  solver='sag',\n",
       "                                                                  warm_start=True)),\n",
       "                                              ('model2',\n",
       "                                               LogisticRegression(C=0.1,\n",
       "                                                                  class_weight='auto',\n",
       "                                                                  max_iter=1000,\n",
       "                                                                  penalty='l1',\n",
       "                                                                  solver='saga',\n",
       "                                                                  tol=0,\n",
       "                                                                  warm_start=True)),\n",
       "                                              ('model3',\n",
       "                                               LogisticRegression(C=1,\n",
       "                                                                  class_weight='au...\n",
       "                                                                      min_samples_split=55)),\n",
       "                                              ('model7',\n",
       "                                               KNeighborsClassifier(n_neighbors=1)),\n",
       "                                              ('model8',\n",
       "                                               KNeighborsClassifier(n_neighbors=51)),\n",
       "                                              ('model9',\n",
       "                                               RandomForestClassifier(class_weight='balanced_subsample',\n",
       "                                                                      criterion='entropy',\n",
       "                                                                      n_estimators=500)),\n",
       "                                              ('model10',\n",
       "                                               RandomForestClassifier(class_weight='balanced_subsample',\n",
       "                                                                      n_estimators=750))],\n",
       "                                  n_jobs=-1, verbose=True, voting='soft'))])"
      ]
     },
     "execution_count": 9,
     "metadata": {},
     "output_type": "execute_result"
    }
   ],
   "source": [
    "#make a pipeline of standard vtc\n",
    "stdvtc = Pipeline([('scaler',scaler),('model', vtc1)])\n",
    "stdvtc.fit(stimXtrain,stimYtrain)"
   ]
  },
  {
   "cell_type": "code",
   "execution_count": 10,
   "metadata": {},
   "outputs": [],
   "source": [
    "#instantiate d3 interaction only polyfeats"
   ]
  },
  {
   "cell_type": "code",
   "execution_count": 11,
   "metadata": {},
   "outputs": [],
   "source": [
    "#instantiate select k best k =43"
   ]
  },
  {
   "cell_type": "code",
   "execution_count": 22,
   "metadata": {},
   "outputs": [],
   "source": [
    "#instantiate standardscaler"
   ]
  },
  {
   "cell_type": "code",
   "execution_count": 23,
   "metadata": {},
   "outputs": [
    {
     "name": "stderr",
     "output_type": "stream",
     "text": [
      "C:\\Users\\Sigma\\AppData\\Roaming\\Python\\Python37\\site-packages\\sklearn\\feature_selection\\_univariate_selection.py:115: UserWarning: Features [0] are constant.\n",
      "  UserWarning)\n",
      "C:\\Users\\Sigma\\AppData\\Roaming\\Python\\Python37\\site-packages\\sklearn\\feature_selection\\_univariate_selection.py:116: RuntimeWarning: invalid value encountered in true_divide\n",
      "  f = msb / msw\n"
     ]
    },
    {
     "data": {
      "text/plain": [
       "Pipeline(steps=[('poly', PolynomialFeatures(degree=3, interaction_only=True)),\n",
       "                ('selector', SelectKBest(k=43)), ('scaler', StandardScaler()),\n",
       "                ('model',\n",
       "                 VotingClassifier(estimators=[('polymodel1',\n",
       "                                               LogisticRegression(C=0.75,\n",
       "                                                                  class_weight='auto',\n",
       "                                                                  max_iter=1000,\n",
       "                                                                  solver='sag',\n",
       "                                                                  warm_start=True)),\n",
       "                                              ('polymodel2',\n",
       "                                               LogisticRegression(C=10,\n",
       "                                                                  class_weight='auto',\n",
       "                                                                  fit_intercept=...\n",
       "                                              ('polymodel7',\n",
       "                                               KNeighborsClassifier(n_neighbors=1)),\n",
       "                                              ('polymodel8',\n",
       "                                               KNeighborsClassifier(n_neighbors=53)),\n",
       "                                              ('polymodel9',\n",
       "                                               RandomForestClassifier(class_weight='balanced',\n",
       "                                                                      criterion='entropy',\n",
       "                                                                      n_estimators=500,\n",
       "                                                                      warm_start=True)),\n",
       "                                              ('polymodel10',\n",
       "                                               RandomForestClassifier(class_weight='balanced',\n",
       "                                                                      min_samples_leaf=3,\n",
       "                                                                      random_state=True))],\n",
       "                                  n_jobs=-1, verbose=True, voting='soft'))])"
      ]
     },
     "execution_count": 23,
     "metadata": {},
     "output_type": "execute_result"
    }
   ],
   "source": [
    "#make a pipeline of poly vtc in order\n",
    "# polyfeats\n",
    "#select k best\n",
    "#standardscaler\n",
    "polyvtc = Pipeline([('poly',poly),('selector', selector),('scaler',polyscaler),('model', vtc2)])\n",
    "polyvtc.fit(stimXtrain,stimYtrain)"
   ]
  },
  {
   "cell_type": "code",
   "execution_count": 24,
   "metadata": {},
   "outputs": [],
   "source": [
    "# fit both"
   ]
  },
  {
   "cell_type": "code",
   "execution_count": 25,
   "metadata": {},
   "outputs": [
    {
     "name": "stdout",
     "output_type": "stream",
     "text": [
      "0.9485510843357825 0.8458580312689415\n",
      "              precision    recall  f1-score   support\n",
      "\n",
      "        high       0.92      0.98      0.95      1223\n",
      "         low       0.98      0.91      0.95      1223\n",
      "\n",
      "    accuracy                           0.95      2446\n",
      "   macro avg       0.95      0.95      0.95      2446\n",
      "weighted avg       0.95      0.95      0.95      2446\n",
      "\n",
      "              precision    recall  f1-score   support\n",
      "\n",
      "        high       0.45      0.72      0.55        68\n",
      "         low       0.95      0.85      0.90       404\n",
      "\n",
      "    accuracy                           0.83       472\n",
      "   macro avg       0.70      0.78      0.72       472\n",
      "weighted avg       0.88      0.83      0.85       472\n",
      "\n"
     ]
    },
    {
     "data": {
      "text/plain": [
       "array([[1203,   20],\n",
       "       [ 106, 1117]], dtype=int64)"
      ]
     },
     "execution_count": 25,
     "metadata": {},
     "output_type": "execute_result"
    }
   ],
   "source": [
    "#check classification report for both\n",
    "vtcypred = stdvtc.predict(stimXtest)\n",
    "vtcytrain = stdvtc.predict(stimXtrain)\n",
    "\n",
    "print(f1_score(vtcytrain,stimYtrain,average='weighted'),f1_score(stimYtest,vtcypred,average='weighted'))\n",
    "print(classification_report(stimYtrain, vtcytrain))\n",
    "print(classification_report(stimYtest, vtcypred))\n",
    "\n",
    "\n",
    "\n",
    "confusion_matrix(stimYtrain, vtcytrain)"
   ]
  },
  {
   "cell_type": "code",
   "execution_count": 26,
   "metadata": {},
   "outputs": [
    {
     "data": {
      "text/plain": [
       "array([[ 49,  19],\n",
       "       [ 61, 343]], dtype=int64)"
      ]
     },
     "execution_count": 26,
     "metadata": {},
     "output_type": "execute_result"
    }
   ],
   "source": [
    "confusion_matrix(stimYtest,vtcypred)"
   ]
  },
  {
   "cell_type": "code",
   "execution_count": 27,
   "metadata": {},
   "outputs": [
    {
     "name": "stdout",
     "output_type": "stream",
     "text": [
      "0.9591399257544063 0.8463434594413385\n",
      "              precision    recall  f1-score   support\n",
      "\n",
      "        high       0.94      0.98      0.96      1223\n",
      "         low       0.98      0.94      0.96      1223\n",
      "\n",
      "    accuracy                           0.96      2446\n",
      "   macro avg       0.96      0.96      0.96      2446\n",
      "weighted avg       0.96      0.96      0.96      2446\n",
      "\n",
      "              precision    recall  f1-score   support\n",
      "\n",
      "        high       0.45      0.74      0.56        68\n",
      "         low       0.95      0.85      0.90       404\n",
      "\n",
      "    accuracy                           0.83       472\n",
      "   macro avg       0.70      0.79      0.73       472\n",
      "weighted avg       0.88      0.83      0.85       472\n",
      "\n"
     ]
    },
    {
     "data": {
      "text/plain": [
       "array([[1202,   21],\n",
       "       [  79, 1144]], dtype=int64)"
      ]
     },
     "execution_count": 27,
     "metadata": {},
     "output_type": "execute_result"
    }
   ],
   "source": [
    "#check classification report for both\n",
    "vtcypred = polyvtc.predict(stimXtest)\n",
    "vtcytrain = polyvtc.predict(stimXtrain)\n",
    "\n",
    "print(f1_score(vtcytrain,stimYtrain,average='weighted'),f1_score(stimYtest,vtcypred,average='weighted'))\n",
    "print(classification_report(stimYtrain, vtcytrain))\n",
    "print(classification_report(stimYtest, vtcypred))\n",
    "\n",
    "\n",
    "\n",
    "confusion_matrix(stimYtrain, vtcytrain)"
   ]
  },
  {
   "cell_type": "code",
   "execution_count": 28,
   "metadata": {},
   "outputs": [
    {
     "data": {
      "text/plain": [
       "array([[ 50,  18],\n",
       "       [ 62, 342]], dtype=int64)"
      ]
     },
     "execution_count": 28,
     "metadata": {},
     "output_type": "execute_result"
    }
   ],
   "source": [
    "confusion_matrix(stimYtest,vtcypred)"
   ]
  },
  {
   "cell_type": "code",
   "execution_count": 29,
   "metadata": {},
   "outputs": [],
   "source": [
    "pkl.dump(stdvtc,open('finalstdvtc.pkl','wb'))\n",
    "pkl.dump(polyvtc,open('finalpolyvtc.pkl','wb'))"
   ]
  },
  {
   "cell_type": "code",
   "execution_count": 30,
   "metadata": {},
   "outputs": [
    {
     "name": "stdout",
     "output_type": "stream",
     "text": [
      "0.9689488393680142 0.8465092939320782\n",
      "              precision    recall  f1-score   support\n",
      "\n",
      "        high       0.95      0.99      0.97      1223\n",
      "         low       0.99      0.94      0.97      1223\n",
      "\n",
      "    accuracy                           0.97      2446\n",
      "   macro avg       0.97      0.97      0.97      2446\n",
      "weighted avg       0.97      0.97      0.97      2446\n",
      "\n",
      "              precision    recall  f1-score   support\n",
      "\n",
      "        high       0.45      0.69      0.54        68\n",
      "         low       0.94      0.86      0.90       404\n",
      "\n",
      "    accuracy                           0.83       472\n",
      "   macro avg       0.70      0.77      0.72       472\n",
      "weighted avg       0.87      0.83      0.85       472\n",
      "\n"
     ]
    },
    {
     "data": {
      "text/plain": [
       "array([[1216,    7],\n",
       "       [  69, 1154]], dtype=int64)"
      ]
     },
     "execution_count": 30,
     "metadata": {},
     "output_type": "execute_result"
    }
   ],
   "source": [
    "adaboostvtc = pkl.load(open('adaoverallvtc.pkl','rb'))\n",
    "adaboostvtc.fit(stimXtrain,stimYtrain)\n",
    "vtcypred = adaboostvtc.predict(stimXtest)\n",
    "vtcytrain = adaboostvtc.predict(stimXtrain)\n",
    "\n",
    "print(f1_score(vtcytrain,stimYtrain,average='weighted'),f1_score(stimYtest,vtcypred,average='weighted'))\n",
    "print(classification_report(stimYtrain, vtcytrain))\n",
    "print(classification_report(stimYtest, vtcypred))\n",
    "\n",
    "\n",
    "\n",
    "confusion_matrix(stimYtrain, vtcytrain)"
   ]
  },
  {
   "cell_type": "code",
   "execution_count": 31,
   "metadata": {},
   "outputs": [
    {
     "data": {
      "text/plain": [
       "VotingClassifier(estimators=[('ada',\n",
       "                              VotingClassifier(estimators=[('mod1',\n",
       "                                                            Pipeline(steps=[('scaler',\n",
       "                                                                             StandardScaler()),\n",
       "                                                                            ('model',\n",
       "                                                                             AdaBoostClassifier(base_estimator=LogisticRegression(C=10,\n",
       "                                                                                                                                  class_weight='auto',\n",
       "                                                                                                                                  max_iter=1000,\n",
       "                                                                                                                                  solver='sag',\n",
       "                                                                                                                                  warm_start=True),\n",
       "                                                                                                learning_rate=0.5))])),\n",
       "                                                           ('mod2',\n",
       "                                                            Pipeline(steps=[('scaler',\n",
       "                                                                             StandardScaler()),\n",
       "                                                                            ('model',\n",
       "                                                                             AdaBoostClassifier...\n",
       "                                                                             KNeighborsClassifier(n_neighbors=1)),\n",
       "                                                                            ('polymodel8',\n",
       "                                                                             KNeighborsClassifier(n_neighbors=53)),\n",
       "                                                                            ('polymodel9',\n",
       "                                                                             RandomForestClassifier(class_weight='balanced',\n",
       "                                                                                                    criterion='entropy',\n",
       "                                                                                                    n_estimators=500,\n",
       "                                                                                                    warm_start=True)),\n",
       "                                                                            ('polymodel10',\n",
       "                                                                             RandomForestClassifier(class_weight='balanced',\n",
       "                                                                                                    min_samples_leaf=3,\n",
       "                                                                                                    random_state=True))],\n",
       "                                                                n_jobs=-1,\n",
       "                                                                verbose=True,\n",
       "                                                                voting='soft'))]))],\n",
       "                 n_jobs=-1, verbose=True)"
      ]
     },
     "execution_count": 31,
     "metadata": {},
     "output_type": "execute_result"
    }
   ],
   "source": [
    "finalvtc =VotingClassifier([('ada',adaboostvtc),('stdmodel',stdvtc),('polymodel',polyvtc)]\n",
    "                           ,voting='hard',verbose = True,n_jobs=-1)\n",
    "finalvtc.fit(stimXtrain,stimYtrain)\n",
    "\n",
    "\n"
   ]
  },
  {
   "cell_type": "code",
   "execution_count": 32,
   "metadata": {},
   "outputs": [
    {
     "name": "stdout",
     "output_type": "stream",
     "text": [
      "0.9595680205983097 0.8547782252351249\n",
      "              precision    recall  f1-score   support\n",
      "\n",
      "        high       0.93      0.99      0.96      1223\n",
      "         low       0.99      0.93      0.96      1223\n",
      "\n",
      "    accuracy                           0.96      2446\n",
      "   macro avg       0.96      0.96      0.96      2446\n",
      "weighted avg       0.96      0.96      0.96      2446\n",
      "\n",
      "              precision    recall  f1-score   support\n",
      "\n",
      "        high       0.47      0.74      0.57        68\n",
      "         low       0.95      0.86      0.90       404\n",
      "\n",
      "    accuracy                           0.84       472\n",
      "   macro avg       0.71      0.80      0.74       472\n",
      "weighted avg       0.88      0.84      0.85       472\n",
      "\n"
     ]
    },
    {
     "data": {
      "text/plain": [
       "array([[1213,   10],\n",
       "       [  89, 1134]], dtype=int64)"
      ]
     },
     "execution_count": 32,
     "metadata": {},
     "output_type": "execute_result"
    }
   ],
   "source": [
    "vtcypred = finalvtc.predict(stimXtest)\n",
    "vtcytrain = finalvtc.predict(stimXtrain)\n",
    "\n",
    "print(f1_score(vtcytrain,stimYtrain,average='weighted'),f1_score(stimYtest,vtcypred,average='weighted'))\n",
    "print(classification_report(stimYtrain, vtcytrain))\n",
    "print(classification_report(stimYtest, vtcypred))\n",
    "\n",
    "\n",
    "\n",
    "confusion_matrix(stimYtrain, vtcytrain)"
   ]
  },
  {
   "cell_type": "code",
   "execution_count": 33,
   "metadata": {},
   "outputs": [
    {
     "data": {
      "text/plain": [
       "<sklearn.metrics._plot.confusion_matrix.ConfusionMatrixDisplay at 0x1e492d60e08>"
      ]
     },
     "execution_count": 33,
     "metadata": {},
     "output_type": "execute_result"
    },
    {
     "data": {
      "image/png": "[encoded data removed]",
      "text/plain": [
       "<Figure size 432x288 with 2 Axes>"
      ]
     },
     "metadata": {
      "needs_background": "light"
     },
     "output_type": "display_data"
    }
   ],
   "source": [
    "plot_confusion_matrix(finalvtc,stimXtest, stimYtest)"
   ]
  },
  {
   "cell_type": "code",
   "execution_count": 34,
   "metadata": {},
   "outputs": [],
   "source": [
    "pkl.dump(finalvtc,open('finaloverallvtc.pkl','wb'))"
   ]
  },
  {
   "cell_type": "code",
   "execution_count": null,
   "metadata": {},
   "outputs": [],
   "source": []
  },
  {
   "cell_type": "code",
   "execution_count": null,
   "metadata": {},
   "outputs": [],
   "source": []
  },
  {
   "cell_type": "code",
   "execution_count": 5,
   "metadata": {},
   "outputs": [
    {
     "data": {
      "text/html": [
       "<div>\n",
       "<style scoped>\n",
       "    .dataframe tbody tr th:only-of-type {\n",
       "        vertical-align: middle;\n",
       "    }\n",
       "\n",
       "    .dataframe tbody tr th {\n",
       "        vertical-align: top;\n",
       "    }\n",
       "\n",
       "    .dataframe thead th {\n",
       "        text-align: right;\n",
       "    }\n",
       "</style>\n",
       "<table border=\"1\" class=\"dataframe\">\n",
       "  <thead>\n",
       "    <tr style=\"text-align: right;\">\n",
       "      <th></th>\n",
       "      <th>Age</th>\n",
       "      <th>Education</th>\n",
       "      <th>Nscore</th>\n",
       "      <th>Escore</th>\n",
       "      <th>Oscore</th>\n",
       "      <th>Ascore</th>\n",
       "      <th>Cscore</th>\n",
       "      <th>Impulsive</th>\n",
       "      <th>SensationSeeking</th>\n",
       "      <th>Alchol</th>\n",
       "      <th>Caff</th>\n",
       "      <th>Chocalate</th>\n",
       "      <th>Nicotine</th>\n",
       "      <th>depressant</th>\n",
       "      <th>hallucinagen</th>\n",
       "    </tr>\n",
       "  </thead>\n",
       "  <tbody>\n",
       "    <tr>\n",
       "      <th>0</th>\n",
       "      <td>2</td>\n",
       "      <td>-1</td>\n",
       "      <td>38.000000</td>\n",
       "      <td>50.000000</td>\n",
       "      <td>48.000000</td>\n",
       "      <td>33.000000</td>\n",
       "      <td>42.000000</td>\n",
       "      <td>4.000000</td>\n",
       "      <td>9.000000</td>\n",
       "      <td>0</td>\n",
       "      <td>6</td>\n",
       "      <td>5</td>\n",
       "      <td>0</td>\n",
       "      <td>1.500000</td>\n",
       "      <td>4.666667</td>\n",
       "    </tr>\n",
       "    <tr>\n",
       "      <th>1</th>\n",
       "      <td>3</td>\n",
       "      <td>2</td>\n",
       "      <td>33.000000</td>\n",
       "      <td>40.000000</td>\n",
       "      <td>43.000000</td>\n",
       "      <td>43.000000</td>\n",
       "      <td>42.000000</td>\n",
       "      <td>3.000000</td>\n",
       "      <td>1.000000</td>\n",
       "      <td>2</td>\n",
       "      <td>6</td>\n",
       "      <td>6</td>\n",
       "      <td>0</td>\n",
       "      <td>0.000000</td>\n",
       "      <td>0.000000</td>\n",
       "    </tr>\n",
       "    <tr>\n",
       "      <th>2</th>\n",
       "      <td>3</td>\n",
       "      <td>0</td>\n",
       "      <td>43.000000</td>\n",
       "      <td>39.000000</td>\n",
       "      <td>38.000000</td>\n",
       "      <td>44.000000</td>\n",
       "      <td>41.000000</td>\n",
       "      <td>4.000000</td>\n",
       "      <td>8.000000</td>\n",
       "      <td>5</td>\n",
       "      <td>6</td>\n",
       "      <td>5</td>\n",
       "      <td>6</td>\n",
       "      <td>0.500000</td>\n",
       "      <td>0.000000</td>\n",
       "    </tr>\n",
       "    <tr>\n",
       "      <th>3</th>\n",
       "      <td>3</td>\n",
       "      <td>0</td>\n",
       "      <td>33.000000</td>\n",
       "      <td>41.000000</td>\n",
       "      <td>33.000000</td>\n",
       "      <td>40.000000</td>\n",
       "      <td>45.000000</td>\n",
       "      <td>2.000000</td>\n",
       "      <td>5.000000</td>\n",
       "      <td>4</td>\n",
       "      <td>6</td>\n",
       "      <td>6</td>\n",
       "      <td>1</td>\n",
       "      <td>0.000000</td>\n",
       "      <td>0.000000</td>\n",
       "    </tr>\n",
       "    <tr>\n",
       "      <th>4</th>\n",
       "      <td>2</td>\n",
       "      <td>4</td>\n",
       "      <td>34.000000</td>\n",
       "      <td>38.000000</td>\n",
       "      <td>43.000000</td>\n",
       "      <td>56.000000</td>\n",
       "      <td>52.000000</td>\n",
       "      <td>2.000000</td>\n",
       "      <td>7.000000</td>\n",
       "      <td>4</td>\n",
       "      <td>6</td>\n",
       "      <td>5</td>\n",
       "      <td>1</td>\n",
       "      <td>0.000000</td>\n",
       "      <td>0.000000</td>\n",
       "    </tr>\n",
       "    <tr>\n",
       "      <th>...</th>\n",
       "      <td>...</td>\n",
       "      <td>...</td>\n",
       "      <td>...</td>\n",
       "      <td>...</td>\n",
       "      <td>...</td>\n",
       "      <td>...</td>\n",
       "      <td>...</td>\n",
       "      <td>...</td>\n",
       "      <td>...</td>\n",
       "      <td>...</td>\n",
       "      <td>...</td>\n",
       "      <td>...</td>\n",
       "      <td>...</td>\n",
       "      <td>...</td>\n",
       "      <td>...</td>\n",
       "    </tr>\n",
       "    <tr>\n",
       "      <th>2453</th>\n",
       "      <td>1</td>\n",
       "      <td>0</td>\n",
       "      <td>42.243359</td>\n",
       "      <td>47.621679</td>\n",
       "      <td>54.621679</td>\n",
       "      <td>48.243359</td>\n",
       "      <td>35.945801</td>\n",
       "      <td>8.189160</td>\n",
       "      <td>10.189160</td>\n",
       "      <td>5</td>\n",
       "      <td>5</td>\n",
       "      <td>6</td>\n",
       "      <td>5</td>\n",
       "      <td>0.472901</td>\n",
       "      <td>1.315267</td>\n",
       "    </tr>\n",
       "    <tr>\n",
       "      <th>2454</th>\n",
       "      <td>1</td>\n",
       "      <td>0</td>\n",
       "      <td>50.486340</td>\n",
       "      <td>34.205464</td>\n",
       "      <td>49.691804</td>\n",
       "      <td>46.308196</td>\n",
       "      <td>33.513660</td>\n",
       "      <td>7.000000</td>\n",
       "      <td>8.691804</td>\n",
       "      <td>3</td>\n",
       "      <td>6</td>\n",
       "      <td>5</td>\n",
       "      <td>0</td>\n",
       "      <td>2.897268</td>\n",
       "      <td>2.136976</td>\n",
       "    </tr>\n",
       "    <tr>\n",
       "      <th>2455</th>\n",
       "      <td>1</td>\n",
       "      <td>0</td>\n",
       "      <td>37.185856</td>\n",
       "      <td>32.221217</td>\n",
       "      <td>51.407072</td>\n",
       "      <td>39.517681</td>\n",
       "      <td>48.703536</td>\n",
       "      <td>4.000000</td>\n",
       "      <td>8.703536</td>\n",
       "      <td>4</td>\n",
       "      <td>6</td>\n",
       "      <td>5</td>\n",
       "      <td>6</td>\n",
       "      <td>2.110608</td>\n",
       "      <td>3.296464</td>\n",
       "    </tr>\n",
       "    <tr>\n",
       "      <th>2456</th>\n",
       "      <td>1</td>\n",
       "      <td>1</td>\n",
       "      <td>32.224138</td>\n",
       "      <td>42.408046</td>\n",
       "      <td>52.000000</td>\n",
       "      <td>40.367816</td>\n",
       "      <td>45.775862</td>\n",
       "      <td>3.591954</td>\n",
       "      <td>6.591954</td>\n",
       "      <td>5</td>\n",
       "      <td>6</td>\n",
       "      <td>6</td>\n",
       "      <td>4</td>\n",
       "      <td>2.387931</td>\n",
       "      <td>3.122605</td>\n",
       "    </tr>\n",
       "    <tr>\n",
       "      <th>2457</th>\n",
       "      <td>1</td>\n",
       "      <td>1</td>\n",
       "      <td>42.632883</td>\n",
       "      <td>40.122372</td>\n",
       "      <td>44.877628</td>\n",
       "      <td>36.122372</td>\n",
       "      <td>45.877628</td>\n",
       "      <td>7.877628</td>\n",
       "      <td>5.367117</td>\n",
       "      <td>5</td>\n",
       "      <td>6</td>\n",
       "      <td>5</td>\n",
       "      <td>5</td>\n",
       "      <td>3.877628</td>\n",
       "      <td>4.421922</td>\n",
       "    </tr>\n",
       "  </tbody>\n",
       "</table>\n",
       "<p>2458 rows × 15 columns</p>\n",
       "</div>"
      ],
      "text/plain": [
       "      Age  Education     Nscore     Escore     Oscore     Ascore     Cscore  \\\n",
       "0       2         -1  38.000000  50.000000  48.000000  33.000000  42.000000   \n",
       "1       3          2  33.000000  40.000000  43.000000  43.000000  42.000000   \n",
       "2       3          0  43.000000  39.000000  38.000000  44.000000  41.000000   \n",
       "3       3          0  33.000000  41.000000  33.000000  40.000000  45.000000   \n",
       "4       2          4  34.000000  38.000000  43.000000  56.000000  52.000000   \n",
       "...   ...        ...        ...        ...        ...        ...        ...   \n",
       "2453    1          0  42.243359  47.621679  54.621679  48.243359  35.945801   \n",
       "2454    1          0  50.486340  34.205464  49.691804  46.308196  33.513660   \n",
       "2455    1          0  37.185856  32.221217  51.407072  39.517681  48.703536   \n",
       "2456    1          1  32.224138  42.408046  52.000000  40.367816  45.775862   \n",
       "2457    1          1  42.632883  40.122372  44.877628  36.122372  45.877628   \n",
       "\n",
       "      Impulsive  SensationSeeking  Alchol  Caff  Chocalate  Nicotine  \\\n",
       "0      4.000000          9.000000       0     6          5         0   \n",
       "1      3.000000          1.000000       2     6          6         0   \n",
       "2      4.000000          8.000000       5     6          5         6   \n",
       "3      2.000000          5.000000       4     6          6         1   \n",
       "4      2.000000          7.000000       4     6          5         1   \n",
       "...         ...               ...     ...   ...        ...       ...   \n",
       "2453   8.189160         10.189160       5     5          6         5   \n",
       "2454   7.000000          8.691804       3     6          5         0   \n",
       "2455   4.000000          8.703536       4     6          5         6   \n",
       "2456   3.591954          6.591954       5     6          6         4   \n",
       "2457   7.877628          5.367117       5     6          5         5   \n",
       "\n",
       "      depressant  hallucinagen  \n",
       "0       1.500000      4.666667  \n",
       "1       0.000000      0.000000  \n",
       "2       0.500000      0.000000  \n",
       "3       0.000000      0.000000  \n",
       "4       0.000000      0.000000  \n",
       "...          ...           ...  \n",
       "2453    0.472901      1.315267  \n",
       "2454    2.897268      2.136976  \n",
       "2455    2.110608      3.296464  \n",
       "2456    2.387931      3.122605  \n",
       "2457    3.877628      4.421922  \n",
       "\n",
       "[2458 rows x 15 columns]"
      ]
     },
     "execution_count": 5,
     "metadata": {},
     "output_type": "execute_result"
    }
   ],
   "source": [
    "stimXtrain"
   ]
  },
  {
   "cell_type": "code",
   "execution_count": null,
   "metadata": {},
   "outputs": [],
   "source": []
  }
 ],
 "metadata": {
  "kernelspec": {
   "display_name": "Python 3",
   "language": "python",
   "name": "python3"
  },
  "language_info": {
   "codemirror_mode": {
    "name": "ipython",
    "version": 3
   },
   "file_extension": ".py",
   "mimetype": "text/x-python",
   "name": "python",
   "nbconvert_exporter": "python",
   "pygments_lexer": "ipython3",
   "version": "3.7.6"
  }
 },
 "nbformat": 4,
 "nbformat_minor": 4
}
