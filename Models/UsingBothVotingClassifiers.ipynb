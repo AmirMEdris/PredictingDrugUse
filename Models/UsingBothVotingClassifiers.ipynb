{
 "cells": [
  {
   "cell_type": "code",
   "execution_count": 108,
   "metadata": {},
   "outputs": [],
   "source": [
    "#imports\n",
    "#load in standard data \n",
    "#load in models\n",
    "\n",
    "from imblearn.under_sampling import TomekLinks\n",
    "from imblearn.over_sampling import SMOTE\n",
    "import pandas as pd\n",
    "import sklearn\n",
    "from imblearn.combine import SMOTETomek\n",
    "from sklearn.linear_model import LogisticRegression\n",
    "from sklearn.metrics import f1_score,confusion_matrix,accuracy_score,classification_report,plot_confusion_matrix\n",
    "from sklearn.model_selection import train_test_split,GridSearchCV\n",
    "from sklearn.tree import DecisionTreeClassifier\n",
    "from sklearn.ensemble import RandomForestClassifier,VotingClassifier\n",
    "from sklearn.preprocessing import PolynomialFeatures,StandardScaler\n",
    "from sklearn.feature_selection import SelectKBest\n",
    "from sklearn.neighbors import KNeighborsClassifier\n",
    "from sklearn.pipeline import Pipeline\n",
    "from sklearn.ensemble import AdaBoostClassifier\n",
    "\n",
    "pd.set_option('display.max_columns', 500)\n",
    "import pickle as pkl\n",
    "vtc1 = pkl.load(open('vtc.pkl','rb'))\n",
    "vtc2 = pkl.load(open('vtcpoly.pkl','rb'))\n",
    "df1 = pd.read_csv('../prepeddata.csv',index_col='Unnamed: 0')\n",
    "df1['stimulant'] = df1['stimulant'].apply(lambda x: 'low' if x <= 2 else 'high')\n",
    "df1['depressant'] = df1['depressant'].apply(lambda x: 'low' if x <= 2 else 'high')\n",
    "df1['hallucinagen'] = df1['hallucinagen'].apply(lambda x: 'low' if x <= 2 else 'high')\n",
    "x = df1.drop(['stimulant','hallucinagen','depressant'],axis = 1)\n",
    "ystimulants = df1['stimulant']\n",
    "yhallucinagen =df1['hallucinagen']\n",
    "ydepressant = df1['depressant']\n",
    "y=df1[['stimulant','hallucinagen','depressant']]\n",
    "\n",
    "poly=PolynomialFeatures(degree=3,interaction_only=True)\n",
    "scaler = StandardScaler()\n",
    "polyscaler = StandardScaler()\n",
    "selector = SelectKBest(k=43)"
   ]
  },
  {
   "cell_type": "code",
   "execution_count": 109,
   "metadata": {},
   "outputs": [],
   "source": [
    "#traintest split default data \n",
    "stimXtrain,stimXtest,stimYtrain,stimYtest = train_test_split(x,stimy)\n",
    "sm1 = SMOTE()\n",
    "tl1 = TomekLinks()\n",
    "sampling = SMOTETomek( random_state=None, smote=sm1, tomek=tl1, n_jobs=1)\n",
    "\n",
    "\n",
    "stimXtrain, stimYtrain = sampling.fit_resample(stimXtrain, stimYtrain)\n",
    "\n",
    "haluXtrain,haluXtest,haluYtrain,haluYtest = train_test_split(x,yhallucinagen)\n",
    "sm2 = SMOTE()\n",
    "tl2 = TomekLinks()\n",
    "sampling1 = SMOTETomek( random_state=None, smote=sm2, tomek=tl2, n_jobs=1)\n",
    "\n",
    "\n",
    "haluXtrain, haluYtrain = sampling1.fit_resample(haluXtrain, haluYtrain)\n",
    "\n",
    "depXtrain,depXtest,depYtrain,depYtest = train_test_split(x,ydepressant)\n",
    "sm3 = SMOTE()\n",
    "tl3 = TomekLinks()\n",
    "sampling2 = SMOTETomek( random_state=None, smote=sm3, tomek=tl3, n_jobs=1)\n",
    "\n",
    "\n",
    "depXtrain, depYtrain = sampling2.fit_resample(depXtrain, depYtrain)"
   ]
  },
  {
   "cell_type": "code",
   "execution_count": 110,
   "metadata": {},
   "outputs": [
    {
     "data": {
      "text/plain": [
       "(      Age  Education     Nscore     Escore     Oscore     Ascore     Cscore  \\\n",
       " 0       2          3  47.000000  38.000000  52.000000  39.000000  48.000000   \n",
       " 1       2          4  24.000000  37.000000  44.000000  47.000000  48.000000   \n",
       " 2       1          3  34.000000  45.000000  50.000000  44.000000  47.000000   \n",
       " 3       2          4  30.000000  42.000000  45.000000  44.000000  46.000000   \n",
       " 4       1          3  18.000000  42.000000  51.000000  54.000000  48.000000   \n",
       " ...   ...        ...        ...        ...        ...        ...        ...   \n",
       " 2162    1          2  28.309251  36.762995  43.690749  35.762995  41.618503   \n",
       " 2163    1          0  29.704274  44.481709  49.295726  54.740855  52.222564   \n",
       " 2164    2          1  30.635848  32.038814  41.519407  34.961186  48.077627   \n",
       " 2165    1          1  28.623504  37.752991  41.258974  40.623504  39.623504   \n",
       " 2166    1          0  44.958581  33.020710  54.041419  43.020710  36.896452   \n",
       " \n",
       "       Impulsive  SensationSeeking  Alchol  Caff  Chocalate  Nicotine  \n",
       " 0      4.000000          7.000000       6     6          6         3  \n",
       " 1      3.000000          3.000000       5     6          5         0  \n",
       " 2      4.000000          6.000000       5     6          6         2  \n",
       " 3      2.000000          2.000000       5     6          6         4  \n",
       " 4      3.000000          5.000000       5     6          5         2  \n",
       " ...         ...               ...     ...   ...        ...       ...  \n",
       " 2162   5.072246          8.072246       5     4          5         5  \n",
       " 2163   2.518291          7.036581       5     5          6         3  \n",
       " 2164   3.000000          4.480593       5     6          6         4  \n",
       " 2165   4.000000          7.505983       5     5          4         6  \n",
       " 2166   4.000000          4.020710       5     6          5         5  \n",
       " \n",
       " [2167 rows x 13 columns],\n",
       "       Age  Education     Nscore     Escore     Oscore     Ascore     Cscore  \\\n",
       " 0       2          2  31.000000  36.000000  34.000000  46.000000  38.000000   \n",
       " 1       3          1  28.000000  48.000000  45.000000  49.000000  55.000000   \n",
       " 2       3          0  24.000000  40.000000  37.000000  39.000000  43.000000   \n",
       " 3       1          2  44.000000  32.000000  55.000000  45.000000  49.000000   \n",
       " 4       2          2  37.000000  22.000000  48.000000  36.000000  35.000000   \n",
       " ...   ...        ...        ...        ...        ...        ...        ...   \n",
       " 2346    1          3  28.000000  46.666875  44.333750  44.666250  45.666250   \n",
       " 2347    1          2  42.571939  44.485612  41.543164  33.057552  35.757194   \n",
       " 2348    1          0  42.947528  38.921293  50.052472  38.131179  44.973764   \n",
       " 2349    2          1  38.149260  39.611945  44.000000  37.462685  45.462685   \n",
       " 2350    1          0  42.000000  38.158056  49.158056  31.158056  38.474168   \n",
       " \n",
       "       Impulsive  SensationSeeking  Alchol  Caff  Chocalate  Nicotine  \n",
       " 0      3.000000          3.000000       5     6          5         0  \n",
       " 1      5.000000          5.000000       5     5          6         0  \n",
       " 2      7.000000          9.000000       6     6          5         6  \n",
       " 3      7.000000         11.000000       5     6          6         3  \n",
       " 4      3.000000          5.000000       6     5          4         4  \n",
       " ...         ...               ...     ...   ...        ...       ...  \n",
       " 2346   4.999375          7.666250       5     5          5         5  \n",
       " 2347   7.242806         11.000000       5     5          4         6  \n",
       " 2348   3.104943          7.052472       5     6          5         6  \n",
       " 2349   7.462685          8.462685       2     5          4         3  \n",
       " 2350   7.158056         10.158056       4     6          4         4  \n",
       " \n",
       " [2351 rows x 13 columns])"
      ]
     },
     "execution_count": 110,
     "metadata": {},
     "output_type": "execute_result"
    }
   ],
   "source": [
    "df1['hallucinagen'].describe()\n",
    "haluXtrain,depXtrain"
   ]
  },
  {
   "cell_type": "code",
   "execution_count": 111,
   "metadata": {},
   "outputs": [
    {
     "data": {
      "text/plain": [
       "Pipeline(steps=[('scaler', StandardScaler()),\n",
       "                ('model',\n",
       "                 VotingClassifier(estimators=[('dtc2',\n",
       "                                               DecisionTreeClassifier(ccp_alpha=0.0052,\n",
       "                                                                      criterion='entropy',\n",
       "                                                                      max_depth=50)),\n",
       "                                              ('rfc2',\n",
       "                                               RandomForestClassifier(ccp_alpha=0.01,\n",
       "                                                                      class_weight='balanced',\n",
       "                                                                      criterion='entropy',\n",
       "                                                                      n_estimators=10000,\n",
       "                                                                      oob_score=True)),\n",
       "                                              ('knn',\n",
       "                                               KNeighborsClassifier(n_neighbors=43)),\n",
       "                                              ('knn2',\n",
       "                                               KNeigh...\n",
       "                                               LogisticRegression(class_weight='balanced',\n",
       "                                                                  max_iter=4000,\n",
       "                                                                  solver='sag',\n",
       "                                                                  tol=0.1,\n",
       "                                                                  warm_start=True)),\n",
       "                                              ('dtc',\n",
       "                                               DecisionTreeClassifier(ccp_alpha=0.0025)),\n",
       "                                              ('dtc3',\n",
       "                                               DecisionTreeClassifier(ccp_alpha=0.005,\n",
       "                                                                      class_weight='balanced')),\n",
       "                                              ('rfc',\n",
       "                                               RandomForestClassifier(ccp_alpha=0.005,\n",
       "                                                                      class_weight='balanced',\n",
       "                                                                      max_depth=6,\n",
       "                                                                      max_features=6,\n",
       "                                                                      n_estimators=1000,\n",
       "                                                                      oob_score=True))],\n",
       "                                  n_jobs=-1, voting='soft'))])"
      ]
     },
     "execution_count": 111,
     "metadata": {},
     "output_type": "execute_result"
    }
   ],
   "source": [
    "#make a pipeline of standard vtc\n",
    "stdvtc = Pipeline([('scaler',scaler),('model', vtc1)])\n",
    "stdvtc.fit(stimXtrain,stimYtrain)"
   ]
  },
  {
   "cell_type": "code",
   "execution_count": 112,
   "metadata": {},
   "outputs": [],
   "source": [
    "#instantiate d3 interaction only polyfeats"
   ]
  },
  {
   "cell_type": "code",
   "execution_count": 113,
   "metadata": {},
   "outputs": [],
   "source": [
    "#instantiate select k best k =43"
   ]
  },
  {
   "cell_type": "code",
   "execution_count": 114,
   "metadata": {},
   "outputs": [],
   "source": [
    "#instantiate standardscaler"
   ]
  },
  {
   "cell_type": "code",
   "execution_count": 115,
   "metadata": {},
   "outputs": [
    {
     "name": "stderr",
     "output_type": "stream",
     "text": [
      "C:\\Users\\Sigma\\AppData\\Roaming\\Python\\Python37\\site-packages\\sklearn\\feature_selection\\_univariate_selection.py:115: UserWarning: Features [0] are constant.\n",
      "  UserWarning)\n",
      "C:\\Users\\Sigma\\AppData\\Roaming\\Python\\Python37\\site-packages\\sklearn\\feature_selection\\_univariate_selection.py:116: RuntimeWarning: invalid value encountered in true_divide\n",
      "  f = msb / msw\n"
     ]
    },
    {
     "data": {
      "text/plain": [
       "Pipeline(steps=[('poly', PolynomialFeatures(degree=3, interaction_only=True)),\n",
       "                ('selector', SelectKBest(k=43)), ('scaler', StandardScaler()),\n",
       "                ('model',\n",
       "                 VotingClassifier(estimators=[('polymodel1',\n",
       "                                               LogisticRegression(C=0.75,\n",
       "                                                                  class_weight='auto',\n",
       "                                                                  max_iter=1000,\n",
       "                                                                  solver='sag',\n",
       "                                                                  warm_start=True)),\n",
       "                                              ('polymodel2',\n",
       "                                               LogisticRegression(C=10,\n",
       "                                                                  class_weight='auto',\n",
       "                                                                  fit_intercept=...\n",
       "                                              ('polymodel7',\n",
       "                                               KNeighborsClassifier(n_neighbors=1)),\n",
       "                                              ('polymodel8',\n",
       "                                               KNeighborsClassifier(n_neighbors=53)),\n",
       "                                              ('polymodel9',\n",
       "                                               RandomForestClassifier(class_weight='balanced',\n",
       "                                                                      criterion='entropy',\n",
       "                                                                      n_estimators=500,\n",
       "                                                                      warm_start=True)),\n",
       "                                              ('polymodel10',\n",
       "                                               RandomForestClassifier(class_weight='balanced',\n",
       "                                                                      min_samples_leaf=3,\n",
       "                                                                      random_state=True))],\n",
       "                                  n_jobs=-1, verbose=True, voting='soft'))])"
      ]
     },
     "execution_count": 115,
     "metadata": {},
     "output_type": "execute_result"
    }
   ],
   "source": [
    "#make a pipeline of poly vtc in order\n",
    "# polyfeats\n",
    "#select k best\n",
    "#standardscaler\n",
    "polyvtc = Pipeline([('poly',poly),('selector', selector),('scaler',polyscaler),('model', vtc2)])\n",
    "polyvtc.fit(stimXtrain,stimYtrain)"
   ]
  },
  {
   "cell_type": "code",
   "execution_count": 116,
   "metadata": {},
   "outputs": [],
   "source": [
    "# fit both"
   ]
  },
  {
   "cell_type": "code",
   "execution_count": 117,
   "metadata": {},
   "outputs": [
    {
     "name": "stdout",
     "output_type": "stream",
     "text": [
      "0.8401759215877274 0.7926234492399091\n",
      "              precision    recall  f1-score   support\n",
      "\n",
      "        high       0.79      0.93      0.85      1215\n",
      "         low       0.91      0.75      0.82      1213\n",
      "\n",
      "    accuracy                           0.84      2428\n",
      "   macro avg       0.85      0.84      0.84      2428\n",
      "weighted avg       0.85      0.84      0.84      2428\n",
      "\n",
      "              precision    recall  f1-score   support\n",
      "\n",
      "        high       0.30      0.67      0.41        60\n",
      "         low       0.94      0.77      0.85       412\n",
      "\n",
      "    accuracy                           0.76       472\n",
      "   macro avg       0.62      0.72      0.63       472\n",
      "weighted avg       0.86      0.76      0.79       472\n",
      "\n"
     ]
    },
    {
     "data": {
      "text/plain": [
       "array([[1124,   91],\n",
       "       [ 300,  913]], dtype=int64)"
      ]
     },
     "execution_count": 117,
     "metadata": {},
     "output_type": "execute_result"
    }
   ],
   "source": [
    "#check classification report for both\n",
    "vtcypred = stdvtc.predict(stimXtest)\n",
    "vtcytrain = stdvtc.predict(stimXtrain)\n",
    "\n",
    "print(f1_score(vtcytrain,stimYtrain,average='weighted'),f1_score(stimYtest,vtcypred,average='weighted'))\n",
    "print(classification_report(stimYtrain, vtcytrain))\n",
    "print(classification_report(stimYtest, vtcypred))\n",
    "\n",
    "\n",
    "\n",
    "confusion_matrix(stimYtrain, vtcytrain)"
   ]
  },
  {
   "cell_type": "code",
   "execution_count": 118,
   "metadata": {},
   "outputs": [
    {
     "data": {
      "text/plain": [
       "array([[ 40,  20],\n",
       "       [ 94, 318]], dtype=int64)"
      ]
     },
     "execution_count": 118,
     "metadata": {},
     "output_type": "execute_result"
    }
   ],
   "source": [
    "confusion_matrix(stimYtest,vtcypred)"
   ]
  },
  {
   "cell_type": "code",
   "execution_count": 119,
   "metadata": {},
   "outputs": [
    {
     "name": "stdout",
     "output_type": "stream",
     "text": [
      "0.9547384855089984 0.7923998896732869\n",
      "              precision    recall  f1-score   support\n",
      "\n",
      "        high       0.93      0.99      0.96      1215\n",
      "         low       0.98      0.92      0.95      1213\n",
      "\n",
      "    accuracy                           0.95      2428\n",
      "   macro avg       0.96      0.95      0.95      2428\n",
      "weighted avg       0.96      0.95      0.95      2428\n",
      "\n",
      "              precision    recall  f1-score   support\n",
      "\n",
      "        high       0.29      0.60      0.39        60\n",
      "         low       0.93      0.78      0.85       412\n",
      "\n",
      "    accuracy                           0.76       472\n",
      "   macro avg       0.61      0.69      0.62       472\n",
      "weighted avg       0.85      0.76      0.79       472\n",
      "\n"
     ]
    },
    {
     "data": {
      "text/plain": [
       "array([[1197,   18],\n",
       "       [  92, 1121]], dtype=int64)"
      ]
     },
     "execution_count": 119,
     "metadata": {},
     "output_type": "execute_result"
    }
   ],
   "source": [
    "#check classification report for both\n",
    "vtcypred = polyvtc.predict(stimXtest)\n",
    "vtcytrain = polyvtc.predict(stimXtrain)\n",
    "\n",
    "print(f1_score(vtcytrain,stimYtrain,average='weighted'),f1_score(stimYtest,vtcypred,average='weighted'))\n",
    "print(classification_report(stimYtrain, vtcytrain))\n",
    "print(classification_report(stimYtest, vtcypred))\n",
    "\n",
    "\n",
    "\n",
    "confusion_matrix(stimYtrain, vtcytrain)"
   ]
  },
  {
   "cell_type": "code",
   "execution_count": 120,
   "metadata": {},
   "outputs": [
    {
     "data": {
      "text/plain": [
       "array([[ 36,  24],\n",
       "       [ 89, 323]], dtype=int64)"
      ]
     },
     "execution_count": 120,
     "metadata": {},
     "output_type": "execute_result"
    }
   ],
   "source": [
    "confusion_matrix(stimYtest,vtcypred)"
   ]
  },
  {
   "cell_type": "code",
   "execution_count": 121,
   "metadata": {},
   "outputs": [],
   "source": [
    "pkl.dump(stdvtc,open('finalstdvtc.pkl','wb'))\n",
    "pkl.dump(polyvtc,open('finalpolyvtc.pkl','wb'))"
   ]
  },
  {
   "cell_type": "code",
   "execution_count": 122,
   "metadata": {},
   "outputs": [
    {
     "name": "stdout",
     "output_type": "stream",
     "text": [
      "1.0 0.8328288148928509\n",
      "              precision    recall  f1-score   support\n",
      "\n",
      "        high       1.00      1.00      1.00      1215\n",
      "         low       1.00      1.00      1.00      1213\n",
      "\n",
      "    accuracy                           1.00      2428\n",
      "   macro avg       1.00      1.00      1.00      2428\n",
      "weighted avg       1.00      1.00      1.00      2428\n",
      "\n",
      "              precision    recall  f1-score   support\n",
      "\n",
      "        high       0.34      0.37      0.35        60\n",
      "         low       0.91      0.90      0.90       412\n",
      "\n",
      "    accuracy                           0.83       472\n",
      "   macro avg       0.63      0.63      0.63       472\n",
      "weighted avg       0.84      0.83      0.83       472\n",
      "\n"
     ]
    },
    {
     "data": {
      "text/plain": [
       "array([[1215,    0],\n",
       "       [   0, 1213]], dtype=int64)"
      ]
     },
     "execution_count": 122,
     "metadata": {},
     "output_type": "execute_result"
    }
   ],
   "source": [
    "adaboostvtc = pkl.load(open('adaoverallvtc.pkl','rb'))\n",
    "adaboostvtc.fit(stimXtrain,stimYtrain)\n",
    "vtcypred = adaboostvtc.predict(stimXtest)\n",
    "vtcytrain = adaboostvtc.predict(stimXtrain)\n",
    "\n",
    "print(f1_score(vtcytrain,stimYtrain,average='weighted'),f1_score(stimYtest,vtcypred,average='weighted'))\n",
    "print(classification_report(stimYtrain, vtcytrain))\n",
    "print(classification_report(stimYtest, vtcypred))\n",
    "\n",
    "\n",
    "\n",
    "confusion_matrix(stimYtrain, vtcytrain)"
   ]
  },
  {
   "cell_type": "code",
   "execution_count": 123,
   "metadata": {},
   "outputs": [],
   "source": [
    "finalvtc =VotingClassifier([('ada',adaboostvtc),('stdmodel',stdvtc),('polymodel',polyvtc)]\n",
    "                           ,voting='soft',verbose = True,n_jobs=-1)\n",
    "\n",
    "\n",
    "\n",
    "\n"
   ]
  },
  {
   "cell_type": "code",
   "execution_count": 124,
   "metadata": {},
   "outputs": [
    {
     "ename": "NotFittedError",
     "evalue": "This VotingClassifier instance is not fitted yet. Call 'fit' with appropriate arguments before using this estimator.",
     "output_type": "error",
     "traceback": [
      "\u001b[1;31m---------------------------------------------------------------------------\u001b[0m",
      "\u001b[1;31mNotFittedError\u001b[0m                            Traceback (most recent call last)",
      "\u001b[1;32m<ipython-input-124-fe9e82bac27a>\u001b[0m in \u001b[0;36m<module>\u001b[1;34m\u001b[0m\n\u001b[1;32m----> 1\u001b[1;33m \u001b[0mvtcypred\u001b[0m \u001b[1;33m=\u001b[0m \u001b[0mfinalvtc\u001b[0m\u001b[1;33m.\u001b[0m\u001b[0mpredict\u001b[0m\u001b[1;33m(\u001b[0m\u001b[0mstimXtest\u001b[0m\u001b[1;33m)\u001b[0m\u001b[1;33m\u001b[0m\u001b[1;33m\u001b[0m\u001b[0m\n\u001b[0m\u001b[0;32m      2\u001b[0m \u001b[0mvtcytrain\u001b[0m \u001b[1;33m=\u001b[0m \u001b[0mfinalvtc\u001b[0m\u001b[1;33m.\u001b[0m\u001b[0mpredict\u001b[0m\u001b[1;33m(\u001b[0m\u001b[0mstimXtrain\u001b[0m\u001b[1;33m)\u001b[0m\u001b[1;33m\u001b[0m\u001b[1;33m\u001b[0m\u001b[0m\n\u001b[0;32m      3\u001b[0m \u001b[1;33m\u001b[0m\u001b[0m\n\u001b[0;32m      4\u001b[0m \u001b[0mprint\u001b[0m\u001b[1;33m(\u001b[0m\u001b[0mf1_score\u001b[0m\u001b[1;33m(\u001b[0m\u001b[0mvtcytrain\u001b[0m\u001b[1;33m,\u001b[0m\u001b[0mstimYtrain\u001b[0m\u001b[1;33m,\u001b[0m\u001b[0maverage\u001b[0m\u001b[1;33m=\u001b[0m\u001b[1;34m'weighted'\u001b[0m\u001b[1;33m)\u001b[0m\u001b[1;33m,\u001b[0m\u001b[0mf1_score\u001b[0m\u001b[1;33m(\u001b[0m\u001b[0mstimYtest\u001b[0m\u001b[1;33m,\u001b[0m\u001b[0mvtcypred\u001b[0m\u001b[1;33m,\u001b[0m\u001b[0maverage\u001b[0m\u001b[1;33m=\u001b[0m\u001b[1;34m'weighted'\u001b[0m\u001b[1;33m)\u001b[0m\u001b[1;33m)\u001b[0m\u001b[1;33m\u001b[0m\u001b[1;33m\u001b[0m\u001b[0m\n\u001b[0;32m      5\u001b[0m \u001b[0mprint\u001b[0m\u001b[1;33m(\u001b[0m\u001b[0mclassification_report\u001b[0m\u001b[1;33m(\u001b[0m\u001b[0mstimYtrain\u001b[0m\u001b[1;33m,\u001b[0m \u001b[0mvtcytrain\u001b[0m\u001b[1;33m)\u001b[0m\u001b[1;33m)\u001b[0m\u001b[1;33m\u001b[0m\u001b[1;33m\u001b[0m\u001b[0m\n",
      "\u001b[1;32m~\\AppData\\Roaming\\Python\\Python37\\site-packages\\sklearn\\ensemble\\_voting.py\u001b[0m in \u001b[0;36mpredict\u001b[1;34m(self, X)\u001b[0m\n\u001b[0;32m    305\u001b[0m             \u001b[0mPredicted\u001b[0m \u001b[1;32mclass\u001b[0m \u001b[0mlabels\u001b[0m\u001b[1;33m.\u001b[0m\u001b[1;33m\u001b[0m\u001b[1;33m\u001b[0m\u001b[0m\n\u001b[0;32m    306\u001b[0m         \"\"\"\n\u001b[1;32m--> 307\u001b[1;33m         \u001b[0mcheck_is_fitted\u001b[0m\u001b[1;33m(\u001b[0m\u001b[0mself\u001b[0m\u001b[1;33m)\u001b[0m\u001b[1;33m\u001b[0m\u001b[1;33m\u001b[0m\u001b[0m\n\u001b[0m\u001b[0;32m    308\u001b[0m         \u001b[1;32mif\u001b[0m \u001b[0mself\u001b[0m\u001b[1;33m.\u001b[0m\u001b[0mvoting\u001b[0m \u001b[1;33m==\u001b[0m \u001b[1;34m'soft'\u001b[0m\u001b[1;33m:\u001b[0m\u001b[1;33m\u001b[0m\u001b[1;33m\u001b[0m\u001b[0m\n\u001b[0;32m    309\u001b[0m             \u001b[0mmaj\u001b[0m \u001b[1;33m=\u001b[0m \u001b[0mnp\u001b[0m\u001b[1;33m.\u001b[0m\u001b[0margmax\u001b[0m\u001b[1;33m(\u001b[0m\u001b[0mself\u001b[0m\u001b[1;33m.\u001b[0m\u001b[0mpredict_proba\u001b[0m\u001b[1;33m(\u001b[0m\u001b[0mX\u001b[0m\u001b[1;33m)\u001b[0m\u001b[1;33m,\u001b[0m \u001b[0maxis\u001b[0m\u001b[1;33m=\u001b[0m\u001b[1;36m1\u001b[0m\u001b[1;33m)\u001b[0m\u001b[1;33m\u001b[0m\u001b[1;33m\u001b[0m\u001b[0m\n",
      "\u001b[1;32m~\\AppData\\Roaming\\Python\\Python37\\site-packages\\sklearn\\utils\\validation.py\u001b[0m in \u001b[0;36minner_f\u001b[1;34m(*args, **kwargs)\u001b[0m\n\u001b[0;32m     61\u001b[0m             \u001b[0mextra_args\u001b[0m \u001b[1;33m=\u001b[0m \u001b[0mlen\u001b[0m\u001b[1;33m(\u001b[0m\u001b[0margs\u001b[0m\u001b[1;33m)\u001b[0m \u001b[1;33m-\u001b[0m \u001b[0mlen\u001b[0m\u001b[1;33m(\u001b[0m\u001b[0mall_args\u001b[0m\u001b[1;33m)\u001b[0m\u001b[1;33m\u001b[0m\u001b[1;33m\u001b[0m\u001b[0m\n\u001b[0;32m     62\u001b[0m             \u001b[1;32mif\u001b[0m \u001b[0mextra_args\u001b[0m \u001b[1;33m<=\u001b[0m \u001b[1;36m0\u001b[0m\u001b[1;33m:\u001b[0m\u001b[1;33m\u001b[0m\u001b[1;33m\u001b[0m\u001b[0m\n\u001b[1;32m---> 63\u001b[1;33m                 \u001b[1;32mreturn\u001b[0m \u001b[0mf\u001b[0m\u001b[1;33m(\u001b[0m\u001b[1;33m*\u001b[0m\u001b[0margs\u001b[0m\u001b[1;33m,\u001b[0m \u001b[1;33m**\u001b[0m\u001b[0mkwargs\u001b[0m\u001b[1;33m)\u001b[0m\u001b[1;33m\u001b[0m\u001b[1;33m\u001b[0m\u001b[0m\n\u001b[0m\u001b[0;32m     64\u001b[0m \u001b[1;33m\u001b[0m\u001b[0m\n\u001b[0;32m     65\u001b[0m             \u001b[1;31m# extra_args > 0\u001b[0m\u001b[1;33m\u001b[0m\u001b[1;33m\u001b[0m\u001b[1;33m\u001b[0m\u001b[0m\n",
      "\u001b[1;32m~\\AppData\\Roaming\\Python\\Python37\\site-packages\\sklearn\\utils\\validation.py\u001b[0m in \u001b[0;36mcheck_is_fitted\u001b[1;34m(estimator, attributes, msg, all_or_any)\u001b[0m\n\u001b[0;32m   1039\u001b[0m \u001b[1;33m\u001b[0m\u001b[0m\n\u001b[0;32m   1040\u001b[0m     \u001b[1;32mif\u001b[0m \u001b[1;32mnot\u001b[0m \u001b[0mattrs\u001b[0m\u001b[1;33m:\u001b[0m\u001b[1;33m\u001b[0m\u001b[1;33m\u001b[0m\u001b[0m\n\u001b[1;32m-> 1041\u001b[1;33m         \u001b[1;32mraise\u001b[0m \u001b[0mNotFittedError\u001b[0m\u001b[1;33m(\u001b[0m\u001b[0mmsg\u001b[0m \u001b[1;33m%\u001b[0m \u001b[1;33m{\u001b[0m\u001b[1;34m'name'\u001b[0m\u001b[1;33m:\u001b[0m \u001b[0mtype\u001b[0m\u001b[1;33m(\u001b[0m\u001b[0mestimator\u001b[0m\u001b[1;33m)\u001b[0m\u001b[1;33m.\u001b[0m\u001b[0m__name__\u001b[0m\u001b[1;33m}\u001b[0m\u001b[1;33m)\u001b[0m\u001b[1;33m\u001b[0m\u001b[1;33m\u001b[0m\u001b[0m\n\u001b[0m\u001b[0;32m   1042\u001b[0m \u001b[1;33m\u001b[0m\u001b[0m\n\u001b[0;32m   1043\u001b[0m \u001b[1;33m\u001b[0m\u001b[0m\n",
      "\u001b[1;31mNotFittedError\u001b[0m: This VotingClassifier instance is not fitted yet. Call 'fit' with appropriate arguments before using this estimator."
     ]
    }
   ],
   "source": [
    "\n",
    "vtcypred = finalvtc.predict(stimXtest)\n",
    "vtcytrain = finalvtc.predict(stimXtrain)\n",
    "\n",
    "print(f1_score(vtcytrain,stimYtrain,average='weighted'),f1_score(stimYtest,vtcypred,average='weighted'))\n",
    "print(classification_report(stimYtrain, vtcytrain))\n",
    "print(classification_report(stimYtest, vtcypred))\n",
    "\n",
    "\n",
    "\n",
    "confusion_matrix(stimYtrain, vtcytrain)"
   ]
  },
  {
   "cell_type": "code",
   "execution_count": null,
   "metadata": {},
   "outputs": [],
   "source": [
    "plot_confusion_matrix(finalvtc,stimXtest, stimYtest)"
   ]
  },
  {
   "cell_type": "code",
   "execution_count": null,
   "metadata": {},
   "outputs": [],
   "source": [
    "pkl.dump(finalvtc,open('finaloverallvtc.pkl','wb'))"
   ]
  },
  {
   "cell_type": "code",
   "execution_count": null,
   "metadata": {},
   "outputs": [],
   "source": []
  },
  {
   "cell_type": "code",
   "execution_count": null,
   "metadata": {},
   "outputs": [],
   "source": []
  },
  {
   "cell_type": "code",
   "execution_count": null,
   "metadata": {},
   "outputs": [],
   "source": [
    "stimXtrain"
   ]
  },
  {
   "cell_type": "code",
   "execution_count": null,
   "metadata": {},
   "outputs": [],
   "source": []
  },
  {
   "cell_type": "code",
   "execution_count": 134,
   "metadata": {},
   "outputs": [],
   "source": [
    "def fitvtc(Xtrain,Ytrain,Xtest,Ytest):\n",
    "    vtc =VotingClassifier([('ada',adaboostvtc),('stdmodel',stdvtc),('polymodel',polyvtc)]\n",
    "                           ,voting='soft',verbose = True,n_jobs=-1)\n",
    "\n",
    "    vtc.fit(Xtrain,Ytrain)\n",
    "    \n",
    "    ypred = vtc.predict(Xtest)\n",
    "    vtcytrain = vtc.predict(Xtrain)\n",
    "\n",
    "    print(f1_score(Ytrain,vtcytrain,average='weighted'),f1_score(Ytest,ypred,average='weighted'))\n",
    "    print(classification_report(Ytrain, vtcytrain))\n",
    "    print(classification_report(Ytest, ypred))\n",
    "\n",
    "\n",
    "\n",
    "    confusion_matrix(Ytrain, vtcytrain)\n",
    "    return vtc"
   ]
  },
  {
   "cell_type": "code",
   "execution_count": 136,
   "metadata": {
    "scrolled": false
   },
   "outputs": [
    {
     "name": "stdout",
     "output_type": "stream",
     "text": [
      "0.9472170308348915 0.8140304948867845\n",
      "              precision    recall  f1-score   support\n",
      "\n",
      "        high       0.92      0.98      0.95      1215\n",
      "         low       0.98      0.91      0.95      1213\n",
      "\n",
      "    accuracy                           0.95      2428\n",
      "   macro avg       0.95      0.95      0.95      2428\n",
      "weighted avg       0.95      0.95      0.95      2428\n",
      "\n",
      "              precision    recall  f1-score   support\n",
      "\n",
      "        high       0.32      0.58      0.41        60\n",
      "         low       0.93      0.82      0.87       412\n",
      "\n",
      "    accuracy                           0.79       472\n",
      "   macro avg       0.63      0.70      0.64       472\n",
      "weighted avg       0.85      0.79      0.81       472\n",
      "\n",
      "0.9497672024723559 0.7252824858757062\n",
      "              precision    recall  f1-score   support\n",
      "\n",
      "        high       0.93      0.98      0.95      1177\n",
      "         low       0.98      0.92      0.95      1174\n",
      "\n",
      "    accuracy                           0.95      2351\n",
      "   macro avg       0.95      0.95      0.95      2351\n",
      "weighted avg       0.95      0.95      0.95      2351\n",
      "\n",
      "              precision    recall  f1-score   support\n",
      "\n",
      "        high       0.31      0.48      0.38        88\n",
      "         low       0.86      0.76      0.81       384\n",
      "\n",
      "    accuracy                           0.70       472\n",
      "   macro avg       0.59      0.62      0.59       472\n",
      "weighted avg       0.76      0.70      0.73       472\n",
      "\n",
      "0.9250747188836279 0.782041795204435\n",
      "              precision    recall  f1-score   support\n",
      "\n",
      "        high       0.89      0.97      0.93      1086\n",
      "         low       0.97      0.88      0.92      1081\n",
      "\n",
      "    accuracy                           0.93      2167\n",
      "   macro avg       0.93      0.93      0.93      2167\n",
      "weighted avg       0.93      0.93      0.93      2167\n",
      "\n",
      "              precision    recall  f1-score   support\n",
      "\n",
      "        high       0.53      0.75      0.62       119\n",
      "         low       0.90      0.78      0.84       353\n",
      "\n",
      "    accuracy                           0.77       472\n",
      "   macro avg       0.72      0.76      0.73       472\n",
      "weighted avg       0.81      0.77      0.78       472\n",
      "\n"
     ]
    }
   ],
   "source": [
    "stimvtc=fitvtc(stimXtrain,stimYtrain,stimXtest,stimYtest)\n",
    "depvtc=fitvtc(depXtrain,depYtrain,depXtest,depYtest)\n",
    "haluvtc=fitvtc(haluXtrain,haluYtrain,haluXtest,haluYtest)"
   ]
  },
  {
   "cell_type": "code",
   "execution_count": 138,
   "metadata": {},
   "outputs": [],
   "source": [
    "pkl.dump(stimvtc,open('stimvtc.pkl','wb'))\n",
    "pkl.dump(depvtc,open('depvtc.pkl','wb'))\n",
    "pkl.dump(haluvtc,open('haluvtc.pkl','wb'))"
   ]
  },
  {
   "cell_type": "code",
   "execution_count": null,
   "metadata": {},
   "outputs": [],
   "source": [
    "depvtc.predict(depXtrain)"
   ]
  },
  {
   "cell_type": "code",
   "execution_count": null,
   "metadata": {},
   "outputs": [],
   "source": []
  }
 ],
 "metadata": {
  "kernelspec": {
   "display_name": "Python 3",
   "language": "python",
   "name": "python3"
  }
 },
 "nbformat": 4,
 "nbformat_minor": 4
}
