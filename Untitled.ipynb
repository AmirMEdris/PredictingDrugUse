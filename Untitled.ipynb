{
 "cells": [
  {
   "cell_type": "markdown",
   "metadata": {},
   "source": [
    "# Understanding Our Goal"
   ]
  },
  {
   "cell_type": "markdown",
   "metadata": {},
   "source": []
  },
  {
   "cell_type": "markdown",
   "metadata": {},
   "source": [
    "## Getting Started"
   ]
  },
  {
   "cell_type": "markdown",
   "metadata": {},
   "source": [
    "### Importing Libraries"
   ]
  },
  {
   "cell_type": "code",
   "execution_count": 99,
   "metadata": {},
   "outputs": [],
   "source": [
    "import pandas as pd\n",
    "from sklearn.model_selection import train_test_split\n",
    "\n",
    "from pandas_profiling import ProfileReport\n",
    "import numpy as np\n",
    "import matplotlib.pyplot as plt\n",
    "from sklearn.preprocessing import PolynomialFeatures,StandardScaler\n",
    "from sklearn.feature_selection import RFE\n",
    "from sklearn.tree import DecisionTreeClassifier\n",
    "from sklearn.neighbors import KNeighborsClassifier\n",
    "import pickle as pkl\n",
    "from sklearn.linear_model import LogisticRegression"
   ]
  },
  {
   "cell_type": "markdown",
   "metadata": {},
   "source": [
    "### Getting The Data"
   ]
  },
  {
   "cell_type": "code",
   "execution_count": 2,
   "metadata": {},
   "outputs": [],
   "source": [
    "Column_names = ['Age','Gender','Education'\n",
    "                ,'Country','Ethnicity'\n",
    "                ,'Nscore','Escore','Oscore'\n",
    "                ,'Ascore','Cscore','Impulsive'\n",
    "                ,'SensationSeeking','Alchol'\n",
    "                ,'Amphet','Amyl','Benzos'\n",
    "                ,'Caff','Cannibis','Chocalate'\n",
    "                ,'Coke','Crack','Ecstasy','Heroin'\n",
    "                ,'Ketamine','Legalh','Lsd','Meth'\n",
    "                ,'Mushroom','Nicotine','Semer','VSA']\n",
    "\n",
    "df = pd.read_csv('drug_consumption.csv', names = Column_names)"
   ]
  },
  {
   "cell_type": "markdown",
   "metadata": {},
   "source": [
    "## Preparing our data"
   ]
  },
  {
   "cell_type": "markdown",
   "metadata": {},
   "source": [
    "### Understanding our Data"
   ]
  },
  {
   "cell_type": "code",
   "execution_count": 3,
   "metadata": {},
   "outputs": [
    {
     "data": {
      "text/html": [
       "<div>\n",
       "<style scoped>\n",
       "    .dataframe tbody tr th:only-of-type {\n",
       "        vertical-align: middle;\n",
       "    }\n",
       "\n",
       "    .dataframe tbody tr th {\n",
       "        vertical-align: top;\n",
       "    }\n",
       "\n",
       "    .dataframe thead th {\n",
       "        text-align: right;\n",
       "    }\n",
       "</style>\n",
       "<table border=\"1\" class=\"dataframe\">\n",
       "  <thead>\n",
       "    <tr style=\"text-align: right;\">\n",
       "      <th></th>\n",
       "      <th>Age</th>\n",
       "      <th>Gender</th>\n",
       "      <th>Education</th>\n",
       "      <th>Country</th>\n",
       "      <th>Ethnicity</th>\n",
       "      <th>Nscore</th>\n",
       "      <th>Escore</th>\n",
       "      <th>Oscore</th>\n",
       "      <th>Ascore</th>\n",
       "      <th>Cscore</th>\n",
       "      <th>Impulsive</th>\n",
       "      <th>SensationSeeking</th>\n",
       "    </tr>\n",
       "  </thead>\n",
       "  <tbody>\n",
       "    <tr>\n",
       "      <th>count</th>\n",
       "      <td>1885.00000</td>\n",
       "      <td>1885.000000</td>\n",
       "      <td>1885.000000</td>\n",
       "      <td>1885.000000</td>\n",
       "      <td>1885.000000</td>\n",
       "      <td>1885.000000</td>\n",
       "      <td>1885.000000</td>\n",
       "      <td>1885.000000</td>\n",
       "      <td>1885.000000</td>\n",
       "      <td>1885.000000</td>\n",
       "      <td>1885.000000</td>\n",
       "      <td>1885.000000</td>\n",
       "    </tr>\n",
       "    <tr>\n",
       "      <th>mean</th>\n",
       "      <td>0.03461</td>\n",
       "      <td>-0.000256</td>\n",
       "      <td>-0.003806</td>\n",
       "      <td>0.355542</td>\n",
       "      <td>-0.309577</td>\n",
       "      <td>0.000047</td>\n",
       "      <td>-0.000163</td>\n",
       "      <td>-0.000534</td>\n",
       "      <td>-0.000245</td>\n",
       "      <td>-0.000386</td>\n",
       "      <td>0.007216</td>\n",
       "      <td>-0.003292</td>\n",
       "    </tr>\n",
       "    <tr>\n",
       "      <th>std</th>\n",
       "      <td>0.87836</td>\n",
       "      <td>0.482588</td>\n",
       "      <td>0.950078</td>\n",
       "      <td>0.700335</td>\n",
       "      <td>0.166226</td>\n",
       "      <td>0.998106</td>\n",
       "      <td>0.997448</td>\n",
       "      <td>0.996229</td>\n",
       "      <td>0.997440</td>\n",
       "      <td>0.997523</td>\n",
       "      <td>0.954435</td>\n",
       "      <td>0.963701</td>\n",
       "    </tr>\n",
       "    <tr>\n",
       "      <th>min</th>\n",
       "      <td>-0.95197</td>\n",
       "      <td>-0.482460</td>\n",
       "      <td>-2.435910</td>\n",
       "      <td>-0.570090</td>\n",
       "      <td>-1.107020</td>\n",
       "      <td>-3.464360</td>\n",
       "      <td>-3.273930</td>\n",
       "      <td>-3.273930</td>\n",
       "      <td>-3.464360</td>\n",
       "      <td>-3.464360</td>\n",
       "      <td>-2.555240</td>\n",
       "      <td>-2.078480</td>\n",
       "    </tr>\n",
       "    <tr>\n",
       "      <th>25%</th>\n",
       "      <td>-0.95197</td>\n",
       "      <td>-0.482460</td>\n",
       "      <td>-0.611130</td>\n",
       "      <td>-0.570090</td>\n",
       "      <td>-0.316850</td>\n",
       "      <td>-0.678250</td>\n",
       "      <td>-0.695090</td>\n",
       "      <td>-0.717270</td>\n",
       "      <td>-0.606330</td>\n",
       "      <td>-0.652530</td>\n",
       "      <td>-0.711260</td>\n",
       "      <td>-0.525930</td>\n",
       "    </tr>\n",
       "    <tr>\n",
       "      <th>50%</th>\n",
       "      <td>-0.07854</td>\n",
       "      <td>-0.482460</td>\n",
       "      <td>-0.059210</td>\n",
       "      <td>0.960820</td>\n",
       "      <td>-0.316850</td>\n",
       "      <td>0.042570</td>\n",
       "      <td>0.003320</td>\n",
       "      <td>-0.019280</td>\n",
       "      <td>-0.017290</td>\n",
       "      <td>-0.006650</td>\n",
       "      <td>-0.217120</td>\n",
       "      <td>0.079870</td>\n",
       "    </tr>\n",
       "    <tr>\n",
       "      <th>75%</th>\n",
       "      <td>0.49788</td>\n",
       "      <td>0.482460</td>\n",
       "      <td>0.454680</td>\n",
       "      <td>0.960820</td>\n",
       "      <td>-0.316850</td>\n",
       "      <td>0.629670</td>\n",
       "      <td>0.637790</td>\n",
       "      <td>0.723300</td>\n",
       "      <td>0.760960</td>\n",
       "      <td>0.584890</td>\n",
       "      <td>0.529750</td>\n",
       "      <td>0.765400</td>\n",
       "    </tr>\n",
       "    <tr>\n",
       "      <th>max</th>\n",
       "      <td>2.59171</td>\n",
       "      <td>0.482460</td>\n",
       "      <td>1.984370</td>\n",
       "      <td>0.960820</td>\n",
       "      <td>1.907250</td>\n",
       "      <td>3.273930</td>\n",
       "      <td>3.273930</td>\n",
       "      <td>2.901610</td>\n",
       "      <td>3.464360</td>\n",
       "      <td>3.464360</td>\n",
       "      <td>2.901610</td>\n",
       "      <td>1.921730</td>\n",
       "    </tr>\n",
       "  </tbody>\n",
       "</table>\n",
       "</div>"
      ],
      "text/plain": [
       "              Age       Gender    Education      Country    Ethnicity  \\\n",
       "count  1885.00000  1885.000000  1885.000000  1885.000000  1885.000000   \n",
       "mean      0.03461    -0.000256    -0.003806     0.355542    -0.309577   \n",
       "std       0.87836     0.482588     0.950078     0.700335     0.166226   \n",
       "min      -0.95197    -0.482460    -2.435910    -0.570090    -1.107020   \n",
       "25%      -0.95197    -0.482460    -0.611130    -0.570090    -0.316850   \n",
       "50%      -0.07854    -0.482460    -0.059210     0.960820    -0.316850   \n",
       "75%       0.49788     0.482460     0.454680     0.960820    -0.316850   \n",
       "max       2.59171     0.482460     1.984370     0.960820     1.907250   \n",
       "\n",
       "            Nscore       Escore       Oscore       Ascore       Cscore  \\\n",
       "count  1885.000000  1885.000000  1885.000000  1885.000000  1885.000000   \n",
       "mean      0.000047    -0.000163    -0.000534    -0.000245    -0.000386   \n",
       "std       0.998106     0.997448     0.996229     0.997440     0.997523   \n",
       "min      -3.464360    -3.273930    -3.273930    -3.464360    -3.464360   \n",
       "25%      -0.678250    -0.695090    -0.717270    -0.606330    -0.652530   \n",
       "50%       0.042570     0.003320    -0.019280    -0.017290    -0.006650   \n",
       "75%       0.629670     0.637790     0.723300     0.760960     0.584890   \n",
       "max       3.273930     3.273930     2.901610     3.464360     3.464360   \n",
       "\n",
       "         Impulsive  SensationSeeking  \n",
       "count  1885.000000       1885.000000  \n",
       "mean      0.007216         -0.003292  \n",
       "std       0.954435          0.963701  \n",
       "min      -2.555240         -2.078480  \n",
       "25%      -0.711260         -0.525930  \n",
       "50%      -0.217120          0.079870  \n",
       "75%       0.529750          0.765400  \n",
       "max       2.901610          1.921730  "
      ]
     },
     "execution_count": 3,
     "metadata": {},
     "output_type": "execute_result"
    }
   ],
   "source": [
    "df.describe()"
   ]
  },
  {
   "cell_type": "code",
   "execution_count": 4,
   "metadata": {},
   "outputs": [
    {
     "name": "stdout",
     "output_type": "stream",
     "text": [
      "<class 'pandas.core.frame.DataFrame'>\n",
      "Int64Index: 1885 entries, 1 to 1888\n",
      "Data columns (total 31 columns):\n",
      " #   Column            Non-Null Count  Dtype  \n",
      "---  ------            --------------  -----  \n",
      " 0   Age               1885 non-null   float64\n",
      " 1   Gender            1885 non-null   float64\n",
      " 2   Education         1885 non-null   float64\n",
      " 3   Country           1885 non-null   float64\n",
      " 4   Ethnicity         1885 non-null   float64\n",
      " 5   Nscore            1885 non-null   float64\n",
      " 6   Escore            1885 non-null   float64\n",
      " 7   Oscore            1885 non-null   float64\n",
      " 8   Ascore            1885 non-null   float64\n",
      " 9   Cscore            1885 non-null   float64\n",
      " 10  Impulsive         1885 non-null   float64\n",
      " 11  SensationSeeking  1885 non-null   float64\n",
      " 12  Alchol            1885 non-null   object \n",
      " 13  Amphet            1885 non-null   object \n",
      " 14  Amyl              1885 non-null   object \n",
      " 15  Benzos            1885 non-null   object \n",
      " 16  Caff              1885 non-null   object \n",
      " 17  Cannibis          1885 non-null   object \n",
      " 18  Chocalate         1885 non-null   object \n",
      " 19  Coke              1885 non-null   object \n",
      " 20  Crack             1885 non-null   object \n",
      " 21  Ecstasy           1885 non-null   object \n",
      " 22  Heroin            1885 non-null   object \n",
      " 23  Ketamine          1885 non-null   object \n",
      " 24  Legalh            1885 non-null   object \n",
      " 25  Lsd               1885 non-null   object \n",
      " 26  Meth              1885 non-null   object \n",
      " 27  Mushroom          1885 non-null   object \n",
      " 28  Nicotine          1885 non-null   object \n",
      " 29  Semer             1885 non-null   object \n",
      " 30  VSA               1885 non-null   object \n",
      "dtypes: float64(12), object(19)\n",
      "memory usage: 471.2+ KB\n"
     ]
    }
   ],
   "source": [
    "df.info()"
   ]
  },
  {
   "cell_type": "code",
   "execution_count": 5,
   "metadata": {},
   "outputs": [
    {
     "data": {
      "text/html": [
       "<div>\n",
       "<style scoped>\n",
       "    .dataframe tbody tr th:only-of-type {\n",
       "        vertical-align: middle;\n",
       "    }\n",
       "\n",
       "    .dataframe tbody tr th {\n",
       "        vertical-align: top;\n",
       "    }\n",
       "\n",
       "    .dataframe thead th {\n",
       "        text-align: right;\n",
       "    }\n",
       "</style>\n",
       "<table border=\"1\" class=\"dataframe\">\n",
       "  <thead>\n",
       "    <tr style=\"text-align: right;\">\n",
       "      <th></th>\n",
       "      <th>Alchol</th>\n",
       "      <th>Amphet</th>\n",
       "      <th>Amyl</th>\n",
       "      <th>Benzos</th>\n",
       "      <th>Caff</th>\n",
       "      <th>Cannibis</th>\n",
       "      <th>Chocalate</th>\n",
       "      <th>Coke</th>\n",
       "      <th>Crack</th>\n",
       "      <th>Ecstasy</th>\n",
       "      <th>Heroin</th>\n",
       "      <th>Ketamine</th>\n",
       "      <th>Legalh</th>\n",
       "      <th>Lsd</th>\n",
       "      <th>Meth</th>\n",
       "      <th>Mushroom</th>\n",
       "      <th>Nicotine</th>\n",
       "      <th>Semer</th>\n",
       "      <th>VSA</th>\n",
       "    </tr>\n",
       "  </thead>\n",
       "  <tbody>\n",
       "    <tr>\n",
       "      <th>1</th>\n",
       "      <td>CL5</td>\n",
       "      <td>CL2</td>\n",
       "      <td>CL0</td>\n",
       "      <td>CL2</td>\n",
       "      <td>CL6</td>\n",
       "      <td>CL0</td>\n",
       "      <td>CL5</td>\n",
       "      <td>CL0</td>\n",
       "      <td>CL0</td>\n",
       "      <td>CL0</td>\n",
       "      <td>CL0</td>\n",
       "      <td>CL0</td>\n",
       "      <td>CL0</td>\n",
       "      <td>CL0</td>\n",
       "      <td>CL0</td>\n",
       "      <td>CL0</td>\n",
       "      <td>CL2</td>\n",
       "      <td>CL0</td>\n",
       "      <td>CL0</td>\n",
       "    </tr>\n",
       "    <tr>\n",
       "      <th>2</th>\n",
       "      <td>CL5</td>\n",
       "      <td>CL2</td>\n",
       "      <td>CL2</td>\n",
       "      <td>CL0</td>\n",
       "      <td>CL6</td>\n",
       "      <td>CL4</td>\n",
       "      <td>CL6</td>\n",
       "      <td>CL3</td>\n",
       "      <td>CL0</td>\n",
       "      <td>CL4</td>\n",
       "      <td>CL0</td>\n",
       "      <td>CL2</td>\n",
       "      <td>CL0</td>\n",
       "      <td>CL2</td>\n",
       "      <td>CL3</td>\n",
       "      <td>CL0</td>\n",
       "      <td>CL4</td>\n",
       "      <td>CL0</td>\n",
       "      <td>CL0</td>\n",
       "    </tr>\n",
       "    <tr>\n",
       "      <th>3</th>\n",
       "      <td>CL6</td>\n",
       "      <td>CL0</td>\n",
       "      <td>CL0</td>\n",
       "      <td>CL0</td>\n",
       "      <td>CL6</td>\n",
       "      <td>CL3</td>\n",
       "      <td>CL4</td>\n",
       "      <td>CL0</td>\n",
       "      <td>CL0</td>\n",
       "      <td>CL0</td>\n",
       "      <td>CL0</td>\n",
       "      <td>CL0</td>\n",
       "      <td>CL0</td>\n",
       "      <td>CL0</td>\n",
       "      <td>CL0</td>\n",
       "      <td>CL1</td>\n",
       "      <td>CL0</td>\n",
       "      <td>CL0</td>\n",
       "      <td>CL0</td>\n",
       "    </tr>\n",
       "    <tr>\n",
       "      <th>4</th>\n",
       "      <td>CL4</td>\n",
       "      <td>CL0</td>\n",
       "      <td>CL0</td>\n",
       "      <td>CL3</td>\n",
       "      <td>CL5</td>\n",
       "      <td>CL2</td>\n",
       "      <td>CL4</td>\n",
       "      <td>CL2</td>\n",
       "      <td>CL0</td>\n",
       "      <td>CL0</td>\n",
       "      <td>CL0</td>\n",
       "      <td>CL2</td>\n",
       "      <td>CL0</td>\n",
       "      <td>CL0</td>\n",
       "      <td>CL0</td>\n",
       "      <td>CL0</td>\n",
       "      <td>CL2</td>\n",
       "      <td>CL0</td>\n",
       "      <td>CL0</td>\n",
       "    </tr>\n",
       "    <tr>\n",
       "      <th>5</th>\n",
       "      <td>CL4</td>\n",
       "      <td>CL1</td>\n",
       "      <td>CL1</td>\n",
       "      <td>CL0</td>\n",
       "      <td>CL6</td>\n",
       "      <td>CL3</td>\n",
       "      <td>CL6</td>\n",
       "      <td>CL0</td>\n",
       "      <td>CL0</td>\n",
       "      <td>CL1</td>\n",
       "      <td>CL0</td>\n",
       "      <td>CL0</td>\n",
       "      <td>CL1</td>\n",
       "      <td>CL0</td>\n",
       "      <td>CL0</td>\n",
       "      <td>CL2</td>\n",
       "      <td>CL2</td>\n",
       "      <td>CL0</td>\n",
       "      <td>CL0</td>\n",
       "    </tr>\n",
       "    <tr>\n",
       "      <th>...</th>\n",
       "      <td>...</td>\n",
       "      <td>...</td>\n",
       "      <td>...</td>\n",
       "      <td>...</td>\n",
       "      <td>...</td>\n",
       "      <td>...</td>\n",
       "      <td>...</td>\n",
       "      <td>...</td>\n",
       "      <td>...</td>\n",
       "      <td>...</td>\n",
       "      <td>...</td>\n",
       "      <td>...</td>\n",
       "      <td>...</td>\n",
       "      <td>...</td>\n",
       "      <td>...</td>\n",
       "      <td>...</td>\n",
       "      <td>...</td>\n",
       "      <td>...</td>\n",
       "      <td>...</td>\n",
       "    </tr>\n",
       "    <tr>\n",
       "      <th>1884</th>\n",
       "      <td>CL5</td>\n",
       "      <td>CL0</td>\n",
       "      <td>CL0</td>\n",
       "      <td>CL0</td>\n",
       "      <td>CL4</td>\n",
       "      <td>CL5</td>\n",
       "      <td>CL4</td>\n",
       "      <td>CL0</td>\n",
       "      <td>CL0</td>\n",
       "      <td>CL0</td>\n",
       "      <td>CL0</td>\n",
       "      <td>CL0</td>\n",
       "      <td>CL3</td>\n",
       "      <td>CL3</td>\n",
       "      <td>CL0</td>\n",
       "      <td>CL0</td>\n",
       "      <td>CL0</td>\n",
       "      <td>CL0</td>\n",
       "      <td>CL5</td>\n",
       "    </tr>\n",
       "    <tr>\n",
       "      <th>1885</th>\n",
       "      <td>CL5</td>\n",
       "      <td>CL0</td>\n",
       "      <td>CL0</td>\n",
       "      <td>CL0</td>\n",
       "      <td>CL5</td>\n",
       "      <td>CL3</td>\n",
       "      <td>CL4</td>\n",
       "      <td>CL0</td>\n",
       "      <td>CL0</td>\n",
       "      <td>CL2</td>\n",
       "      <td>CL0</td>\n",
       "      <td>CL0</td>\n",
       "      <td>CL3</td>\n",
       "      <td>CL5</td>\n",
       "      <td>CL4</td>\n",
       "      <td>CL4</td>\n",
       "      <td>CL5</td>\n",
       "      <td>CL0</td>\n",
       "      <td>CL0</td>\n",
       "    </tr>\n",
       "    <tr>\n",
       "      <th>1886</th>\n",
       "      <td>CL4</td>\n",
       "      <td>CL6</td>\n",
       "      <td>CL5</td>\n",
       "      <td>CL5</td>\n",
       "      <td>CL6</td>\n",
       "      <td>CL6</td>\n",
       "      <td>CL6</td>\n",
       "      <td>CL4</td>\n",
       "      <td>CL0</td>\n",
       "      <td>CL4</td>\n",
       "      <td>CL0</td>\n",
       "      <td>CL2</td>\n",
       "      <td>CL0</td>\n",
       "      <td>CL2</td>\n",
       "      <td>CL0</td>\n",
       "      <td>CL2</td>\n",
       "      <td>CL6</td>\n",
       "      <td>CL0</td>\n",
       "      <td>CL0</td>\n",
       "    </tr>\n",
       "    <tr>\n",
       "      <th>1887</th>\n",
       "      <td>CL5</td>\n",
       "      <td>CL0</td>\n",
       "      <td>CL0</td>\n",
       "      <td>CL0</td>\n",
       "      <td>CL6</td>\n",
       "      <td>CL6</td>\n",
       "      <td>CL5</td>\n",
       "      <td>CL0</td>\n",
       "      <td>CL0</td>\n",
       "      <td>CL3</td>\n",
       "      <td>CL0</td>\n",
       "      <td>CL0</td>\n",
       "      <td>CL3</td>\n",
       "      <td>CL3</td>\n",
       "      <td>CL0</td>\n",
       "      <td>CL3</td>\n",
       "      <td>CL4</td>\n",
       "      <td>CL0</td>\n",
       "      <td>CL0</td>\n",
       "    </tr>\n",
       "    <tr>\n",
       "      <th>1888</th>\n",
       "      <td>CL4</td>\n",
       "      <td>CL3</td>\n",
       "      <td>CL0</td>\n",
       "      <td>CL3</td>\n",
       "      <td>CL6</td>\n",
       "      <td>CL3</td>\n",
       "      <td>CL6</td>\n",
       "      <td>CL3</td>\n",
       "      <td>CL0</td>\n",
       "      <td>CL3</td>\n",
       "      <td>CL0</td>\n",
       "      <td>CL0</td>\n",
       "      <td>CL3</td>\n",
       "      <td>CL3</td>\n",
       "      <td>CL0</td>\n",
       "      <td>CL3</td>\n",
       "      <td>CL6</td>\n",
       "      <td>CL0</td>\n",
       "      <td>CL2</td>\n",
       "    </tr>\n",
       "  </tbody>\n",
       "</table>\n",
       "<p>1885 rows × 19 columns</p>\n",
       "</div>"
      ],
      "text/plain": [
       "     Alchol Amphet Amyl Benzos Caff Cannibis Chocalate Coke Crack Ecstasy  \\\n",
       "1       CL5    CL2  CL0    CL2  CL6      CL0       CL5  CL0   CL0     CL0   \n",
       "2       CL5    CL2  CL2    CL0  CL6      CL4       CL6  CL3   CL0     CL4   \n",
       "3       CL6    CL0  CL0    CL0  CL6      CL3       CL4  CL0   CL0     CL0   \n",
       "4       CL4    CL0  CL0    CL3  CL5      CL2       CL4  CL2   CL0     CL0   \n",
       "5       CL4    CL1  CL1    CL0  CL6      CL3       CL6  CL0   CL0     CL1   \n",
       "...     ...    ...  ...    ...  ...      ...       ...  ...   ...     ...   \n",
       "1884    CL5    CL0  CL0    CL0  CL4      CL5       CL4  CL0   CL0     CL0   \n",
       "1885    CL5    CL0  CL0    CL0  CL5      CL3       CL4  CL0   CL0     CL2   \n",
       "1886    CL4    CL6  CL5    CL5  CL6      CL6       CL6  CL4   CL0     CL4   \n",
       "1887    CL5    CL0  CL0    CL0  CL6      CL6       CL5  CL0   CL0     CL3   \n",
       "1888    CL4    CL3  CL0    CL3  CL6      CL3       CL6  CL3   CL0     CL3   \n",
       "\n",
       "     Heroin Ketamine Legalh  Lsd Meth Mushroom Nicotine Semer  VSA  \n",
       "1       CL0      CL0    CL0  CL0  CL0      CL0      CL2   CL0  CL0  \n",
       "2       CL0      CL2    CL0  CL2  CL3      CL0      CL4   CL0  CL0  \n",
       "3       CL0      CL0    CL0  CL0  CL0      CL1      CL0   CL0  CL0  \n",
       "4       CL0      CL2    CL0  CL0  CL0      CL0      CL2   CL0  CL0  \n",
       "5       CL0      CL0    CL1  CL0  CL0      CL2      CL2   CL0  CL0  \n",
       "...     ...      ...    ...  ...  ...      ...      ...   ...  ...  \n",
       "1884    CL0      CL0    CL3  CL3  CL0      CL0      CL0   CL0  CL5  \n",
       "1885    CL0      CL0    CL3  CL5  CL4      CL4      CL5   CL0  CL0  \n",
       "1886    CL0      CL2    CL0  CL2  CL0      CL2      CL6   CL0  CL0  \n",
       "1887    CL0      CL0    CL3  CL3  CL0      CL3      CL4   CL0  CL0  \n",
       "1888    CL0      CL0    CL3  CL3  CL0      CL3      CL6   CL0  CL2  \n",
       "\n",
       "[1885 rows x 19 columns]"
      ]
     },
     "execution_count": 5,
     "metadata": {},
     "output_type": "execute_result"
    }
   ],
   "source": [
    "PersonalityMetrics = ['Nscore','Escore','Oscore','Ascore','Cscore','Impulsive','SensationSeeking']\n",
    "DrugNames =['Alchol','Amphet','Amyl','Benzos','Caff','Cannibis','Chocalate','Coke','Crack','Ecstasy','Heroin','Ketamine','Legalh','Lsd','Meth','Mushroom','Nicotine','Semer','VSA']\n",
    "df[DrugNames]"
   ]
  },
  {
   "cell_type": "code",
   "execution_count": 6,
   "metadata": {},
   "outputs": [
    {
     "data": {
      "text/html": [
       "<div>\n",
       "<style scoped>\n",
       "    .dataframe tbody tr th:only-of-type {\n",
       "        vertical-align: middle;\n",
       "    }\n",
       "\n",
       "    .dataframe tbody tr th {\n",
       "        vertical-align: top;\n",
       "    }\n",
       "\n",
       "    .dataframe thead th {\n",
       "        text-align: right;\n",
       "    }\n",
       "</style>\n",
       "<table border=\"1\" class=\"dataframe\">\n",
       "  <thead>\n",
       "    <tr style=\"text-align: right;\">\n",
       "      <th></th>\n",
       "      <th>Alchol</th>\n",
       "      <th>Amphet</th>\n",
       "      <th>Amyl</th>\n",
       "      <th>Benzos</th>\n",
       "      <th>Caff</th>\n",
       "      <th>Cannibis</th>\n",
       "      <th>Chocalate</th>\n",
       "      <th>Coke</th>\n",
       "      <th>Crack</th>\n",
       "      <th>Ecstasy</th>\n",
       "      <th>Heroin</th>\n",
       "      <th>Ketamine</th>\n",
       "      <th>Legalh</th>\n",
       "      <th>Lsd</th>\n",
       "      <th>Meth</th>\n",
       "      <th>Mushroom</th>\n",
       "      <th>Nicotine</th>\n",
       "      <th>Semer</th>\n",
       "      <th>VSA</th>\n",
       "    </tr>\n",
       "  </thead>\n",
       "  <tbody>\n",
       "    <tr>\n",
       "      <th>1</th>\n",
       "      <td>5</td>\n",
       "      <td>2</td>\n",
       "      <td>0</td>\n",
       "      <td>2</td>\n",
       "      <td>6</td>\n",
       "      <td>0</td>\n",
       "      <td>5</td>\n",
       "      <td>0</td>\n",
       "      <td>0</td>\n",
       "      <td>0</td>\n",
       "      <td>0</td>\n",
       "      <td>0</td>\n",
       "      <td>0</td>\n",
       "      <td>0</td>\n",
       "      <td>0</td>\n",
       "      <td>0</td>\n",
       "      <td>2</td>\n",
       "      <td>0</td>\n",
       "      <td>0</td>\n",
       "    </tr>\n",
       "    <tr>\n",
       "      <th>2</th>\n",
       "      <td>5</td>\n",
       "      <td>2</td>\n",
       "      <td>2</td>\n",
       "      <td>0</td>\n",
       "      <td>6</td>\n",
       "      <td>4</td>\n",
       "      <td>6</td>\n",
       "      <td>3</td>\n",
       "      <td>0</td>\n",
       "      <td>4</td>\n",
       "      <td>0</td>\n",
       "      <td>2</td>\n",
       "      <td>0</td>\n",
       "      <td>2</td>\n",
       "      <td>3</td>\n",
       "      <td>0</td>\n",
       "      <td>4</td>\n",
       "      <td>0</td>\n",
       "      <td>0</td>\n",
       "    </tr>\n",
       "    <tr>\n",
       "      <th>3</th>\n",
       "      <td>6</td>\n",
       "      <td>0</td>\n",
       "      <td>0</td>\n",
       "      <td>0</td>\n",
       "      <td>6</td>\n",
       "      <td>3</td>\n",
       "      <td>4</td>\n",
       "      <td>0</td>\n",
       "      <td>0</td>\n",
       "      <td>0</td>\n",
       "      <td>0</td>\n",
       "      <td>0</td>\n",
       "      <td>0</td>\n",
       "      <td>0</td>\n",
       "      <td>0</td>\n",
       "      <td>1</td>\n",
       "      <td>0</td>\n",
       "      <td>0</td>\n",
       "      <td>0</td>\n",
       "    </tr>\n",
       "    <tr>\n",
       "      <th>4</th>\n",
       "      <td>4</td>\n",
       "      <td>0</td>\n",
       "      <td>0</td>\n",
       "      <td>3</td>\n",
       "      <td>5</td>\n",
       "      <td>2</td>\n",
       "      <td>4</td>\n",
       "      <td>2</td>\n",
       "      <td>0</td>\n",
       "      <td>0</td>\n",
       "      <td>0</td>\n",
       "      <td>2</td>\n",
       "      <td>0</td>\n",
       "      <td>0</td>\n",
       "      <td>0</td>\n",
       "      <td>0</td>\n",
       "      <td>2</td>\n",
       "      <td>0</td>\n",
       "      <td>0</td>\n",
       "    </tr>\n",
       "    <tr>\n",
       "      <th>5</th>\n",
       "      <td>4</td>\n",
       "      <td>1</td>\n",
       "      <td>1</td>\n",
       "      <td>0</td>\n",
       "      <td>6</td>\n",
       "      <td>3</td>\n",
       "      <td>6</td>\n",
       "      <td>0</td>\n",
       "      <td>0</td>\n",
       "      <td>1</td>\n",
       "      <td>0</td>\n",
       "      <td>0</td>\n",
       "      <td>1</td>\n",
       "      <td>0</td>\n",
       "      <td>0</td>\n",
       "      <td>2</td>\n",
       "      <td>2</td>\n",
       "      <td>0</td>\n",
       "      <td>0</td>\n",
       "    </tr>\n",
       "    <tr>\n",
       "      <th>...</th>\n",
       "      <td>...</td>\n",
       "      <td>...</td>\n",
       "      <td>...</td>\n",
       "      <td>...</td>\n",
       "      <td>...</td>\n",
       "      <td>...</td>\n",
       "      <td>...</td>\n",
       "      <td>...</td>\n",
       "      <td>...</td>\n",
       "      <td>...</td>\n",
       "      <td>...</td>\n",
       "      <td>...</td>\n",
       "      <td>...</td>\n",
       "      <td>...</td>\n",
       "      <td>...</td>\n",
       "      <td>...</td>\n",
       "      <td>...</td>\n",
       "      <td>...</td>\n",
       "      <td>...</td>\n",
       "    </tr>\n",
       "    <tr>\n",
       "      <th>1884</th>\n",
       "      <td>5</td>\n",
       "      <td>0</td>\n",
       "      <td>0</td>\n",
       "      <td>0</td>\n",
       "      <td>4</td>\n",
       "      <td>5</td>\n",
       "      <td>4</td>\n",
       "      <td>0</td>\n",
       "      <td>0</td>\n",
       "      <td>0</td>\n",
       "      <td>0</td>\n",
       "      <td>0</td>\n",
       "      <td>3</td>\n",
       "      <td>3</td>\n",
       "      <td>0</td>\n",
       "      <td>0</td>\n",
       "      <td>0</td>\n",
       "      <td>0</td>\n",
       "      <td>5</td>\n",
       "    </tr>\n",
       "    <tr>\n",
       "      <th>1885</th>\n",
       "      <td>5</td>\n",
       "      <td>0</td>\n",
       "      <td>0</td>\n",
       "      <td>0</td>\n",
       "      <td>5</td>\n",
       "      <td>3</td>\n",
       "      <td>4</td>\n",
       "      <td>0</td>\n",
       "      <td>0</td>\n",
       "      <td>2</td>\n",
       "      <td>0</td>\n",
       "      <td>0</td>\n",
       "      <td>3</td>\n",
       "      <td>5</td>\n",
       "      <td>4</td>\n",
       "      <td>4</td>\n",
       "      <td>5</td>\n",
       "      <td>0</td>\n",
       "      <td>0</td>\n",
       "    </tr>\n",
       "    <tr>\n",
       "      <th>1886</th>\n",
       "      <td>4</td>\n",
       "      <td>6</td>\n",
       "      <td>5</td>\n",
       "      <td>5</td>\n",
       "      <td>6</td>\n",
       "      <td>6</td>\n",
       "      <td>6</td>\n",
       "      <td>4</td>\n",
       "      <td>0</td>\n",
       "      <td>4</td>\n",
       "      <td>0</td>\n",
       "      <td>2</td>\n",
       "      <td>0</td>\n",
       "      <td>2</td>\n",
       "      <td>0</td>\n",
       "      <td>2</td>\n",
       "      <td>6</td>\n",
       "      <td>0</td>\n",
       "      <td>0</td>\n",
       "    </tr>\n",
       "    <tr>\n",
       "      <th>1887</th>\n",
       "      <td>5</td>\n",
       "      <td>0</td>\n",
       "      <td>0</td>\n",
       "      <td>0</td>\n",
       "      <td>6</td>\n",
       "      <td>6</td>\n",
       "      <td>5</td>\n",
       "      <td>0</td>\n",
       "      <td>0</td>\n",
       "      <td>3</td>\n",
       "      <td>0</td>\n",
       "      <td>0</td>\n",
       "      <td>3</td>\n",
       "      <td>3</td>\n",
       "      <td>0</td>\n",
       "      <td>3</td>\n",
       "      <td>4</td>\n",
       "      <td>0</td>\n",
       "      <td>0</td>\n",
       "    </tr>\n",
       "    <tr>\n",
       "      <th>1888</th>\n",
       "      <td>4</td>\n",
       "      <td>3</td>\n",
       "      <td>0</td>\n",
       "      <td>3</td>\n",
       "      <td>6</td>\n",
       "      <td>3</td>\n",
       "      <td>6</td>\n",
       "      <td>3</td>\n",
       "      <td>0</td>\n",
       "      <td>3</td>\n",
       "      <td>0</td>\n",
       "      <td>0</td>\n",
       "      <td>3</td>\n",
       "      <td>3</td>\n",
       "      <td>0</td>\n",
       "      <td>3</td>\n",
       "      <td>6</td>\n",
       "      <td>0</td>\n",
       "      <td>2</td>\n",
       "    </tr>\n",
       "  </tbody>\n",
       "</table>\n",
       "<p>1885 rows × 19 columns</p>\n",
       "</div>"
      ],
      "text/plain": [
       "      Alchol  Amphet  Amyl  Benzos  Caff  Cannibis  Chocalate  Coke  Crack  \\\n",
       "1          5       2     0       2     6         0          5     0      0   \n",
       "2          5       2     2       0     6         4          6     3      0   \n",
       "3          6       0     0       0     6         3          4     0      0   \n",
       "4          4       0     0       3     5         2          4     2      0   \n",
       "5          4       1     1       0     6         3          6     0      0   \n",
       "...      ...     ...   ...     ...   ...       ...        ...   ...    ...   \n",
       "1884       5       0     0       0     4         5          4     0      0   \n",
       "1885       5       0     0       0     5         3          4     0      0   \n",
       "1886       4       6     5       5     6         6          6     4      0   \n",
       "1887       5       0     0       0     6         6          5     0      0   \n",
       "1888       4       3     0       3     6         3          6     3      0   \n",
       "\n",
       "      Ecstasy  Heroin  Ketamine  Legalh  Lsd  Meth  Mushroom  Nicotine  Semer  \\\n",
       "1           0       0         0       0    0     0         0         2      0   \n",
       "2           4       0         2       0    2     3         0         4      0   \n",
       "3           0       0         0       0    0     0         1         0      0   \n",
       "4           0       0         2       0    0     0         0         2      0   \n",
       "5           1       0         0       1    0     0         2         2      0   \n",
       "...       ...     ...       ...     ...  ...   ...       ...       ...    ...   \n",
       "1884        0       0         0       3    3     0         0         0      0   \n",
       "1885        2       0         0       3    5     4         4         5      0   \n",
       "1886        4       0         2       0    2     0         2         6      0   \n",
       "1887        3       0         0       3    3     0         3         4      0   \n",
       "1888        3       0         0       3    3     0         3         6      0   \n",
       "\n",
       "      VSA  \n",
       "1       0  \n",
       "2       0  \n",
       "3       0  \n",
       "4       0  \n",
       "5       0  \n",
       "...   ...  \n",
       "1884    5  \n",
       "1885    0  \n",
       "1886    0  \n",
       "1887    0  \n",
       "1888    2  \n",
       "\n",
       "[1885 rows x 19 columns]"
      ]
     },
     "execution_count": 6,
     "metadata": {},
     "output_type": "execute_result"
    }
   ],
   "source": [
    "def changetonumber(df,col):\n",
    "    df[col] = df[col].apply(lambda x: x[2] if type(x) == str else x)\n",
    "    df[col] = df[col].astype(int)\n",
    "#     df[col] = df[col].apply(lambda x: 'None' if x == 0 else 'low' if x <= 2 else 'high')\n",
    "    return df\n",
    "for i in DrugNames:\n",
    "    df = changetonumber(df,i)\n",
    "df[DrugNames]"
   ]
  },
  {
   "cell_type": "code",
   "execution_count": 7,
   "metadata": {},
   "outputs": [
    {
     "data": {
      "image/png": "[encoded data removed]",
      "text/plain": [
       "<Figure size 432x288 with 1 Axes>"
      ]
     },
     "metadata": {
      "needs_background": "light"
     },
     "output_type": "display_data"
    },
    {
     "data": {
      "image/png": "[encoded data removed]",
      "text/plain": [
       "<Figure size 432x288 with 1 Axes>"
      ]
     },
     "metadata": {
      "needs_background": "light"
     },
     "output_type": "display_data"
    },
    {
     "data": {
      "image/png": "[encoded data removed]",
      "text/plain": [
       "<Figure size 432x288 with 1 Axes>"
      ]
     },
     "metadata": {
      "needs_background": "light"
     },
     "output_type": "display_data"
    },
    {
     "data": {
      "image/png": "[encoded data removed]",
      "text/plain": [
       "<Figure size 432x288 with 1 Axes>"
      ]
     },
     "metadata": {
      "needs_background": "light"
     },
     "output_type": "display_data"
    },
    {
     "data": {
      "image/png": "[encoded data removed]",
      "text/plain": [
       "<Figure size 432x288 with 1 Axes>"
      ]
     },
     "metadata": {
      "needs_background": "light"
     },
     "output_type": "display_data"
    },
    {
     "data": {
      "image/png": "[encoded data removed]",
      "text/plain": [
       "<Figure size 432x288 with 1 Axes>"
      ]
     },
     "metadata": {
      "needs_background": "light"
     },
     "output_type": "display_data"
    },
    {
     "data": {
      "image/png": "[encoded data removed]",
      "text/plain": [
       "<Figure size 432x288 with 1 Axes>"
      ]
     },
     "metadata": {
      "needs_background": "light"
     },
     "output_type": "display_data"
    },
    {
     "data": {
      "image/png": "[encoded data removed]",
      "text/plain": [
       "<Figure size 432x288 with 1 Axes>"
      ]
     },
     "metadata": {
      "needs_background": "light"
     },
     "output_type": "display_data"
    },
    {
     "data": {
      "image/png": "[encoded data removed]",
      "text/plain": [
       "<Figure size 432x288 with 1 Axes>"
      ]
     },
     "metadata": {
      "needs_background": "light"
     },
     "output_type": "display_data"
    },
    {
     "data": {
      "image/png": "[encoded data removed]",
      "text/plain": [
       "<Figure size 432x288 with 1 Axes>"
      ]
     },
     "metadata": {
      "needs_background": "light"
     },
     "output_type": "display_data"
    },
    {
     "data": {
      "image/png": "[encoded data removed]",
      "text/plain": [
       "<Figure size 432x288 with 1 Axes>"
      ]
     },
     "metadata": {
      "needs_background": "light"
     },
     "output_type": "display_data"
    },
    {
     "data": {
      "image/png": "[encoded data removed]",
      "text/plain": [
       "<Figure size 432x288 with 1 Axes>"
      ]
     },
     "metadata": {
      "needs_background": "light"
     },
     "output_type": "display_data"
    },
    {
     "data": {
      "image/png": "[encoded data removed]",
      "text/plain": [
       "<Figure size 432x288 with 1 Axes>"
      ]
     },
     "metadata": {
      "needs_background": "light"
     },
     "output_type": "display_data"
    },
    {
     "data": {
      "image/png": "[encoded data removed]",
      "text/plain": [
       "<Figure size 432x288 with 1 Axes>"
      ]
     },
     "metadata": {
      "needs_background": "light"
     },
     "output_type": "display_data"
    },
    {
     "data": {
      "image/png": "[encoded data removed]",
      "text/plain": [
       "<Figure size 432x288 with 1 Axes>"
      ]
     },
     "metadata": {
      "needs_background": "light"
     },
     "output_type": "display_data"
    },
    {
     "data": {
      "image/png": "[encoded data removed]",
      "text/plain": [
       "<Figure size 432x288 with 1 Axes>"
      ]
     },
     "metadata": {
      "needs_background": "light"
     },
     "output_type": "display_data"
    },
    {
     "data": {
      "image/png": "[encoded data removed]",
      "text/plain": [
       "<Figure size 432x288 with 1 Axes>"
      ]
     },
     "metadata": {
      "needs_background": "light"
     },
     "output_type": "display_data"
    },
    {
     "data": {
      "image/png": "[encoded data removed]",
      "text/plain": [
       "<Figure size 432x288 with 1 Axes>"
      ]
     },
     "metadata": {
      "needs_background": "light"
     },
     "output_type": "display_data"
    },
    {
     "data": {
      "image/png": "[encoded data removed]",
      "text/plain": [
       "<Figure size 432x288 with 1 Axes>"
      ]
     },
     "metadata": {
      "needs_background": "light"
     },
     "output_type": "display_data"
    },
    {
     "data": {
      "image/png": "[encoded data removed]",
      "text/plain": [
       "<Figure size 432x288 with 1 Axes>"
      ]
     },
     "metadata": {
      "needs_background": "light"
     },
     "output_type": "display_data"
    },
    {
     "data": {
      "image/png": "[encoded data removed]",
      "text/plain": [
       "<Figure size 432x288 with 1 Axes>"
      ]
     },
     "metadata": {
      "needs_background": "light"
     },
     "output_type": "display_data"
    },
    {
     "data": {
      "image/png": "[encoded data removed]",
      "text/plain": [
       "<Figure size 432x288 with 1 Axes>"
      ]
     },
     "metadata": {
      "needs_background": "light"
     },
     "output_type": "display_data"
    },
    {
     "data": {
      "image/png": "[encoded data removed]",
      "text/plain": [
       "<Figure size 432x288 with 1 Axes>"
      ]
     },
     "metadata": {
      "needs_background": "light"
     },
     "output_type": "display_data"
    },
    {
     "data": {
      "image/png": "[encoded data removed]",
      "text/plain": [
       "<Figure size 432x288 with 1 Axes>"
      ]
     },
     "metadata": {
      "needs_background": "light"
     },
     "output_type": "display_data"
    },
    {
     "data": {
      "image/png": "[encoded data removed]",
      "text/plain": [
       "<Figure size 432x288 with 1 Axes>"
      ]
     },
     "metadata": {
      "needs_background": "light"
     },
     "output_type": "display_data"
    },
    {
     "data": {
      "image/png": "[encoded data removed]",
      "text/plain": [
       "<Figure size 432x288 with 1 Axes>"
      ]
     },
     "metadata": {
      "needs_background": "light"
     },
     "output_type": "display_data"
    },
    {
     "data": {
      "image/png": "[encoded data removed]",
      "text/plain": [
       "<Figure size 432x288 with 1 Axes>"
      ]
     },
     "metadata": {
      "needs_background": "light"
     },
     "output_type": "display_data"
    },
    {
     "data": {
      "image/png": "[encoded data removed]",
      "text/plain": [
       "<Figure size 432x288 with 1 Axes>"
      ]
     },
     "metadata": {
      "needs_background": "light"
     },
     "output_type": "display_data"
    },
    {
     "data": {
      "image/png": "[encoded data removed]",
      "text/plain": [
       "<Figure size 432x288 with 1 Axes>"
      ]
     },
     "metadata": {
      "needs_background": "light"
     },
     "output_type": "display_data"
    },
    {
     "data": {
      "image/png": "[encoded data removed]",
      "text/plain": [
       "<Figure size 432x288 with 1 Axes>"
      ]
     },
     "metadata": {
      "needs_background": "light"
     },
     "output_type": "display_data"
    },
    {
     "data": {
      "image/png": "[encoded data removed]",
      "text/plain": [
       "<Figure size 432x288 with 1 Axes>"
      ]
     },
     "metadata": {
      "needs_background": "light"
     },
     "output_type": "display_data"
    }
   ],
   "source": [
    "for Column in Column_names:\n",
    "    df[Column].hist(bins=40)\n",
    "    plt.title(Column)\n",
    "    plt.show()"
   ]
  },
  {
   "cell_type": "code",
   "execution_count": 8,
   "metadata": {},
   "outputs": [
    {
     "data": {
      "text/html": [
       "<div>\n",
       "<style scoped>\n",
       "    .dataframe tbody tr th:only-of-type {\n",
       "        vertical-align: middle;\n",
       "    }\n",
       "\n",
       "    .dataframe tbody tr th {\n",
       "        vertical-align: top;\n",
       "    }\n",
       "\n",
       "    .dataframe thead th {\n",
       "        text-align: right;\n",
       "    }\n",
       "</style>\n",
       "<table border=\"1\" class=\"dataframe\">\n",
       "  <thead>\n",
       "    <tr style=\"text-align: right;\">\n",
       "      <th></th>\n",
       "      <th>Age</th>\n",
       "      <th>Gender</th>\n",
       "      <th>Education</th>\n",
       "      <th>Country</th>\n",
       "      <th>Ethnicity</th>\n",
       "      <th>Nscore</th>\n",
       "      <th>Escore</th>\n",
       "      <th>Oscore</th>\n",
       "      <th>Ascore</th>\n",
       "      <th>Cscore</th>\n",
       "      <th>...</th>\n",
       "      <th>Ecstasy</th>\n",
       "      <th>Heroin</th>\n",
       "      <th>Ketamine</th>\n",
       "      <th>Legalh</th>\n",
       "      <th>Lsd</th>\n",
       "      <th>Meth</th>\n",
       "      <th>Mushroom</th>\n",
       "      <th>Nicotine</th>\n",
       "      <th>Semer</th>\n",
       "      <th>VSA</th>\n",
       "    </tr>\n",
       "  </thead>\n",
       "  <tbody>\n",
       "    <tr>\n",
       "      <th>1</th>\n",
       "      <td>0.49788</td>\n",
       "      <td>0.48246</td>\n",
       "      <td>-0.05921</td>\n",
       "      <td>0.96082</td>\n",
       "      <td>0.12600</td>\n",
       "      <td>0.31287</td>\n",
       "      <td>-0.57545</td>\n",
       "      <td>-0.58331</td>\n",
       "      <td>-0.91699</td>\n",
       "      <td>-0.00665</td>\n",
       "      <td>...</td>\n",
       "      <td>0</td>\n",
       "      <td>0</td>\n",
       "      <td>0</td>\n",
       "      <td>0</td>\n",
       "      <td>0</td>\n",
       "      <td>0</td>\n",
       "      <td>0</td>\n",
       "      <td>2</td>\n",
       "      <td>0</td>\n",
       "      <td>0</td>\n",
       "    </tr>\n",
       "    <tr>\n",
       "      <th>2</th>\n",
       "      <td>-0.07854</td>\n",
       "      <td>-0.48246</td>\n",
       "      <td>1.98437</td>\n",
       "      <td>0.96082</td>\n",
       "      <td>-0.31685</td>\n",
       "      <td>-0.67825</td>\n",
       "      <td>1.93886</td>\n",
       "      <td>1.43533</td>\n",
       "      <td>0.76096</td>\n",
       "      <td>-0.14277</td>\n",
       "      <td>...</td>\n",
       "      <td>4</td>\n",
       "      <td>0</td>\n",
       "      <td>2</td>\n",
       "      <td>0</td>\n",
       "      <td>2</td>\n",
       "      <td>3</td>\n",
       "      <td>0</td>\n",
       "      <td>4</td>\n",
       "      <td>0</td>\n",
       "      <td>0</td>\n",
       "    </tr>\n",
       "    <tr>\n",
       "      <th>3</th>\n",
       "      <td>0.49788</td>\n",
       "      <td>-0.48246</td>\n",
       "      <td>-0.05921</td>\n",
       "      <td>0.96082</td>\n",
       "      <td>-0.31685</td>\n",
       "      <td>-0.46725</td>\n",
       "      <td>0.80523</td>\n",
       "      <td>-0.84732</td>\n",
       "      <td>-1.62090</td>\n",
       "      <td>-1.01450</td>\n",
       "      <td>...</td>\n",
       "      <td>0</td>\n",
       "      <td>0</td>\n",
       "      <td>0</td>\n",
       "      <td>0</td>\n",
       "      <td>0</td>\n",
       "      <td>0</td>\n",
       "      <td>1</td>\n",
       "      <td>0</td>\n",
       "      <td>0</td>\n",
       "      <td>0</td>\n",
       "    </tr>\n",
       "    <tr>\n",
       "      <th>4</th>\n",
       "      <td>-0.95197</td>\n",
       "      <td>0.48246</td>\n",
       "      <td>1.16365</td>\n",
       "      <td>0.96082</td>\n",
       "      <td>-0.31685</td>\n",
       "      <td>-0.14882</td>\n",
       "      <td>-0.80615</td>\n",
       "      <td>-0.01928</td>\n",
       "      <td>0.59042</td>\n",
       "      <td>0.58489</td>\n",
       "      <td>...</td>\n",
       "      <td>0</td>\n",
       "      <td>0</td>\n",
       "      <td>2</td>\n",
       "      <td>0</td>\n",
       "      <td>0</td>\n",
       "      <td>0</td>\n",
       "      <td>0</td>\n",
       "      <td>2</td>\n",
       "      <td>0</td>\n",
       "      <td>0</td>\n",
       "    </tr>\n",
       "    <tr>\n",
       "      <th>5</th>\n",
       "      <td>0.49788</td>\n",
       "      <td>0.48246</td>\n",
       "      <td>1.98437</td>\n",
       "      <td>0.96082</td>\n",
       "      <td>-0.31685</td>\n",
       "      <td>0.73545</td>\n",
       "      <td>-1.63340</td>\n",
       "      <td>-0.45174</td>\n",
       "      <td>-0.30172</td>\n",
       "      <td>1.30612</td>\n",
       "      <td>...</td>\n",
       "      <td>1</td>\n",
       "      <td>0</td>\n",
       "      <td>0</td>\n",
       "      <td>1</td>\n",
       "      <td>0</td>\n",
       "      <td>0</td>\n",
       "      <td>2</td>\n",
       "      <td>2</td>\n",
       "      <td>0</td>\n",
       "      <td>0</td>\n",
       "    </tr>\n",
       "    <tr>\n",
       "      <th>...</th>\n",
       "      <td>...</td>\n",
       "      <td>...</td>\n",
       "      <td>...</td>\n",
       "      <td>...</td>\n",
       "      <td>...</td>\n",
       "      <td>...</td>\n",
       "      <td>...</td>\n",
       "      <td>...</td>\n",
       "      <td>...</td>\n",
       "      <td>...</td>\n",
       "      <td>...</td>\n",
       "      <td>...</td>\n",
       "      <td>...</td>\n",
       "      <td>...</td>\n",
       "      <td>...</td>\n",
       "      <td>...</td>\n",
       "      <td>...</td>\n",
       "      <td>...</td>\n",
       "      <td>...</td>\n",
       "      <td>...</td>\n",
       "      <td>...</td>\n",
       "    </tr>\n",
       "    <tr>\n",
       "      <th>1884</th>\n",
       "      <td>-0.95197</td>\n",
       "      <td>0.48246</td>\n",
       "      <td>-0.61113</td>\n",
       "      <td>-0.57009</td>\n",
       "      <td>-0.31685</td>\n",
       "      <td>-1.19430</td>\n",
       "      <td>1.74091</td>\n",
       "      <td>1.88511</td>\n",
       "      <td>0.76096</td>\n",
       "      <td>-1.13788</td>\n",
       "      <td>...</td>\n",
       "      <td>0</td>\n",
       "      <td>0</td>\n",
       "      <td>0</td>\n",
       "      <td>3</td>\n",
       "      <td>3</td>\n",
       "      <td>0</td>\n",
       "      <td>0</td>\n",
       "      <td>0</td>\n",
       "      <td>0</td>\n",
       "      <td>5</td>\n",
       "    </tr>\n",
       "    <tr>\n",
       "      <th>1885</th>\n",
       "      <td>-0.95197</td>\n",
       "      <td>-0.48246</td>\n",
       "      <td>-0.61113</td>\n",
       "      <td>-0.57009</td>\n",
       "      <td>-0.31685</td>\n",
       "      <td>-0.24649</td>\n",
       "      <td>1.74091</td>\n",
       "      <td>0.58331</td>\n",
       "      <td>0.76096</td>\n",
       "      <td>-1.51840</td>\n",
       "      <td>...</td>\n",
       "      <td>2</td>\n",
       "      <td>0</td>\n",
       "      <td>0</td>\n",
       "      <td>3</td>\n",
       "      <td>5</td>\n",
       "      <td>4</td>\n",
       "      <td>4</td>\n",
       "      <td>5</td>\n",
       "      <td>0</td>\n",
       "      <td>0</td>\n",
       "    </tr>\n",
       "    <tr>\n",
       "      <th>1886</th>\n",
       "      <td>-0.07854</td>\n",
       "      <td>0.48246</td>\n",
       "      <td>0.45468</td>\n",
       "      <td>-0.57009</td>\n",
       "      <td>-0.31685</td>\n",
       "      <td>1.13281</td>\n",
       "      <td>-1.37639</td>\n",
       "      <td>-1.27553</td>\n",
       "      <td>-1.77200</td>\n",
       "      <td>-1.38502</td>\n",
       "      <td>...</td>\n",
       "      <td>4</td>\n",
       "      <td>0</td>\n",
       "      <td>2</td>\n",
       "      <td>0</td>\n",
       "      <td>2</td>\n",
       "      <td>0</td>\n",
       "      <td>2</td>\n",
       "      <td>6</td>\n",
       "      <td>0</td>\n",
       "      <td>0</td>\n",
       "    </tr>\n",
       "    <tr>\n",
       "      <th>1887</th>\n",
       "      <td>-0.95197</td>\n",
       "      <td>0.48246</td>\n",
       "      <td>-0.61113</td>\n",
       "      <td>-0.57009</td>\n",
       "      <td>-0.31685</td>\n",
       "      <td>0.91093</td>\n",
       "      <td>-1.92173</td>\n",
       "      <td>0.29338</td>\n",
       "      <td>-1.62090</td>\n",
       "      <td>-2.57309</td>\n",
       "      <td>...</td>\n",
       "      <td>3</td>\n",
       "      <td>0</td>\n",
       "      <td>0</td>\n",
       "      <td>3</td>\n",
       "      <td>3</td>\n",
       "      <td>0</td>\n",
       "      <td>3</td>\n",
       "      <td>4</td>\n",
       "      <td>0</td>\n",
       "      <td>0</td>\n",
       "    </tr>\n",
       "    <tr>\n",
       "      <th>1888</th>\n",
       "      <td>-0.95197</td>\n",
       "      <td>-0.48246</td>\n",
       "      <td>-0.61113</td>\n",
       "      <td>0.21128</td>\n",
       "      <td>-0.31685</td>\n",
       "      <td>-0.46725</td>\n",
       "      <td>2.12700</td>\n",
       "      <td>1.65653</td>\n",
       "      <td>1.11406</td>\n",
       "      <td>0.41594</td>\n",
       "      <td>...</td>\n",
       "      <td>3</td>\n",
       "      <td>0</td>\n",
       "      <td>0</td>\n",
       "      <td>3</td>\n",
       "      <td>3</td>\n",
       "      <td>0</td>\n",
       "      <td>3</td>\n",
       "      <td>6</td>\n",
       "      <td>0</td>\n",
       "      <td>2</td>\n",
       "    </tr>\n",
       "  </tbody>\n",
       "</table>\n",
       "<p>1885 rows × 31 columns</p>\n",
       "</div>"
      ],
      "text/plain": [
       "          Age   Gender  Education  Country  Ethnicity   Nscore   Escore  \\\n",
       "1     0.49788  0.48246   -0.05921  0.96082    0.12600  0.31287 -0.57545   \n",
       "2    -0.07854 -0.48246    1.98437  0.96082   -0.31685 -0.67825  1.93886   \n",
       "3     0.49788 -0.48246   -0.05921  0.96082   -0.31685 -0.46725  0.80523   \n",
       "4    -0.95197  0.48246    1.16365  0.96082   -0.31685 -0.14882 -0.80615   \n",
       "5     0.49788  0.48246    1.98437  0.96082   -0.31685  0.73545 -1.63340   \n",
       "...       ...      ...        ...      ...        ...      ...      ...   \n",
       "1884 -0.95197  0.48246   -0.61113 -0.57009   -0.31685 -1.19430  1.74091   \n",
       "1885 -0.95197 -0.48246   -0.61113 -0.57009   -0.31685 -0.24649  1.74091   \n",
       "1886 -0.07854  0.48246    0.45468 -0.57009   -0.31685  1.13281 -1.37639   \n",
       "1887 -0.95197  0.48246   -0.61113 -0.57009   -0.31685  0.91093 -1.92173   \n",
       "1888 -0.95197 -0.48246   -0.61113  0.21128   -0.31685 -0.46725  2.12700   \n",
       "\n",
       "       Oscore   Ascore   Cscore  ...  Ecstasy  Heroin  Ketamine  Legalh  Lsd  \\\n",
       "1    -0.58331 -0.91699 -0.00665  ...        0       0         0       0    0   \n",
       "2     1.43533  0.76096 -0.14277  ...        4       0         2       0    2   \n",
       "3    -0.84732 -1.62090 -1.01450  ...        0       0         0       0    0   \n",
       "4    -0.01928  0.59042  0.58489  ...        0       0         2       0    0   \n",
       "5    -0.45174 -0.30172  1.30612  ...        1       0         0       1    0   \n",
       "...       ...      ...      ...  ...      ...     ...       ...     ...  ...   \n",
       "1884  1.88511  0.76096 -1.13788  ...        0       0         0       3    3   \n",
       "1885  0.58331  0.76096 -1.51840  ...        2       0         0       3    5   \n",
       "1886 -1.27553 -1.77200 -1.38502  ...        4       0         2       0    2   \n",
       "1887  0.29338 -1.62090 -2.57309  ...        3       0         0       3    3   \n",
       "1888  1.65653  1.11406  0.41594  ...        3       0         0       3    3   \n",
       "\n",
       "      Meth  Mushroom  Nicotine  Semer  VSA  \n",
       "1        0         0         2      0    0  \n",
       "2        3         0         4      0    0  \n",
       "3        0         1         0      0    0  \n",
       "4        0         0         2      0    0  \n",
       "5        0         2         2      0    0  \n",
       "...    ...       ...       ...    ...  ...  \n",
       "1884     0         0         0      0    5  \n",
       "1885     4         4         5      0    0  \n",
       "1886     0         2         6      0    0  \n",
       "1887     0         3         4      0    0  \n",
       "1888     0         3         6      0    2  \n",
       "\n",
       "[1885 rows x 31 columns]"
      ]
     },
     "execution_count": 8,
     "metadata": {},
     "output_type": "execute_result"
    }
   ],
   "source": [
    "df"
   ]
  },
  {
   "cell_type": "markdown",
   "metadata": {},
   "source": [
    "### Understanding Our Problem"
   ]
  },
  {
   "cell_type": "markdown",
   "metadata": {},
   "source": [
    "### Re-engineering our data to fit our goal"
   ]
  },
  {
   "cell_type": "code",
   "execution_count": 19,
   "metadata": {},
   "outputs": [
    {
     "ename": "SyntaxError",
     "evalue": "invalid syntax (<ipython-input-19-f29795211231>, line 70)",
     "output_type": "error",
     "traceback": [
      "\u001b[1;36m  File \u001b[1;32m\"<ipython-input-19-f29795211231>\"\u001b[1;36m, line \u001b[1;32m70\u001b[0m\n\u001b[1;33m    stimdf[]\u001b[0m\n\u001b[1;37m           ^\u001b[0m\n\u001b[1;31mSyntaxError\u001b[0m\u001b[1;31m:\u001b[0m invalid syntax\n"
     ]
    }
   ],
   "source": [
    "# educases = [df.Education < -1.85197, df.Education == -1.73790,df.Education < -1.33719\n",
    "#             ,df.Education < -1.12751,df.Education < -0.51113,df.Education < -0.04921\n",
    "#             ,df.Education < 0.55468,df.Education < 1.2365,df.Education < 2.98437]\n",
    "# educhoices = ['Left school before 16 years'\n",
    "#               ,'Left school at 16 years' \n",
    "#               ,'Left school at 17 years'\n",
    "#               ,'Left school at 18 years '\n",
    "#               ,'Some college or university, no certificate or degree'\n",
    "#               ,'Professional certificate/diploma'\n",
    "#               ,'University degree'\n",
    "#               ,'Masters degree'\n",
    "#               ,'Doctorate degree']\n",
    "# df.Education =np.select(educases,educhoices)\n",
    "agecases = [df.Age < -0.85197, df.Age == -0.07854,df.Age < 0.89788\n",
    "            ,df.Age == 1.09449,df.Age == 1.82213,df.Age == 2.59171]\n",
    "agechoices = [\"18-24\",\"25-34\",\"35-44\",\"45-54\",\"55-64\",\"65+\"]\n",
    "df.Age = np.select(agecases,agechoices)\n",
    "df['Gender'] = df['Gender'].apply(lambda x: 'Female' if x >0 else 'Male')\n",
    "df = df.drop(['Country','Ethnicity'], axis = 1)\n",
    "df.Nscore.replace(to_replace=sorted(list(df.Nscore.unique())),value=list(range(12,61))\n",
    "                  ,inplace = True)\n",
    "df.Nscore.astype(int)\n",
    "\n",
    "Escorenumlist = [16, 18, 19\n",
    "           , 20, 21, 22, 23, 24, 25, 26, 27\n",
    "           , 28, 29, 30, 31, 32, 33, 34, 35\n",
    "           , 36, 37, 38, 39, 40, 41, 42, 43\n",
    "           , 44, 45, 46, 47, 48, 49, 50, 51\n",
    "           , 52, 53, 54, 55, 56, 58, 59]\n",
    "df.Escore.replace(to_replace=sorted(list(df.Escore.unique())),value=Escorenumlist\n",
    "                  ,inplace = True)\n",
    "df.Escore.astype(int)\n",
    "\n",
    "Oscorenumlist = [ 24, 26,\n",
    "           28, 29, 30, 31, 32, 33, 34, 35\n",
    "           , 36, 37, 38, 39, 40, 41, 42, 43\n",
    "           , 44, 45, 46, 47, 48, 49, 50, 51\n",
    "           , 52, 53, 54, 55, 56,57, 58, 59,60]\n",
    "df.Oscore.replace(to_replace=sorted(list(df.Oscore.unique())),value=Oscorenumlist\n",
    "                  ,inplace = True)\n",
    "df.Oscore.astype(int)\n",
    "\n",
    "Ascorenumlist = [ 12,16,18,23, 24,25, 26,27,\n",
    "           28, 29, 30, 31, 32, 33, 34, 35\n",
    "           , 36, 37, 38, 39, 40, 41, 42, 43\n",
    "           , 44, 45, 46, 47, 48, 49, 50, 51\n",
    "           , 52, 53, 54, 55, 56,57, 58, 59,60]\n",
    "df.Ascore.replace(to_replace=sorted(list(df.Ascore.unique())),value=Ascorenumlist\n",
    "                  ,inplace = True)\n",
    "df.Ascore.astype(int)\n",
    "\n",
    "Cscorenumlist = [17,19,20,21,22,23, 24,25, 26,27,\n",
    "           28, 29, 30, 31, 32, 33, 34, 35\n",
    "           , 36, 37, 38, 39, 40, 41, 42, 43\n",
    "           , 44, 45, 46, 47, 48, 49, 50, 51\n",
    "           , 52, 53, 54, 55, 56,57, 59]\n",
    "df.Cscore.replace(to_replace=sorted(list(df.Cscore.unique())),value=Cscorenumlist\n",
    "                  ,inplace = True)\n",
    "df.Cscore.astype(int)\n",
    "\n",
    "df.Impulsive.replace(to_replace = sorted(list(df.Impulsive.unique())),value = list(range(1,11))\n",
    "                    ,inplace = True)\n",
    "df.SensationSeeking.replace(to_replace = sorted(list(df.SensationSeeking.unique())),value = list(range(1,12))\n",
    "                    ,inplace = True)\n",
    "#split up potential dataframes by target for ease of use for me later\n",
    "stimulant_columns = ['Amphet','Coke','Crack','Ketamine']\n",
    "stimdf = df.drop(DrugNames,axis = 1)\n",
    "stimdf['stim'] = (df.Amphet**2  + df.Coke**2 + df.Crack**2 + df.Ketamine**2)/4\n",
    "#stimdf['stim'] = stimdf['stim'].apply(lambda x: 'None' if x == 0 else 'low' if x <= 2 else 'high')\n"
   ]
  },
  {
   "cell_type": "code",
   "execution_count": 90,
   "metadata": {},
   "outputs": [
    {
     "ename": "SyntaxError",
     "evalue": "invalid syntax (<ipython-input-90-5d48728d8ead>, line 1)",
     "output_type": "error",
     "traceback": [
      "\u001b[1;36m  File \u001b[1;32m\"<ipython-input-90-5d48728d8ead>\"\u001b[1;36m, line \u001b[1;32m1\u001b[0m\n\u001b[1;33m    stimdf['stim'] = 0 if (((1+df.Amphet) * (1+df.Coke) * (1+df.Crack) * (1+df.Ketamine))**(1/4)) ==1 else 1 if (((1+df.Amphet) * (1+df.Coke) * (1+df.Crack) * (1+df.Ketamine)) <3 else 2\u001b[0m\n\u001b[1;37m                                                                                                                                                                                      ^\u001b[0m\n\u001b[1;31mSyntaxError\u001b[0m\u001b[1;31m:\u001b[0m invalid syntax\n"
     ]
    }
   ],
   "source": [
    "stimdf['stim'] = (((1+df.Amphet) * (1+df.Coke) * (1+df.Crack) * (1+df.Ketamine))**(1/4))\n",
    "stimdf['stim']"
   ]
  },
  {
   "cell_type": "code",
   "execution_count": 91,
   "metadata": {},
   "outputs": [
    {
     "data": {
      "text/plain": [
       "<AxesSubplot:>"
      ]
     },
     "execution_count": 91,
     "metadata": {},
     "output_type": "execute_result"
    },
    {
     "data": {
      "image/png": "[encoded data removed]",
      "text/plain": [
       "<Figure size 432x288 with 1 Axes>"
      ]
     },
     "metadata": {
      "needs_background": "light"
     },
     "output_type": "display_data"
    }
   ],
   "source": [
    "stimdf['stim'].hist(bins = 25)"
   ]
  },
  {
   "cell_type": "code",
   "execution_count": 82,
   "metadata": {},
   "outputs": [
    {
     "data": {
      "text/plain": [
       "[1.0,\n",
       " 1.189207115002721,\n",
       " 1.3160740129524924,\n",
       " 1.4142135623730951,\n",
       " 1.4953487812212205,\n",
       " 1.5650845800732873,\n",
       " 1.6265765616977856,\n",
       " 1.681792830507429,\n",
       " 1.7320508075688772,\n",
       " 1.7782794100389228,\n",
       " 1.8612097182041991,\n",
       " 1.9343364202676694,\n",
       " 1.9679896712654303,\n",
       " 2.0,\n",
       " 2.0597671439071177,\n",
       " 2.114742526881128,\n",
       " 2.1406951429280725,\n",
       " 2.213363839400643,\n",
       " 2.23606797749979,\n",
       " 2.2795070569547775,\n",
       " 2.300326633791206,\n",
       " 2.340347319320716,\n",
       " 2.378414230005442,\n",
       " 2.4322992790977875,\n",
       " 2.449489742783178,\n",
       " 2.514866859365871,\n",
       " 2.5457298950218306,\n",
       " 2.5900200641113513,\n",
       " 2.6321480259049848,\n",
       " 2.6457513110645907,\n",
       " 2.7108060108295344,\n",
       " 2.7355647997347607,\n",
       " 2.7831576837137404,\n",
       " 2.8173132472612576,\n",
       " 2.8284271247461903,\n",
       " 2.892507608519078,\n",
       " 2.9129506302439405,\n",
       " 2.942830956382712,\n",
       " 2.990697562442441,\n",
       " 3.0,\n",
       " 3.027400104035091,\n",
       " 3.080070288241023,\n",
       " 3.1301691601465746,\n",
       " 3.1622776601683795,\n",
       " 3.2010858729436795,\n",
       " 3.2237097954706257,\n",
       " 3.2531531233955713,\n",
       " 3.309750919646873,\n",
       " 3.34370152488211,\n",
       " 3.350368958834508,\n",
       " 3.408658099402498,\n",
       " 3.439790628250393,\n",
       " 3.4641016151377544,\n",
       " 3.4996355115805833,\n",
       " 3.5676213450081633,\n",
       " 3.6002057436785084,\n",
       " 3.63713576256413,\n",
       " 3.6628415014847064,\n",
       " 3.7077927510673407,\n",
       " 3.7224194364083982,\n",
       " 3.80675409583932,\n",
       " 3.833658625477635,\n",
       " 3.9359793425308607,\n",
       " 3.9842826037302554,\n",
       " 4.0,\n",
       " 4.053600464421103,\n",
       " 4.119534287814235,\n",
       " 4.161791450287817,\n",
       " 4.229485053762256,\n",
       " 4.281390285856145,\n",
       " 4.355877174692862,\n",
       " 4.400558683966967,\n",
       " 4.426727678801286,\n",
       " 4.52701905583787,\n",
       " 4.600653267582412,\n",
       " 4.605779351596907,\n",
       " 4.680694638641432,\n",
       " 4.786739858690798,\n",
       " 4.864598558195575,\n",
       " 4.924298052104917,\n",
       " 5.009970139234591,\n",
       " 5.091459790043661,\n",
       " 5.59508281305979,\n",
       " 5.692425097622216,\n",
       " 5.957892135528948,\n",
       " 6.23573926575247]"
      ]
     },
     "execution_count": 82,
     "metadata": {},
     "output_type": "execute_result"
    }
   ],
   "source": [
    "sorted(stimdf['stim'].unique())"
   ]
  },
  {
   "cell_type": "code",
   "execution_count": 83,
   "metadata": {},
   "outputs": [
    {
     "data": {
      "text/html": [
       "<div>\n",
       "<style scoped>\n",
       "    .dataframe tbody tr th:only-of-type {\n",
       "        vertical-align: middle;\n",
       "    }\n",
       "\n",
       "    .dataframe tbody tr th {\n",
       "        vertical-align: top;\n",
       "    }\n",
       "\n",
       "    .dataframe thead th {\n",
       "        text-align: right;\n",
       "    }\n",
       "</style>\n",
       "<table border=\"1\" class=\"dataframe\">\n",
       "  <thead>\n",
       "    <tr style=\"text-align: right;\">\n",
       "      <th></th>\n",
       "      <th>Education</th>\n",
       "      <th>Nscore</th>\n",
       "      <th>Escore</th>\n",
       "      <th>Oscore</th>\n",
       "      <th>Ascore</th>\n",
       "      <th>Cscore</th>\n",
       "      <th>Impulsive</th>\n",
       "      <th>SensationSeeking</th>\n",
       "      <th>stim</th>\n",
       "    </tr>\n",
       "  </thead>\n",
       "  <tbody>\n",
       "    <tr>\n",
       "      <th>Education</th>\n",
       "      <td>1.000000</td>\n",
       "      <td>-0.100280</td>\n",
       "      <td>0.117865</td>\n",
       "      <td>0.064016</td>\n",
       "      <td>0.090422</td>\n",
       "      <td>0.240210</td>\n",
       "      <td>-0.139889</td>\n",
       "      <td>-0.135224</td>\n",
       "      <td>-0.149927</td>\n",
       "    </tr>\n",
       "    <tr>\n",
       "      <th>Nscore</th>\n",
       "      <td>-0.100280</td>\n",
       "      <td>1.000000</td>\n",
       "      <td>-0.432967</td>\n",
       "      <td>0.016626</td>\n",
       "      <td>-0.215145</td>\n",
       "      <td>-0.398679</td>\n",
       "      <td>0.178464</td>\n",
       "      <td>0.081316</td>\n",
       "      <td>0.146497</td>\n",
       "    </tr>\n",
       "    <tr>\n",
       "      <th>Escore</th>\n",
       "      <td>0.117865</td>\n",
       "      <td>-0.432967</td>\n",
       "      <td>1.000000</td>\n",
       "      <td>0.236066</td>\n",
       "      <td>0.159065</td>\n",
       "      <td>0.318780</td>\n",
       "      <td>0.108870</td>\n",
       "      <td>0.202318</td>\n",
       "      <td>-0.014704</td>\n",
       "    </tr>\n",
       "    <tr>\n",
       "      <th>Oscore</th>\n",
       "      <td>0.064016</td>\n",
       "      <td>0.016626</td>\n",
       "      <td>0.236066</td>\n",
       "      <td>1.000000</td>\n",
       "      <td>0.032805</td>\n",
       "      <td>-0.059996</td>\n",
       "      <td>0.265486</td>\n",
       "      <td>0.421004</td>\n",
       "      <td>0.226930</td>\n",
       "    </tr>\n",
       "    <tr>\n",
       "      <th>Ascore</th>\n",
       "      <td>0.090422</td>\n",
       "      <td>-0.215145</td>\n",
       "      <td>0.159065</td>\n",
       "      <td>0.032805</td>\n",
       "      <td>1.000000</td>\n",
       "      <td>0.249609</td>\n",
       "      <td>-0.236371</td>\n",
       "      <td>-0.215851</td>\n",
       "      <td>-0.194618</td>\n",
       "    </tr>\n",
       "    <tr>\n",
       "      <th>Cscore</th>\n",
       "      <td>0.240210</td>\n",
       "      <td>-0.398679</td>\n",
       "      <td>0.318780</td>\n",
       "      <td>-0.059996</td>\n",
       "      <td>0.249609</td>\n",
       "      <td>1.000000</td>\n",
       "      <td>-0.353310</td>\n",
       "      <td>-0.235681</td>\n",
       "      <td>-0.230180</td>\n",
       "    </tr>\n",
       "    <tr>\n",
       "      <th>Impulsive</th>\n",
       "      <td>-0.139889</td>\n",
       "      <td>0.178464</td>\n",
       "      <td>0.108870</td>\n",
       "      <td>0.265486</td>\n",
       "      <td>-0.236371</td>\n",
       "      <td>-0.353310</td>\n",
       "      <td>1.000000</td>\n",
       "      <td>0.619813</td>\n",
       "      <td>0.299047</td>\n",
       "    </tr>\n",
       "    <tr>\n",
       "      <th>SensationSeeking</th>\n",
       "      <td>-0.135224</td>\n",
       "      <td>0.081316</td>\n",
       "      <td>0.202318</td>\n",
       "      <td>0.421004</td>\n",
       "      <td>-0.215851</td>\n",
       "      <td>-0.235681</td>\n",
       "      <td>0.619813</td>\n",
       "      <td>1.000000</td>\n",
       "      <td>0.364200</td>\n",
       "    </tr>\n",
       "    <tr>\n",
       "      <th>stim</th>\n",
       "      <td>-0.149927</td>\n",
       "      <td>0.146497</td>\n",
       "      <td>-0.014704</td>\n",
       "      <td>0.226930</td>\n",
       "      <td>-0.194618</td>\n",
       "      <td>-0.230180</td>\n",
       "      <td>0.299047</td>\n",
       "      <td>0.364200</td>\n",
       "      <td>1.000000</td>\n",
       "    </tr>\n",
       "  </tbody>\n",
       "</table>\n",
       "</div>"
      ],
      "text/plain": [
       "                  Education    Nscore    Escore    Oscore    Ascore    Cscore  \\\n",
       "Education          1.000000 -0.100280  0.117865  0.064016  0.090422  0.240210   \n",
       "Nscore            -0.100280  1.000000 -0.432967  0.016626 -0.215145 -0.398679   \n",
       "Escore             0.117865 -0.432967  1.000000  0.236066  0.159065  0.318780   \n",
       "Oscore             0.064016  0.016626  0.236066  1.000000  0.032805 -0.059996   \n",
       "Ascore             0.090422 -0.215145  0.159065  0.032805  1.000000  0.249609   \n",
       "Cscore             0.240210 -0.398679  0.318780 -0.059996  0.249609  1.000000   \n",
       "Impulsive         -0.139889  0.178464  0.108870  0.265486 -0.236371 -0.353310   \n",
       "SensationSeeking  -0.135224  0.081316  0.202318  0.421004 -0.215851 -0.235681   \n",
       "stim              -0.149927  0.146497 -0.014704  0.226930 -0.194618 -0.230180   \n",
       "\n",
       "                  Impulsive  SensationSeeking      stim  \n",
       "Education         -0.139889         -0.135224 -0.149927  \n",
       "Nscore             0.178464          0.081316  0.146497  \n",
       "Escore             0.108870          0.202318 -0.014704  \n",
       "Oscore             0.265486          0.421004  0.226930  \n",
       "Ascore            -0.236371         -0.215851 -0.194618  \n",
       "Cscore            -0.353310         -0.235681 -0.230180  \n",
       "Impulsive          1.000000          0.619813  0.299047  \n",
       "SensationSeeking   0.619813          1.000000  0.364200  \n",
       "stim               0.299047          0.364200  1.000000  "
      ]
     },
     "execution_count": 83,
     "metadata": {},
     "output_type": "execute_result"
    }
   ],
   "source": [
    "stimdf.corr()"
   ]
  },
  {
   "cell_type": "code",
   "execution_count": 11,
   "metadata": {},
   "outputs": [],
   "source": [
    "educases = [df.Education < -1.85197, df.Education == -1.73790,df.Education < -1.33719,df.Education < -1.12751,df.Education < -0.51113,df.Education < -0.04921,df.Education < 0.55468,df.Education < 1.2365,df.Education < 2.98437]\n",
    "educhoices = ['Left school before 16 years'\n",
    "              ,'Left school at 16 years' \n",
    "              ,'Left school at 17 years'\n",
    "              ,'Left school at 18 years '\n",
    "              ,'Some college or university, no certificate or degree'\n",
    "              ,'Professional certificate/diploma'\n",
    "              ,'University degree'\n",
    "              ,'Masters degree'\n",
    "              ,'Doctorate degree']\n",
    "df.Education =np.select(educases,educhoices)"
   ]
  },
  {
   "cell_type": "markdown",
   "metadata": {},
   "source": [
    "## Modeling"
   ]
  },
  {
   "cell_type": "markdown",
   "metadata": {},
   "source": [
    "### Choosing Model"
   ]
  },
  {
   "cell_type": "code",
   "execution_count": 84,
   "metadata": {},
   "outputs": [
    {
     "data": {
      "text/plain": [
       "Index(['Age', 'Gender', 'Education', 'Nscore', 'Escore', 'Oscore', 'Ascore',\n",
       "       'Cscore', 'Impulsive', 'SensationSeeking', 'stim'],\n",
       "      dtype='object')"
      ]
     },
     "execution_count": 84,
     "metadata": {},
     "output_type": "execute_result"
    }
   ],
   "source": [
    "stimdf.columns"
   ]
  },
  {
   "cell_type": "code",
   "execution_count": 92,
   "metadata": {},
   "outputs": [
    {
     "data": {
      "text/plain": [
       "1       Medium\n",
       "2       Medium\n",
       "3       Medium\n",
       "4       Medium\n",
       "5       Medium\n",
       "         ...  \n",
       "1884    Medium\n",
       "1885    Medium\n",
       "1886      High\n",
       "1887    Medium\n",
       "1888    Medium\n",
       "Name: stim, Length: 1885, dtype: object"
      ]
     },
     "execution_count": 92,
     "metadata": {},
     "output_type": "execute_result"
    }
   ],
   "source": [
    "y= stimdf['stim'].map(lambda score: 'Low' if score == 0 else 'Medium' if score < 3 else 'High' )"
   ]
  },
  {
   "cell_type": "code",
   "execution_count": 101,
   "metadata": {},
   "outputs": [
    {
     "data": {
      "text/plain": [
       "KNeighborsClassifier(n_neighbors=7)"
      ]
     },
     "execution_count": 101,
     "metadata": {},
     "output_type": "execute_result"
    }
   ],
   "source": [
    "X = stimdf[[ 'Nscore', 'Escore', 'Oscore', 'Ascore','Cscore', 'Impulsive', 'SensationSeeking']]\n",
    "y= stimdf['stim'].map(lambda score: 'Low' if score == 0 else 'Medium' if score < 3 else 'High' )\n",
    "neigh = KNeighborsClassifier(n_neighbors=7)\n",
    "neigh.fit(X, y)"
   ]
  },
  {
   "cell_type": "code",
   "execution_count": 106,
   "metadata": {},
   "outputs": [
    {
     "data": {
      "text/plain": [
       "0.9101123595505618"
      ]
     },
     "execution_count": 106,
     "metadata": {},
     "output_type": "execute_result"
    }
   ],
   "source": [
    "X_train, X_test, y_train, y_test = train_test_split(X, y, test_size=0.33, random_state=42)\n",
    "neigh = KNeighborsClassifier(n_neighbors=5)\n",
    "neigh.fit(X_train, y_train)\n",
    "neigh.score(X_test,y_test)"
   ]
  },
  {
   "cell_type": "markdown",
   "metadata": {},
   "source": [
    "### Running Model"
   ]
  },
  {
   "cell_type": "markdown",
   "metadata": {},
   "source": [
    "## Getting outputs for our model"
   ]
  },
  {
   "cell_type": "code",
   "execution_count": 118,
   "metadata": {},
   "outputs": [
    {
     "name": "stdout",
     "output_type": "stream",
     "text": [
      "Enter your score for Nscore:50\n",
      "Enter your score for Escore:20\n",
      "Enter your score for Oscore:30\n",
      "Enter your score for Ascore:40\n",
      "Enter your score for Cscore:20\n",
      "Enter your score for Impulsive:10\n",
      "Enter your score for SensationSeeking:10\n"
     ]
    }
   ],
   "source": [
    "UserScores = []\n",
    "features = [ 'Nscore', 'Escore', 'Oscore', 'Ascore','Cscore', 'Impulsive', 'SensationSeeking']\n",
    "for Feature in features:\n",
    "    UserScores += [int(input(f'Enter your score for {Feature}:'))]\n"
   ]
  },
  {
   "cell_type": "code",
   "execution_count": 119,
   "metadata": {},
   "outputs": [
    {
     "data": {
      "text/plain": [
       "[50, 20, 30, 40, 20, 10, 10]"
      ]
     },
     "execution_count": 119,
     "metadata": {},
     "output_type": "execute_result"
    }
   ],
   "source": [
    "UserScores"
   ]
  },
  {
   "cell_type": "code",
   "execution_count": 120,
   "metadata": {},
   "outputs": [
    {
     "data": {
      "text/plain": [
       "array(['Medium'], dtype=object)"
      ]
     },
     "execution_count": 120,
     "metadata": {},
     "output_type": "execute_result"
    }
   ],
   "source": [
    "neigh.predict([UserScores])"
   ]
  },
  {
   "cell_type": "code",
   "execution_count": null,
   "metadata": {},
   "outputs": [],
   "source": []
  }
 ],
 "metadata": {
  "kernelspec": {
   "display_name": "Python 3",
   "language": "python",
   "name": "python3"
  },
  "language_info": {
   "codemirror_mode": {
    "name": "ipython",
    "version": 3
   },
   "file_extension": ".py",
   "mimetype": "text/x-python",
   "name": "python",
   "nbconvert_exporter": "python",
   "pygments_lexer": "ipython3",
   "version": "3.7.6"
  }
 },
 "nbformat": 4,
 "nbformat_minor": 4
}
